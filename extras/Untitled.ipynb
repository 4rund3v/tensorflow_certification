{
 "cells": [
  {
   "cell_type": "code",
   "execution_count": 2,
   "id": "820ca400",
   "metadata": {},
   "outputs": [
    {
     "data": {
      "text/plain": [
       "<generator object test_func at 0x7fc87783ddd0>"
      ]
     },
     "execution_count": 2,
     "metadata": {},
     "output_type": "execute_result"
    }
   ],
   "source": [
    "import os\n",
    "def test_func():\n",
    "    print(\"test_func -> data\")\n",
    "    a = yield\n",
    "    b = a.get_result()\n",
    "    print(\"B is :\", b)\n",
    "\n",
    "test_func()(test_result)"
   ]
  },
  {
   "cell_type": "code",
   "execution_count": 3,
   "id": "6d6d2733",
   "metadata": {},
   "outputs": [
    {
     "name": "stdout",
     "output_type": "stream",
     "text": [
      "test_func -> data\n",
      "None\n"
     ]
    },
    {
     "ename": "AttributeError",
     "evalue": "'NoneType' object has no attribute 'get_result'",
     "output_type": "error",
     "traceback": [
      "\u001b[0;31m---------------------------------------------------------------------------\u001b[0m",
      "\u001b[0;31mAttributeError\u001b[0m                            Traceback (most recent call last)",
      "Input \u001b[0;32mIn [3]\u001b[0m, in \u001b[0;36m<module>\u001b[0;34m\u001b[0m\n\u001b[0;32m----> 1\u001b[0m \u001b[38;5;28;01mfor\u001b[39;00m i \u001b[38;5;129;01min\u001b[39;00m test_func():\n\u001b[1;32m      2\u001b[0m     \u001b[38;5;28mprint\u001b[39m(i)\n",
      "Input \u001b[0;32mIn [2]\u001b[0m, in \u001b[0;36mtest_func\u001b[0;34m()\u001b[0m\n\u001b[1;32m      3\u001b[0m \u001b[38;5;28mprint\u001b[39m(\u001b[38;5;124m\"\u001b[39m\u001b[38;5;124mtest_func -> data\u001b[39m\u001b[38;5;124m\"\u001b[39m)\n\u001b[1;32m      4\u001b[0m a \u001b[38;5;241m=\u001b[39m \u001b[38;5;28;01myield\u001b[39;00m\n\u001b[0;32m----> 5\u001b[0m b \u001b[38;5;241m=\u001b[39m \u001b[43ma\u001b[49m\u001b[38;5;241;43m.\u001b[39;49m\u001b[43mget_result\u001b[49m()\n\u001b[1;32m      6\u001b[0m \u001b[38;5;28mprint\u001b[39m(\u001b[38;5;124m\"\u001b[39m\u001b[38;5;124mB is :\u001b[39m\u001b[38;5;124m\"\u001b[39m, b)\n",
      "\u001b[0;31mAttributeError\u001b[0m: 'NoneType' object has no attribute 'get_result'"
     ]
    }
   ],
   "source": [
    "for i in test_func():\n",
    "    print(i)"
   ]
  },
  {
   "cell_type": "code",
   "execution_count": null,
   "id": "ee03015f",
   "metadata": {},
   "outputs": [],
   "source": [
    "def pytest_runtest_makereport(item):\n",
    "    \"\"\"\n",
    "     Extends the PyTest Plugin to take and embed screenshot in html report, whenever test fails.\n",
    "     :param item:\n",
    "    \"\"\"\n",
    "    # get the pytest html\n",
    "    pytest_html = item.config.pluginmanager.getplugin('html')\n",
    "    # Ask for the outcome, when pytest tests the page/runs test\n",
    "    outcome = yield\n",
    "    # when the test ends/exception/errors, this line will be continued\n",
    "    report = outcome.get_result()\n",
    "    # \n",
    "    print(report.when)\n",
    "    # these are the extra details, usually collected by the pytest\n",
    "    extra = getattr(report, 'extra', [])\n",
    "    # if this was called when the pytest result parameter is invoked\n",
    "    if report.when == 'call' or report.when == \"setup\":\n",
    "        # in case the xfail is present, i.e. failed event \n",
    "        xfail = hasattr(report, 'wasxfail')\n",
    "        if (report.skipped and xfail) or (report.failed and not xfail):\n",
    "            file_name = report.name+\" ___\" + datetime.now()+\".png\"\n",
    "            _capture_screenshot(file_name)\n",
    "            if file_name:\n",
    "                html = '<div>\n",
    "                <img src=file_name alt=\"screenshot\" s%style=\"width:304px;height:228px;\" ' \\\n",
    "                       'onclick=\"window.open(this.src)\" align=\"right\"/>\n",
    "                </div>' % file_name\n",
    "                extra.append(pytest_html.extras.html(html))\n",
    "        report.extra = extra"
   ]
  },
  {
   "cell_type": "code",
   "execution_count": 4,
   "id": "92ab913c",
   "metadata": {},
   "outputs": [
    {
     "data": {
      "text/plain": [
       "UUID('dac39792-b22b-48f6-9ff5-c4a5a38dc202')"
      ]
     },
     "execution_count": 4,
     "metadata": {},
     "output_type": "execute_result"
    }
   ],
   "source": [
    "import uuid\n",
    "uuid.uuid4()"
   ]
  },
  {
   "cell_type": "code",
   "execution_count": null,
   "id": "f5acf72f",
   "metadata": {},
   "outputs": [],
   "source": []
  }
 ],
 "metadata": {
  "kernelspec": {
   "display_name": "Python 3 (ipykernel)",
   "language": "python",
   "name": "python3"
  },
  "language_info": {
   "codemirror_mode": {
    "name": "ipython",
    "version": 3
   },
   "file_extension": ".py",
   "mimetype": "text/x-python",
   "name": "python",
   "nbconvert_exporter": "python",
   "pygments_lexer": "ipython3",
   "version": "3.8.10"
  }
 },
 "nbformat": 4,
 "nbformat_minor": 5
}
