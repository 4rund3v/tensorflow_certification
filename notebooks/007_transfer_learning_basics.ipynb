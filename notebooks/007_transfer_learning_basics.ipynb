{
 "cells": [
  {
   "cell_type": "markdown",
   "id": "a1b921bb",
   "metadata": {},
   "source": [
    "Transfer Learning : Feature Extraction\n",
    "     Leveraging a working models existing architecture for our own problem"
   ]
  },
  {
   "cell_type": "code",
   "execution_count": 42,
   "id": "142a619c",
   "metadata": {},
   "outputs": [],
   "source": [
    "import tensorflow as tf\n",
    "import tensorflow_hub as hub\n",
    "import numpy as np\n",
    "import datetime as dt\n",
    "import matplotlib.pyplot as plt\n",
    "import os\n",
    "import sys\n",
    "import pandas as pd\n",
    "from tensorflow.keras.preprocessing.image import ImageDataGenerator"
   ]
  },
  {
   "cell_type": "code",
   "execution_count": 43,
   "id": "d7aff5d7",
   "metadata": {},
   "outputs": [
    {
     "name": "stdout",
     "output_type": "stream",
     "text": [
      "tacos --> 750\n",
      "ice_cream --> 750\n",
      "spring_rolls --> 750\n",
      "sushi --> 750\n",
      "ramen --> 750\n",
      "oysters --> 750\n",
      "hot_dog --> 750\n",
      "nachos --> 750\n",
      "samosa --> 750\n",
      "fried_rice --> 750\n",
      "hamburger --> 750\n",
      "donuts --> 750\n",
      "pizza --> 750\n",
      "omelette --> 750\n",
      "onion_rings --> 750\n",
      "steak --> 750\n",
      "tacos --> 250\n",
      "ice_cream --> 250\n",
      "spring_rolls --> 250\n",
      "sushi --> 250\n",
      "ramen --> 250\n",
      "oysters --> 250\n",
      "hot_dog --> 250\n",
      "nachos --> 250\n",
      "samosa --> 250\n",
      "fried_rice --> 250\n",
      "hamburger --> 250\n",
      "donuts --> 250\n",
      "pizza --> 250\n",
      "omelette --> 250\n",
      "onion_rings --> 250\n",
      "steak --> 250\n"
     ]
    }
   ],
   "source": [
    "DATASET_SOURCE = \"/home/arun/learn/tensorflow_certification/datasets/food_101/mini/\"\n",
    "CATEGORY = [\"train\", \"test\"]\n",
    "\n",
    "\n",
    "for i in CATEGORY:\n",
    "    for food_class in os.listdir(os.path.join(DATASET_SOURCE, i)):\n",
    "        print(f\"{food_class} --> {len(os.listdir(os.path.join(DATASET_SOURCE,i, food_class)))}\")"
   ]
  },
  {
   "cell_type": "code",
   "execution_count": 44,
   "id": "f5446caf",
   "metadata": {},
   "outputs": [
    {
     "name": "stdout",
     "output_type": "stream",
     "text": [
      "Found 12000 images belonging to 16 classes.\n",
      "Found 4000 images belonging to 16 classes.\n"
     ]
    }
   ],
   "source": [
    "tf.random.set_seed(42)\n",
    "\n",
    "IMAGE_SHAPE = (224, 224)\n",
    "BATCH_SIZE = 32\n",
    "EPOCHS = 5\n",
    "\n",
    "train_dir = os.path.join(DATASET_SOURCE, CATEGORY[0])\n",
    "test_dir = os.path.join(DATASET_SOURCE, CATEGORY[1])\n",
    "\n",
    "train_datagen = ImageDataGenerator(rescale=1/255.)\n",
    "test_datagen = ImageDataGenerator(rescale=1/255.)\n",
    "\n",
    "train_data = train_datagen.flow_from_directory(directory=train_dir,\n",
    "                                               target_size=IMAGE_SHAPE,\n",
    "                                               batch_size=BATCH_SIZE,\n",
    "                                               class_mode=\"categorical\")\n",
    "valid_data = test_datagen.flow_from_directory(directory=test_dir,\n",
    "                                             target_size=IMAGE_SHAPE,\n",
    "                                             batch_size=BATCH_SIZE,\n",
    "                                             class_mode=\"categorical\")"
   ]
  },
  {
   "cell_type": "code",
   "execution_count": 45,
   "id": "e7c110e6",
   "metadata": {},
   "outputs": [],
   "source": [
    "def create_tensorboard_callback(experiment_name, model_name):\n",
    "    log_dir = os.path.join(\"model_logs\", str(experiment_name),\n",
    "                           str(model_name), dt.datetime.now().strftime(\"%Y%m%d-%H%M%S\"))\n",
    "    tensorboard_callback = tf.keras.callbacks.TensorBoard(log_dir=log_dir)\n",
    "    print(f\"[create_tensorboard_callback] The log dir for tensorboard is : {log_dir}\")\n",
    "    return tensorboard_callback"
   ]
  },
  {
   "cell_type": "code",
   "execution_count": 37,
   "id": "fb942518",
   "metadata": {},
   "outputs": [],
   "source": [
    "# Tensorflow Hub : \n",
    "# efficient b0 feature vector : https://tfhub.dev/tensorflow/efficientnet/b0/feature-vector/1\n",
    "# resnet v2 50 feature vector : https://tfhub.dev/google/imagenet/resnet_v2_50/feature_vector/5"
   ]
  },
  {
   "cell_type": "code",
   "execution_count": 38,
   "id": "77b1d56e",
   "metadata": {},
   "outputs": [],
   "source": [
    "resnet_url = \"https://tfhub.dev/tensorflow/efficientnet/b0/feature-vector/1\"\n",
    "efficient_net_url = \"https://tfhub.dev/google/imagenet/resnet_v2_50/feature_vector/5\""
   ]
  },
  {
   "cell_type": "code",
   "execution_count": 39,
   "id": "0b3869bd",
   "metadata": {},
   "outputs": [],
   "source": [
    "def create_model_from_url(model_url: str, num_classes: int, model_name=\"sample\"):\n",
    "    \"\"\"\n",
    "     Creates a sequential model from the given url\n",
    "     returns a uncompiled model\n",
    "    \"\"\"\n",
    "    feature_extractor_layer = hub.KerasLayer(model_url, trainable=False,\n",
    "                                             name=\"feature_extractor_layer\",\n",
    "                                             input_shape=(224,224,3))\n",
    "    model = tf.keras.Sequential(layers=[\n",
    "        feature_extractor_layer,\n",
    "        tf.keras.layers.Dense(units=int(num_classes), activation=\"softmax\", name=\"output_layer\")\n",
    "    ], name=model_name)\n",
    "    return model"
   ]
  },
  {
   "cell_type": "code",
   "execution_count": 30,
   "id": "63badf19",
   "metadata": {},
   "outputs": [
    {
     "name": "stderr",
     "output_type": "stream",
     "text": [
      "2022-01-20 17:28:06.579853: I tensorflow/stream_executor/cuda/cuda_gpu_executor.cc:939] successful NUMA node read from SysFS had negative value (-1), but there must be at least one NUMA node, so returning NUMA node zero\n",
      "2022-01-20 17:28:06.587647: I tensorflow/stream_executor/cuda/cuda_gpu_executor.cc:939] successful NUMA node read from SysFS had negative value (-1), but there must be at least one NUMA node, so returning NUMA node zero\n",
      "2022-01-20 17:28:06.588084: I tensorflow/stream_executor/cuda/cuda_gpu_executor.cc:939] successful NUMA node read from SysFS had negative value (-1), but there must be at least one NUMA node, so returning NUMA node zero\n",
      "2022-01-20 17:28:06.588979: I tensorflow/core/platform/cpu_feature_guard.cc:151] This TensorFlow binary is optimized with oneAPI Deep Neural Network Library (oneDNN) to use the following CPU instructions in performance-critical operations:  AVX2 FMA\n",
      "To enable them in other operations, rebuild TensorFlow with the appropriate compiler flags.\n",
      "2022-01-20 17:28:06.589529: I tensorflow/stream_executor/cuda/cuda_gpu_executor.cc:939] successful NUMA node read from SysFS had negative value (-1), but there must be at least one NUMA node, so returning NUMA node zero\n",
      "2022-01-20 17:28:06.590494: I tensorflow/stream_executor/cuda/cuda_gpu_executor.cc:939] successful NUMA node read from SysFS had negative value (-1), but there must be at least one NUMA node, so returning NUMA node zero\n",
      "2022-01-20 17:28:06.590933: I tensorflow/stream_executor/cuda/cuda_gpu_executor.cc:939] successful NUMA node read from SysFS had negative value (-1), but there must be at least one NUMA node, so returning NUMA node zero\n",
      "2022-01-20 17:28:07.146747: I tensorflow/stream_executor/cuda/cuda_gpu_executor.cc:939] successful NUMA node read from SysFS had negative value (-1), but there must be at least one NUMA node, so returning NUMA node zero\n",
      "2022-01-20 17:28:07.147205: I tensorflow/stream_executor/cuda/cuda_gpu_executor.cc:939] successful NUMA node read from SysFS had negative value (-1), but there must be at least one NUMA node, so returning NUMA node zero\n",
      "2022-01-20 17:28:07.147784: I tensorflow/stream_executor/cuda/cuda_gpu_executor.cc:939] successful NUMA node read from SysFS had negative value (-1), but there must be at least one NUMA node, so returning NUMA node zero\n",
      "2022-01-20 17:28:07.148103: I tensorflow/core/common_runtime/gpu/gpu_device.cc:1525] Created device /job:localhost/replica:0/task:0/device:GPU:0 with 2046 MB memory:  -> device: 0, name: NVIDIA GeForce GTX 1650, pci bus id: 0000:01:00.0, compute capability: 7.5\n"
     ]
    }
   ],
   "source": [
    "resnet_model = create_model_from_url(resnet_url, 16, \"resnet_food_classifier\")"
   ]
  },
  {
   "cell_type": "code",
   "execution_count": 31,
   "id": "36cc612c",
   "metadata": {},
   "outputs": [
    {
     "name": "stdout",
     "output_type": "stream",
     "text": [
      "Model: \"resnet_food_classifier\"\n",
      "_________________________________________________________________\n",
      " Layer (type)                Output Shape              Param #   \n",
      "=================================================================\n",
      " feature_extractor_layer (Ke  (None, 1280)             4049564   \n",
      " rasLayer)                                                       \n",
      "                                                                 \n",
      " output_layer (Dense)        (None, 16)                20496     \n",
      "                                                                 \n",
      "=================================================================\n",
      "Total params: 4,070,060\n",
      "Trainable params: 20,496\n",
      "Non-trainable params: 4,049,564\n",
      "_________________________________________________________________\n"
     ]
    }
   ],
   "source": [
    "resnet_model.summary()"
   ]
  },
  {
   "cell_type": "code",
   "execution_count": 40,
   "id": "f6e201d8",
   "metadata": {},
   "outputs": [
    {
     "name": "stdout",
     "output_type": "stream",
     "text": [
      "[create_tensorboard_callback] The log dir for tensorboard is : model_logs/food_classifier/resnet_food_classifier/20220120-173332\n",
      "Epoch 1/5\n"
     ]
    },
    {
     "name": "stderr",
     "output_type": "stream",
     "text": [
      "2022-01-20 17:33:41.008857: I tensorflow/stream_executor/cuda/cuda_dnn.cc:366] Loaded cuDNN version 8202\n"
     ]
    },
    {
     "name": "stdout",
     "output_type": "stream",
     "text": [
      "375/375 [==============================] - 78s 175ms/step - loss: 0.9302 - accuracy: 0.7616 - val_loss: 0.4720 - val_accuracy: 0.8668\n",
      "Epoch 2/5\n",
      "375/375 [==============================] - 64s 172ms/step - loss: 0.5210 - accuracy: 0.8505 - val_loss: 0.3965 - val_accuracy: 0.8777\n",
      "Epoch 3/5\n",
      "375/375 [==============================] - 65s 173ms/step - loss: 0.4336 - accuracy: 0.8785 - val_loss: 0.3668 - val_accuracy: 0.8867\n",
      "Epoch 4/5\n",
      "375/375 [==============================] - 65s 173ms/step - loss: 0.3802 - accuracy: 0.8923 - val_loss: 0.3520 - val_accuracy: 0.8878\n",
      "Epoch 5/5\n",
      "375/375 [==============================] - 65s 172ms/step - loss: 0.3415 - accuracy: 0.9042 - val_loss: 0.3379 - val_accuracy: 0.8925\n"
     ]
    }
   ],
   "source": [
    "resnet_model.compile(loss=tf.keras.losses.CategoricalCrossentropy(),\n",
    "               optimizer=tf.keras.optimizers.Adam(),\n",
    "               metrics=[\"accuracy\"])\n",
    "resnet_history = resnet_model.fit(train_data,\n",
    "                                  epochs=5,\n",
    "                                  callbacks=[create_tensorboard_callback(\"food_classifier\", \"resnet_food_classifier\")],\n",
    "                                  validation_data=valid_data,\n",
    "                                  steps_per_epoch=len(train_data),\n",
    "                                  validation_steps=len(valid_data))"
   ]
  },
  {
   "cell_type": "code",
   "execution_count": 46,
   "id": "6659c6ad",
   "metadata": {},
   "outputs": [
    {
     "data": {
      "text/plain": [
       "Text(0.5, 0, 'epochs')"
      ]
     },
     "execution_count": 46,
     "metadata": {},
     "output_type": "execute_result"
    },
    {
     "data": {
      "image/png": "[encoded data removed]",
      "text/plain": [
       "<Figure size 432x288 with 1 Axes>"
      ]
     },
     "metadata": {
      "needs_background": "light"
     },
     "output_type": "display_data"
    }
   ],
   "source": [
    "pd.DataFrame(resnet_history.history).plot()\n",
    "plt.xlabel(\"epochs\")"
   ]
  },
  {
   "cell_type": "code",
   "execution_count": 55,
   "id": "8cd8a5e1",
   "metadata": {},
   "outputs": [],
   "source": [
    "# Efficient net model\n",
    "efficient_net_model = create_model_from_url(efficient_net_url, 16, \"efficent_net_food_classifier\")"
   ]
  },
  {
   "cell_type": "code",
   "execution_count": 58,
   "id": "2af6a89b",
   "metadata": {},
   "outputs": [
    {
     "name": "stdout",
     "output_type": "stream",
     "text": [
      "Model: \"efficent_net_food_classifier\"\n",
      "_________________________________________________________________\n",
      " Layer (type)                Output Shape              Param #   \n",
      "=================================================================\n",
      " feature_extractor_layer (Ke  (None, 2048)             23564800  \n",
      " rasLayer)                                                       \n",
      "                                                                 \n",
      " output_layer (Dense)        (None, 16)                32784     \n",
      "                                                                 \n",
      "=================================================================\n",
      "Total params: 23,597,584\n",
      "Trainable params: 32,784\n",
      "Non-trainable params: 23,564,800\n",
      "_________________________________________________________________\n"
     ]
    }
   ],
   "source": [
    "efficient_net_model.compile(loss=tf.keras.losses.CategoricalCrossentropy(),\n",
    "                            optimizer=tf.keras.optimizers.Adam(),\n",
    "                            metrics=[\"accuracy\"])\n",
    "efficient_net_model.summary()"
   ]
  },
  {
   "cell_type": "code",
   "execution_count": 60,
   "id": "8b2ffd31",
   "metadata": {},
   "outputs": [
    {
     "name": "stdout",
     "output_type": "stream",
     "text": [
      "[create_tensorboard_callback] The log dir for tensorboard is : model_logs/food_classifier/efficientNet_food_classifier/20220120-174815\n",
      "Epoch 1/5\n"
     ]
    },
    {
     "name": "stderr",
     "output_type": "stream",
     "text": [
      "2022-01-20 17:48:20.099672: W tensorflow/core/common_runtime/bfc_allocator.cc:275] Allocator (GPU_0_bfc) ran out of memory trying to allocate 2.30GiB with freed_by_count=0. The caller indicates that this is not a failure, but may mean that there could be performance gains if more memory were available.\n",
      "2022-01-20 17:48:20.099760: W tensorflow/core/common_runtime/bfc_allocator.cc:275] Allocator (GPU_0_bfc) ran out of memory trying to allocate 2.30GiB with freed_by_count=0. The caller indicates that this is not a failure, but may mean that there could be performance gains if more memory were available.\n",
      "2022-01-20 17:48:20.161242: W tensorflow/core/common_runtime/bfc_allocator.cc:275] Allocator (GPU_0_bfc) ran out of memory trying to allocate 2.41GiB with freed_by_count=0. The caller indicates that this is not a failure, but may mean that there could be performance gains if more memory were available.\n",
      "2022-01-20 17:48:20.161330: W tensorflow/core/common_runtime/bfc_allocator.cc:275] Allocator (GPU_0_bfc) ran out of memory trying to allocate 2.41GiB with freed_by_count=0. The caller indicates that this is not a failure, but may mean that there could be performance gains if more memory were available.\n"
     ]
    },
    {
     "name": "stdout",
     "output_type": "stream",
     "text": [
      "375/375 [==============================] - 96s 242ms/step - loss: 1.0758 - accuracy: 0.6788 - val_loss: 0.6593 - val_accuracy: 0.7950\n",
      "Epoch 2/5\n",
      "375/375 [==============================] - 89s 238ms/step - loss: 0.6712 - accuracy: 0.7987 - val_loss: 0.6085 - val_accuracy: 0.8163\n",
      "Epoch 3/5\n",
      "375/375 [==============================] - 87s 231ms/step - loss: 0.5455 - accuracy: 0.8317 - val_loss: 0.5999 - val_accuracy: 0.8207\n",
      "Epoch 4/5\n",
      "375/375 [==============================] - 78s 209ms/step - loss: 0.4690 - accuracy: 0.8547 - val_loss: 0.6101 - val_accuracy: 0.8112\n",
      "Epoch 5/5\n",
      "375/375 [==============================] - 81s 216ms/step - loss: 0.4064 - accuracy: 0.8784 - val_loss: 0.6080 - val_accuracy: 0.8138\n"
     ]
    }
   ],
   "source": [
    "efficient_net_history = efficient_net_model.fit(train_data,\n",
    "                                               epochs=5,\n",
    "                                               callbacks=[create_tensorboard_callback(\"food_classifier\", \"efficientNet_food_classifier\")],\n",
    "                                               validation_data=valid_data,\n",
    "                                               steps_per_epoch=len(train_data),\n",
    "                                               validation_steps=len(valid_data))"
   ]
  },
  {
   "cell_type": "code",
   "execution_count": 61,
   "id": "9ac11461",
   "metadata": {},
   "outputs": [
    {
     "data": {
      "text/plain": [
       "Text(0.5, 0, 'epochs')"
      ]
     },
     "execution_count": 61,
     "metadata": {},
     "output_type": "execute_result"
    },
    {
     "data": {
      "image/png": "[encoded data removed]",
      "text/plain": [
       "<Figure size 432x288 with 1 Axes>"
      ]
     },
     "metadata": {
      "needs_background": "light"
     },
     "output_type": "display_data"
    }
   ],
   "source": [
    "pd.DataFrame(efficient_net_history.history).plot()\n",
    "plt.xlabel(\"epochs\")"
   ]
  },
  {
   "cell_type": "markdown",
   "id": "16a19b8b",
   "metadata": {},
   "source": [
    "# Fine tuning"
   ]
  },
  {
   "cell_type": "code",
   "execution_count": 73,
   "id": "37cc54d9",
   "metadata": {},
   "outputs": [],
   "source": [
    "MINI_DATASET_SOURCE = '/home/arun/learn/tensorflow_certification/datasets/food_101/mini_10/'\n",
    "train_dir = os.path.join(MINI_DATASET_SOURCE, \"train\")\n",
    "test_dir = os.path.join(MINI_DATASET_SOURCE, \"test\")"
   ]
  },
  {
   "cell_type": "code",
   "execution_count": 74,
   "id": "f5862a86",
   "metadata": {},
   "outputs": [
    {
     "name": "stdout",
     "output_type": "stream",
     "text": [
      "/home/arun/learn/tensorflow_certification/datasets/food_101/mini_10/test\n",
      "/home/arun/learn/tensorflow_certification/datasets/food_101/mini_10/test\n"
     ]
    }
   ],
   "source": [
    "print(test_dir)\n",
    "print(test_dir)"
   ]
  },
  {
   "cell_type": "code",
   "execution_count": 75,
   "id": "d76e602b",
   "metadata": {},
   "outputs": [
    {
     "name": "stdout",
     "output_type": "stream",
     "text": [
      "Found 1200 files belonging to 16 classes.\n",
      "Found 4000 files belonging to 16 classes.\n"
     ]
    }
   ],
   "source": [
    "train_data = tf.keras.preprocessing.image_dataset_from_directory(directory=train_dir,\n",
    "                                                               image_size=(224,224),\n",
    "                                                               label_mode=\"categorical\",\n",
    "                                                               batch_size=32\n",
    "                                                              )\n",
    "test_data = tf.keras.preprocessing.image_dataset_from_directory(directory=test_dir,\n",
    "                                                                image_size=(224,224),\n",
    "                                                                label_mode=\"categorical\",\n",
    "                                                                batch_size=32)"
   ]
  },
  {
   "cell_type": "code",
   "execution_count": 76,
   "id": "dd8098f4",
   "metadata": {},
   "outputs": [
    {
     "data": {
      "text/plain": [
       "['donuts',\n",
       " 'fried_rice',\n",
       " 'hamburger',\n",
       " 'hot_dog',\n",
       " 'ice_cream',\n",
       " 'nachos',\n",
       " 'omelette',\n",
       " 'onion_rings',\n",
       " 'oysters',\n",
       " 'pizza',\n",
       " 'ramen',\n",
       " 'samosa',\n",
       " 'spring_rolls',\n",
       " 'steak',\n",
       " 'sushi',\n",
       " 'tacos']"
      ]
     },
     "execution_count": 76,
     "metadata": {},
     "output_type": "execute_result"
    }
   ],
   "source": [
    "train_data.class_names"
   ]
  },
  {
   "cell_type": "code",
   "execution_count": null,
   "id": "a90a9c36",
   "metadata": {},
   "outputs": [],
   "source": [
    "# model being built via functional\n",
    "\n"
   ]
  }
 ],
 "metadata": {
  "kernelspec": {
   "display_name": "Python 3 (ipykernel)",
   "language": "python",
   "name": "python3"
  },
  "language_info": {
   "codemirror_mode": {
    "name": "ipython",
    "version": 3
   },
   "file_extension": ".py",
   "mimetype": "text/x-python",
   "name": "python",
   "nbconvert_exporter": "python",
   "pygments_lexer": "ipython3",
   "version": "3.8.10"
  }
 },
 "nbformat": 4,
 "nbformat_minor": 5
}
