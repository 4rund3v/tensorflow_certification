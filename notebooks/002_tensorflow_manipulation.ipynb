{
 "cells": [
  {
   "cell_type": "code",
   "execution_count": 1,
   "id": "c4e07bc5",
   "metadata": {},
   "outputs": [],
   "source": [
    "import tensorflow as tf\n",
    "import numpy as np"
   ]
  },
  {
   "cell_type": "code",
   "execution_count": 2,
   "id": "fefc7c08",
   "metadata": {},
   "outputs": [
    {
     "name": "stderr",
     "output_type": "stream",
     "text": [
      "2022-01-17 14:22:43.619342: I tensorflow/stream_executor/cuda/cuda_gpu_executor.cc:939] successful NUMA node read from SysFS had negative value (-1), but there must be at least one NUMA node, so returning NUMA node zero\n"
     ]
    },
    {
     "data": {
      "text/plain": [
       "(TensorShape([2, 2]),\n",
       " 2,\n",
       " <tf.Tensor: shape=(2, 2), dtype=float16, numpy=\n",
       " array([[12.97, 75.56],\n",
       "        [13.31, 75.75]], dtype=float16)>)"
      ]
     },
     "execution_count": 2,
     "metadata": {},
     "output_type": "execute_result"
    },
    {
     "name": "stderr",
     "output_type": "stream",
     "text": [
      "2022-01-17 14:22:43.629865: I tensorflow/stream_executor/cuda/cuda_gpu_executor.cc:939] successful NUMA node read from SysFS had negative value (-1), but there must be at least one NUMA node, so returning NUMA node zero\n",
      "2022-01-17 14:22:43.630455: I tensorflow/stream_executor/cuda/cuda_gpu_executor.cc:939] successful NUMA node read from SysFS had negative value (-1), but there must be at least one NUMA node, so returning NUMA node zero\n",
      "2022-01-17 14:22:43.631813: I tensorflow/core/platform/cpu_feature_guard.cc:151] This TensorFlow binary is optimized with oneAPI Deep Neural Network Library (oneDNN) to use the following CPU instructions in performance-critical operations:  AVX2 FMA\n",
      "To enable them in other operations, rebuild TensorFlow with the appropriate compiler flags.\n",
      "2022-01-17 14:22:43.632672: I tensorflow/stream_executor/cuda/cuda_gpu_executor.cc:939] successful NUMA node read from SysFS had negative value (-1), but there must be at least one NUMA node, so returning NUMA node zero\n",
      "2022-01-17 14:22:43.633244: I tensorflow/stream_executor/cuda/cuda_gpu_executor.cc:939] successful NUMA node read from SysFS had negative value (-1), but there must be at least one NUMA node, so returning NUMA node zero\n",
      "2022-01-17 14:22:43.633749: I tensorflow/stream_executor/cuda/cuda_gpu_executor.cc:939] successful NUMA node read from SysFS had negative value (-1), but there must be at least one NUMA node, so returning NUMA node zero\n",
      "2022-01-17 14:22:44.370058: I tensorflow/stream_executor/cuda/cuda_gpu_executor.cc:939] successful NUMA node read from SysFS had negative value (-1), but there must be at least one NUMA node, so returning NUMA node zero\n",
      "2022-01-17 14:22:44.370583: I tensorflow/stream_executor/cuda/cuda_gpu_executor.cc:939] successful NUMA node read from SysFS had negative value (-1), but there must be at least one NUMA node, so returning NUMA node zero\n",
      "2022-01-17 14:22:44.371100: I tensorflow/stream_executor/cuda/cuda_gpu_executor.cc:939] successful NUMA node read from SysFS had negative value (-1), but there must be at least one NUMA node, so returning NUMA node zero\n",
      "2022-01-17 14:22:44.371544: I tensorflow/core/common_runtime/gpu/gpu_device.cc:1525] Created device /job:localhost/replica:0/task:0/device:GPU:0 with 1944 MB memory:  -> device: 0, name: NVIDIA GeForce GTX 1650, pci bus id: 0000:01:00.0, compute capability: 7.5\n"
     ]
    }
   ],
   "source": [
    "locations = tf.constant([[12.97, 75.58],\n",
    "                         [13.31, 75.77]],\n",
    "                        dtype=tf.float16,\n",
    "                        name=\"locations\")\n",
    "locations.shape, locations.ndim, locations"
   ]
  },
  {
   "cell_type": "code",
   "execution_count": 5,
   "id": "ce753e26",
   "metadata": {},
   "outputs": [
    {
     "data": {
      "text/plain": [
       "<tf.Tensor: shape=(2, 2), dtype=float16, numpy=\n",
       "array([[22.97, 85.56],\n",
       "       [23.31, 85.75]], dtype=float16)>"
      ]
     },
     "execution_count": 5,
     "metadata": {},
     "output_type": "execute_result"
    }
   ],
   "source": [
    "locations + 10"
   ]
  },
  {
   "cell_type": "code",
   "execution_count": 6,
   "id": "7d30df97",
   "metadata": {},
   "outputs": [
    {
     "data": {
      "text/plain": [
       "<tf.Tensor: shape=(2, 2), dtype=float16, numpy=\n",
       "array([[ 2.969, 65.56 ],\n",
       "       [ 3.312, 65.75 ]], dtype=float16)>"
      ]
     },
     "execution_count": 6,
     "metadata": {},
     "output_type": "execute_result"
    }
   ],
   "source": [
    "locations - 10"
   ]
  },
  {
   "cell_type": "code",
   "execution_count": 7,
   "id": "ffdd51b0",
   "metadata": {},
   "outputs": [
    {
     "data": {
      "text/plain": [
       "<tf.Tensor: shape=(2, 2), dtype=float16, numpy=\n",
       "array([[22.97, 85.56],\n",
       "       [23.31, 85.75]], dtype=float16)>"
      ]
     },
     "execution_count": 7,
     "metadata": {},
     "output_type": "execute_result"
    }
   ],
   "source": [
    "tf.add(locations, 10)"
   ]
  },
  {
   "cell_type": "code",
   "execution_count": 8,
   "id": "20857bd4",
   "metadata": {},
   "outputs": [
    {
     "data": {
      "text/plain": [
       "<tf.Tensor: shape=(2, 2), dtype=float16, numpy=\n",
       "array([[ 25.94, 151.1 ],\n",
       "       [ 26.62, 151.5 ]], dtype=float16)>"
      ]
     },
     "execution_count": 8,
     "metadata": {},
     "output_type": "execute_result"
    }
   ],
   "source": [
    "locations*2"
   ]
  },
  {
   "cell_type": "code",
   "execution_count": 9,
   "id": "4081e413",
   "metadata": {},
   "outputs": [
    {
     "data": {
      "text/plain": [
       "<tf.Tensor: shape=(2, 2), dtype=float16, numpy=\n",
       "array([[ 25.94, 151.1 ],\n",
       "       [ 26.62, 151.5 ]], dtype=float16)>"
      ]
     },
     "execution_count": 9,
     "metadata": {},
     "output_type": "execute_result"
    }
   ],
   "source": [
    "# Tf. multiply uses the element wise multiplication\n",
    "# Use when multiplying the matrices with the scalars\n",
    "tf.multiply(locations, 2)\n"
   ]
  },
  {
   "cell_type": "code",
   "execution_count": 13,
   "id": "b8708c43",
   "metadata": {},
   "outputs": [
    {
     "name": "stdout",
     "output_type": "stream",
     "text": [
      "tf.Tensor(\n",
      "[[12.97 75.56]\n",
      " [13.31 75.75]], shape=(2, 2), dtype=float16)\n"
     ]
    },
    {
     "data": {
      "text/plain": [
       "<tf.Tensor: shape=(2, 2), dtype=float16, numpy=\n",
       "array([[ 168.2, 5708. ],\n",
       "       [ 177.2, 5740. ]], dtype=float16)>"
      ]
     },
     "execution_count": 13,
     "metadata": {},
     "output_type": "execute_result"
    }
   ],
   "source": [
    "# Element Wise multiplication\n",
    "print(locations)\n",
    "locations*locations"
   ]
  },
  {
   "cell_type": "code",
   "execution_count": 10,
   "id": "eaa3905d",
   "metadata": {},
   "outputs": [
    {
     "data": {
      "text/plain": [
       "<tf.Tensor: shape=(2, 2), dtype=float16, numpy=\n",
       "array([[1174., 6704.],\n",
       "       [1181., 6744.]], dtype=float16)>"
      ]
     },
     "execution_count": 10,
     "metadata": {},
     "output_type": "execute_result"
    }
   ],
   "source": [
    "# Tf.matmul uses the matrix multiplication \n",
    "# Use when multiplying the matrices with the matrices\n",
    "tf.matmul(locations, locations)"
   ]
  },
  {
   "cell_type": "code",
   "execution_count": 12,
   "id": "8a388437",
   "metadata": {},
   "outputs": [
    {
     "data": {
      "text/plain": [
       "<tf.Tensor: shape=(2, 2), dtype=float16, numpy=\n",
       "array([[1174., 6704.],\n",
       "       [1181., 6744.]], dtype=float16)>"
      ]
     },
     "execution_count": 12,
     "metadata": {},
     "output_type": "execute_result"
    }
   ],
   "source": [
    "# Similar to matrix multiplication, the @ symbol does the matrix multiplication\n",
    "locations @ locations"
   ]
  },
  {
   "cell_type": "code",
   "execution_count": 14,
   "id": "f80eb934",
   "metadata": {},
   "outputs": [
    {
     "name": "stdout",
     "output_type": "stream",
     "text": [
      "tf.Tensor(\n",
      "[[1 2 3]\n",
      " [4 5 6]], shape=(2, 3), dtype=int32) (2, 3) 2\n"
     ]
    }
   ],
   "source": [
    "A = tf.constant([[1,2,3],\n",
    "                [4,5,6]])\n",
    "print(A, A.shape, A.ndim)"
   ]
  },
  {
   "cell_type": "code",
   "execution_count": 17,
   "id": "788a5293",
   "metadata": {},
   "outputs": [
    {
     "name": "stdout",
     "output_type": "stream",
     "text": [
      "tf.Tensor(\n",
      "[[1 2]\n",
      " [3 4]\n",
      " [5 6]], shape=(3, 2), dtype=int32) (3, 2) 2\n"
     ]
    }
   ],
   "source": [
    "B = tf.constant([[1,2], [3,4],[5,6]])\n",
    "print(B, B.shape,B.ndim)"
   ]
  },
  {
   "cell_type": "code",
   "execution_count": 18,
   "id": "61c38ed9",
   "metadata": {},
   "outputs": [
    {
     "data": {
      "text/plain": [
       "<tf.Tensor: shape=(2, 2), dtype=int32, numpy=\n",
       "array([[22, 28],\n",
       "       [49, 64]], dtype=int32)>"
      ]
     },
     "execution_count": 18,
     "metadata": {},
     "output_type": "execute_result"
    }
   ],
   "source": [
    "A @ B"
   ]
  },
  {
   "cell_type": "code",
   "execution_count": 19,
   "id": "e3e9aa5e",
   "metadata": {},
   "outputs": [
    {
     "data": {
      "text/plain": [
       "<tf.Tensor: shape=(2, 2), dtype=int32, numpy=\n",
       "array([[22, 28],\n",
       "       [49, 64]], dtype=int32)>"
      ]
     },
     "execution_count": 19,
     "metadata": {},
     "output_type": "execute_result"
    }
   ],
   "source": [
    "tf.matmul(A, B)"
   ]
  },
  {
   "cell_type": "code",
   "execution_count": 21,
   "id": "bfeeeb7a",
   "metadata": {},
   "outputs": [
    {
     "data": {
      "text/plain": [
       "<tf.Tensor: shape=(3, 3), dtype=int32, numpy=\n",
       "array([[1, 2, 3],\n",
       "       [4, 5, 6],\n",
       "       [7, 8, 9]], dtype=int32)>"
      ]
     },
     "execution_count": 21,
     "metadata": {},
     "output_type": "execute_result"
    }
   ],
   "source": [
    "C = tf.constant([[1,2,3],[4,5,6],[7,8,9]])\n",
    "C"
   ]
  },
  {
   "cell_type": "code",
   "execution_count": 22,
   "id": "a0700f34",
   "metadata": {},
   "outputs": [
    {
     "data": {
      "text/plain": [
       "<tf.Tensor: shape=(2, 3), dtype=int32, numpy=\n",
       "array([[30, 36, 42],\n",
       "       [66, 81, 96]], dtype=int32)>"
      ]
     },
     "execution_count": 22,
     "metadata": {},
     "output_type": "execute_result"
    }
   ],
   "source": [
    "tf.matmul(A, C)"
   ]
  },
  {
   "cell_type": "markdown",
   "id": "82cfb4de",
   "metadata": {},
   "source": [
    "tf.matmul(B, C)\n",
    "# Will fail as multiplication between 3x2 & 3x3\n",
    "# The inner columns count must match"
   ]
  },
  {
   "cell_type": "code",
   "execution_count": 29,
   "id": "e4b20785",
   "metadata": {},
   "outputs": [
    {
     "name": "stdout",
     "output_type": "stream",
     "text": [
      "tf.Tensor(\n",
      "[[30 36 42]\n",
      " [66 81 96]], shape=(2, 3), dtype=int32) (2, 3) (3, 3)\n"
     ]
    }
   ],
   "source": [
    "res = tf.matmul(tf.reshape(B, shape=(2,3)), C)\n",
    "print(res, tf.reshape(B, shape=(2,3)).shape, C.shape)"
   ]
  },
  {
   "cell_type": "code",
   "execution_count": 32,
   "id": "476ecd19",
   "metadata": {},
   "outputs": [
    {
     "data": {
      "text/plain": [
       "<tf.Tensor: shape=(3, 2), dtype=int32, numpy=\n",
       "array([[1, 2],\n",
       "       [3, 4],\n",
       "       [5, 6]], dtype=int32)>"
      ]
     },
     "execution_count": 32,
     "metadata": {},
     "output_type": "execute_result"
    }
   ],
   "source": [
    "B"
   ]
  },
  {
   "cell_type": "code",
   "execution_count": 31,
   "id": "f9615734",
   "metadata": {},
   "outputs": [
    {
     "data": {
      "text/plain": [
       "<tf.Tensor: shape=(2, 3), dtype=int32, numpy=\n",
       "array([[1, 2, 3],\n",
       "       [4, 5, 6]], dtype=int32)>"
      ]
     },
     "execution_count": 31,
     "metadata": {},
     "output_type": "execute_result"
    }
   ],
   "source": [
    "tf.reshape(B, shape=(2,3))"
   ]
  },
  {
   "cell_type": "code",
   "execution_count": 28,
   "id": "2fc61ff3",
   "metadata": {},
   "outputs": [
    {
     "data": {
      "text/plain": [
       "<tf.Tensor: shape=(2, 3), dtype=int32, numpy=\n",
       "array([[1, 3, 5],\n",
       "       [2, 4, 6]], dtype=int32)>"
      ]
     },
     "execution_count": 28,
     "metadata": {},
     "output_type": "execute_result"
    }
   ],
   "source": [
    "tf.transpose(B)"
   ]
  },
  {
   "cell_type": "code",
   "execution_count": 30,
   "id": "18d83edc",
   "metadata": {},
   "outputs": [
    {
     "name": "stdout",
     "output_type": "stream",
     "text": [
      "tf.Tensor(\n",
      "[[30 36 42]\n",
      " [66 81 96]], shape=(2, 3), dtype=int32) (2, 3) (3, 3)\n"
     ]
    }
   ],
   "source": [
    "res2 = tf.matmul(tf.transpose(B), C)\n",
    "print(res, tf.transpose(B).shape,  C.shape)\n"
   ]
  },
  {
   "cell_type": "markdown",
   "id": "b5bd1118",
   "metadata": {},
   "source": [
    "##### Use Transpose ( flip the axes) rather than reshape"
   ]
  },
  {
   "cell_type": "code",
   "execution_count": 50,
   "id": "269c4df5",
   "metadata": {},
   "outputs": [
    {
     "name": "stdout",
     "output_type": "stream",
     "text": [
      "tf.Tensor(\n",
      "[-30 -29 -28 -27 -26 -25 -24 -23 -22 -21 -20 -19 -18 -17 -16 -15 -14 -13\n",
      " -12 -11 -10  -9  -8  -7  -6  -5  -4  -3  -2  -1   0   1   2   3   4   5\n",
      "   6   7   8   9  10  11  12  13  14  15  16  17  18  19  20  21  22  23\n",
      "  24  25  26  27  28  29], shape=(60,), dtype=int64) tf.Tensor(\n",
      "[30 29 28 27 26 25 24 23 22 21 20 19 18 17 16 15 14 13 12 11 10  9  8  7\n",
      "  6  5  4  3  2  1  0  1  2  3  4  5  6  7  8  9 10 11 12 13 14 15 16 17\n",
      " 18 19 20 21 22 23 24 25 26 27 28 29], shape=(60,), dtype=int64)\n"
     ]
    }
   ],
   "source": [
    "# Finding the max, min, stadard deviation, variance\n",
    "P = tf.constant(np.arange(-30, 30), name=\"Points\")\n",
    "print(P, tf.abs(P))"
   ]
  },
  {
   "cell_type": "code",
   "execution_count": 55,
   "id": "fa2c63a3",
   "metadata": {},
   "outputs": [
    {
     "name": "stdout",
     "output_type": "stream",
     "text": [
      "Minimum :  tf.Tensor(-30, shape=(), dtype=int64)\n",
      "Maximum :  tf.Tensor(29, shape=(), dtype=int64)\n",
      "Sum :  tf.Tensor(-30, shape=(), dtype=int64)\n",
      "Mean :  tf.Tensor(29, shape=(), dtype=int64)\n",
      "Variance :  tf.Tensor(300, shape=(), dtype=int64)\n",
      "Variance :  tf.Tensor(299.8, shape=(), dtype=float16)\n",
      "Standard Deviation :  tf.Tensor(17.31, shape=(), dtype=float16)\n"
     ]
    }
   ],
   "source": [
    "# Note the variance in the tensorflow probability library\n",
    "import tensorflow_probability as tfp\n",
    "# The standard deviation function uses the tensor of type float type\n",
    "# The math library also has the variance \n",
    "\n",
    "# Minimum\n",
    "print(\"Minimum : \", tf.reduce_min(P))\n",
    "# Maximum\n",
    "print(\"Maximum : \", tf.reduce_max(P))\n",
    "# Sum\n",
    "print(\"Sum : \", tf.reduce_sum(P))\n",
    "# Mean\n",
    "print(\"Mean : \", tf.reduce_max(P))\n",
    "\n",
    "# Variance\n",
    "print(\"Variance : \", tfp.stats.variance(P))\n",
    "# Variance in the math lib\n",
    "print(\"Math Variance : \", tf.math.reduce_variance(tf.cast(P, dtype=tf.float16)))\n",
    "\n",
    "# Standard Deviation\n",
    "print(\"Math : Standard Deviation : \", tf.math.reduce_std(tf.cast(P, dtype=tf.float16)))\n"
   ]
  },
  {
   "cell_type": "code",
   "execution_count": 61,
   "id": "b9c2489e",
   "metadata": {},
   "outputs": [
    {
     "name": "stdout",
     "output_type": "stream",
     "text": [
      "tf.Tensor(\n",
      "[-22 -20  26  21  -7   7  17 -18 -23  15  18   6 -26  -6   0  -4  29  11\n",
      "  25  -8 -27 -19  24  12  -9 -12  -1 -21  10 -30  27  14  -3  28   2  22\n",
      " -13 -14 -16 -15   4 -28  23  19  16   3 -24 -11 -10   5  -2 -25 -17   8\n",
      "   1 -29  20   9  13  -5], shape=(60,), dtype=int64)\n"
     ]
    }
   ],
   "source": [
    "# positional max, min\n",
    "tf.random.set_seed(100)\n",
    "Q = tf.random.shuffle(P)\n",
    "print(Q)"
   ]
  },
  {
   "cell_type": "code",
   "execution_count": 67,
   "id": "8cfb8257",
   "metadata": {},
   "outputs": [
    {
     "name": "stdout",
     "output_type": "stream",
     "text": [
      "Max Position is ::  tf.Tensor(16, shape=(), dtype=int64)\n",
      "Max Value is ::  tf.Tensor(29, shape=(), dtype=int64)\n",
      "tf.Tensor(True, shape=(), dtype=bool)\n"
     ]
    }
   ],
   "source": [
    "print(\"Max Position is :: \",tf.argmax(Q), )\n",
    "print(\"Max Value is :: \",Q[16])\n",
    "print(Q[tf.argmax(Q)] == tf.reduce_max(Q))"
   ]
  },
  {
   "cell_type": "code",
   "execution_count": 69,
   "id": "7af266bb",
   "metadata": {},
   "outputs": [
    {
     "name": "stdout",
     "output_type": "stream",
     "text": [
      "Min Position is ::  tf.Tensor(29, shape=(), dtype=int64)\n",
      "Min Value is ::  tf.Tensor(-30, shape=(), dtype=int64)\n",
      "tf.Tensor(True, shape=(), dtype=bool)\n"
     ]
    }
   ],
   "source": [
    "print(\"Min Position is :: \",tf.argmin(Q), )\n",
    "print(\"Min Value is :: \",Q[29])\n",
    "print(Q[tf.argmin(Q)] == tf.reduce_min(Q))"
   ]
  },
  {
   "cell_type": "code",
   "execution_count": 77,
   "id": "715ae411",
   "metadata": {},
   "outputs": [
    {
     "name": "stdout",
     "output_type": "stream",
     "text": [
      "tf.Tensor(\n",
      "[[[[-0.01728362 -1.1931074  -0.43164262 -0.27097437 -0.2553166\n",
      "    -0.6153051   0.75505924 -1.4303387   2.5166614   0.00741944\n",
      "     0.57688767 -2.023734    1.1158017   0.12886627 -0.13360472\n",
      "     0.47684544  0.48761976  1.5617888   0.5189699  -0.06123443\n",
      "    -0.59523624 -0.5900524   0.5511933  -0.4449501  -1.2182286\n",
      "    -1.407972    0.29299062 -0.897691    0.18440363  1.597959\n",
      "    -0.5355442   0.7986791  -2.0907233  -1.5609344  -0.21828228\n",
      "     0.55202174  0.39911115  2.4980643  -1.4632348   0.08087946\n",
      "     1.0713995  -0.6494796  -0.3699775   0.06696595  0.50597364\n",
      "    -1.1123779  -0.646951    0.07662649 -1.8027563   1.0992827 ]]]], shape=(1, 1, 1, 50), dtype=float32) 4 (1, 1, 1, 50)\n",
      "tf.Tensor(\n",
      "[-0.01728362 -1.1931074  -0.43164262 -0.27097437 -0.2553166  -0.6153051\n",
      "  0.75505924 -1.4303387   2.5166614   0.00741944  0.57688767 -2.023734\n",
      "  1.1158017   0.12886627 -0.13360472  0.47684544  0.48761976  1.5617888\n",
      "  0.5189699  -0.06123443 -0.59523624 -0.5900524   0.5511933  -0.4449501\n",
      " -1.2182286  -1.407972    0.29299062 -0.897691    0.18440363  1.597959\n",
      " -0.5355442   0.7986791  -2.0907233  -1.5609344  -0.21828228  0.55202174\n",
      "  0.39911115  2.4980643  -1.4632348   0.08087946  1.0713995  -0.6494796\n",
      " -0.3699775   0.06696595  0.50597364 -1.1123779  -0.646951    0.07662649\n",
      " -1.8027563   1.0992827 ], shape=(50,), dtype=float32)\n"
     ]
    }
   ],
   "source": [
    "# Squeezing Tensors\n",
    "tf.random.set_seed(80)\n",
    "G = tf.constant(tf.random.normal(shape=[50]), shape=(1,1,1,50))\n",
    "print(G, G.ndim, G.shape)\n",
    "# Squeezing ( Removing the single dimension tensors)\n",
    "G_squeezed = tf.squeeze(G)\n",
    "print(G_squeezed)"
   ]
  },
  {
   "cell_type": "markdown",
   "id": "9cb4cbad",
   "metadata": {},
   "source": [
    "### One hot encoding tensors\n",
    " A one hot encoding is a representation of categorical variables as binary vectors. \n",
    " This first requires that the categorical values be mapped to integer values. \n",
    " Then, each integer value is represented as a binary vector that is all zero values except the index of the integer, which is marked with a 1\n"
   ]
  },
  {
   "cell_type": "code",
   "execution_count": 80,
   "id": "ea66a89e",
   "metadata": {},
   "outputs": [
    {
     "data": {
      "text/plain": [
       "<tf.Tensor: shape=(5, 5), dtype=float32, numpy=\n",
       "array([[1., 0., 0., 0., 0.],\n",
       "       [0., 1., 0., 0., 0.],\n",
       "       [0., 0., 1., 0., 0.],\n",
       "       [0., 0., 0., 1., 0.],\n",
       "       [0., 0., 0., 0., 1.]], dtype=float32)>"
      ]
     },
     "execution_count": 80,
     "metadata": {},
     "output_type": "execute_result"
    }
   ],
   "source": [
    "item_labels = [\"shoes\", \"belt\", \"shirt\", \"cap\", \"sneakers\"]\n",
    "items =       [0, 1, 2, 3, 4]\n",
    "items_one_hot = tf.one_hot(items, depth=len(items))\n",
    "items_one_hot"
   ]
  },
  {
   "cell_type": "code",
   "execution_count": 82,
   "id": "01a46207",
   "metadata": {},
   "outputs": [
    {
     "data": {
      "text/plain": [
       "<tf.Tensor: shape=(5, 5), dtype=string, numpy=\n",
       "array([[b'yay', b'!', b'!', b'!', b'!'],\n",
       "       [b'!', b'yay', b'!', b'!', b'!'],\n",
       "       [b'!', b'!', b'yay', b'!', b'!'],\n",
       "       [b'!', b'!', b'!', b'yay', b'!'],\n",
       "       [b'!', b'!', b'!', b'!', b'yay']], dtype=object)>"
      ]
     },
     "execution_count": 82,
     "metadata": {},
     "output_type": "execute_result"
    }
   ],
   "source": [
    "tf.one_hot(items, depth=len(items), on_value=\"yay\", off_value=\"!\")"
   ]
  },
  {
   "cell_type": "code",
   "execution_count": 83,
   "id": "2faa7d11",
   "metadata": {},
   "outputs": [
    {
     "data": {
      "text/plain": [
       "<tf.Tensor: shape=(10,), dtype=int32, numpy=array([0, 1, 2, 3, 4, 5, 6, 7, 8, 9], dtype=int32)>"
      ]
     },
     "execution_count": 83,
     "metadata": {},
     "output_type": "execute_result"
    }
   ],
   "source": [
    "H = tf.range(0, 10)\n",
    "H"
   ]
  },
  {
   "cell_type": "code",
   "execution_count": 88,
   "id": "aea1bad1",
   "metadata": {},
   "outputs": [
    {
     "name": "stdout",
     "output_type": "stream",
     "text": [
      "Square :  :  tf.Tensor([ 0  1  4  9 16 25 36 49 64 81], shape=(10,), dtype=int32)\n",
      "Squareoot :  tf.Tensor([0.    1.    1.414 1.732 2.    2.236 2.45  2.646 2.828 3.   ], shape=(10,), dtype=float16)\n",
      "log :  tf.Tensor([  -inf 0.     0.6934 1.099  1.387  1.609  1.792  1.946  2.08   2.197 ], shape=(10,), dtype=float16)\n"
     ]
    }
   ],
   "source": [
    "print(\"Square :  : \", tf.square(H))\n",
    "print(\"Squareoot : \", tf.sqrt(tf.cast(H,dtype=tf.float16)))\n",
    "print(\"log : \", tf.math.log(tf.cast(H,dtype=tf.float16)))\n"
   ]
  },
  {
   "cell_type": "code",
   "execution_count": 90,
   "id": "169e0644",
   "metadata": {},
   "outputs": [
    {
     "data": {
      "text/plain": [
       "[PhysicalDevice(name='/physical_device:GPU:0', device_type='GPU')]"
      ]
     },
     "execution_count": 90,
     "metadata": {},
     "output_type": "execute_result"
    }
   ],
   "source": [
    "tf.config.list_physical_devices(\"GPU\")"
   ]
  },
  {
   "cell_type": "code",
   "execution_count": null,
   "id": "e945cf83",
   "metadata": {},
   "outputs": [],
   "source": [
    "##### End of notes"
   ]
  }
 ],
 "metadata": {
  "kernelspec": {
   "display_name": "Python 3 (ipykernel)",
   "language": "python",
   "name": "python3"
  },
  "language_info": {
   "codemirror_mode": {
    "name": "ipython",
    "version": 3
   },
   "file_extension": ".py",
   "mimetype": "text/x-python",
   "name": "python",
   "nbconvert_exporter": "python",
   "pygments_lexer": "ipython3",
   "version": "3.8.10"
  }
 },
 "nbformat": 4,
 "nbformat_minor": 5
}
