{
 "cells": [
  {
   "cell_type": "code",
   "execution_count": 1,
   "id": "956909bb",
   "metadata": {},
   "outputs": [],
   "source": [
    "import os\n",
    "import sys\n",
    "import tensorflow as tf\n",
    "import tensorflow_hub as hub\n",
    "import matplotlib.pyplot as plt\n",
    "import pandas as pd\n",
    "import numpy as np\n",
    "from sklearn.model_selection import train_test_split"
   ]
  },
  {
   "cell_type": "code",
   "execution_count": 2,
   "id": "2bed5b25",
   "metadata": {},
   "outputs": [],
   "source": [
    "def preprocess_text_with_line_numbers(text_lines: list):\n",
    "    abstracts = {}\n",
    "    for input_line in text_lines:\n",
    "        input_line = input_line.strip().lower()\n",
    "        if input_line.startswith(\"###\"):\n",
    "            abstract_id = input_line.strip(\"#\")\n",
    "            abstracts[abstract_id] = []\n",
    "            continue\n",
    "        if not input_line:\n",
    "            continue\n",
    "        abstracts[abstract_id].append(input_line)\n",
    "    abstract_samples = []\n",
    "    for abstract in abstracts:\n",
    "        total_lines = len(abstracts[abstract]) -1\n",
    "        for line_num, line in enumerate(abstracts[abstract]):\n",
    "            line = line.strip()\n",
    "            caption, text = line.split('\\t')\n",
    "            sample = {}\n",
    "            sample[\"abstract_id\"] = abstract\n",
    "            sample[\"target\"] = caption\n",
    "            sample[\"text\"] = text\n",
    "            sample[\"line_number\"] = line_num\n",
    "            sample[\"total_lines\"] = total_lines\n",
    "            abstract_samples.append(sample)\n",
    "    return abstract_samples       "
   ]
  },
  {
   "cell_type": "code",
   "execution_count": 3,
   "id": "3d967f39",
   "metadata": {},
   "outputs": [],
   "source": [
    "def create_tensorboard_callback(experiment_name, model_name):\n",
    "    \"\"\"\n",
    "    Create an tensorboard callback.\n",
    "    \"\"\"\n",
    "    return tf.keras.callbacks.TensorBoard(log_dir=os.path.join(\"model_logs\", experiment_name, model_name))"
   ]
  },
  {
   "cell_type": "code",
   "execution_count": 4,
   "id": "566bde8e",
   "metadata": {},
   "outputs": [],
   "source": [
    "def create_model_checkpoint_callback(experiment_name, model_name):\n",
    "    \"\"\"\n",
    "     Create an Model Checkpoint callback\n",
    "    \"\"\"\n",
    "    return tf.keras.callbacks.ModelCheckpoint(filepath=os.path.join(\"model_checkpoints\", experiment_name, model_name+\".ckpt\"),\n",
    "                                              save_weights_only=True, monitor=\"val_acc\", \n",
    "                                              save_best_only=True)"
   ]
  },
  {
   "cell_type": "code",
   "execution_count": 5,
   "id": "8ce17f2f",
   "metadata": {},
   "outputs": [
    {
     "name": "stdout",
     "output_type": "stream",
     "text": [
      "GPU 0: NVIDIA GeForce GTX 1650 (UUID: GPU-815dd684-e219-0fdd-061d-cf65e500b74c)\r\n"
     ]
    }
   ],
   "source": [
    "!nvidia-smi -L"
   ]
  },
  {
   "cell_type": "code",
   "execution_count": 6,
   "id": "cc47d249",
   "metadata": {},
   "outputs": [],
   "source": [
    "# Dataset source\n",
    "DATASET_SOURCE = \"../datasets/pubmed/pubmed-rct\"\n",
    "pubmed_20k_dataset = os.path.join(DATASET_SOURCE, \"PubMed_20k_RCT_numbers_replaced_with_at_sign\")\n",
    "train_file = os.path.join(pubmed_20k_dataset, \"train.txt\")\n",
    "test_file = os.path.join(pubmed_20k_dataset, \"test.txt\")\n",
    "dev_file = os.path.join(pubmed_20k_dataset, \"dev.txt\")"
   ]
  },
  {
   "cell_type": "code",
   "execution_count": 7,
   "id": "c820b772",
   "metadata": {},
   "outputs": [],
   "source": [
    "with open(train_file, \"r\") as rfile:\n",
    "    train_lines = rfile.readlines()\n",
    "with open(test_file, \"r\") as rfile:\n",
    "    test_lines = rfile.readlines()\n",
    "with open(dev_file, \"r\") as rfile:\n",
    "    dev_lines = rfile.readlines()"
   ]
  },
  {
   "cell_type": "code",
   "execution_count": 8,
   "id": "c4c0cc63",
   "metadata": {},
   "outputs": [
    {
     "data": {
      "text/plain": [
       "(210040, 35135)"
      ]
     },
     "execution_count": 8,
     "metadata": {},
     "output_type": "execute_result"
    }
   ],
   "source": [
    "len(train_lines), len(test_lines)"
   ]
  },
  {
   "cell_type": "code",
   "execution_count": 9,
   "id": "5be93606",
   "metadata": {},
   "outputs": [
    {
     "data": {
      "text/plain": [
       "['###24293578\\n',\n",
       " 'OBJECTIVE\\tTo investigate the efficacy of @ weeks of daily low-dose oral prednisolone in improving pain , mobility , and systemic low-grade inflammation in the short term and whether the effect would be sustained at @ weeks in older adults with moderate to severe knee osteoarthritis ( OA ) .\\n',\n",
       " 'METHODS\\tA total of @ patients with primary knee OA were randomized @:@ ; @ received @ mg/day of prednisolone and @ received placebo for @ weeks .\\n',\n",
       " 'METHODS\\tOutcome measures included pain reduction and improvement in function scores and systemic inflammation markers .\\n',\n",
       " 'METHODS\\tPain was assessed using the visual analog pain scale ( @-@ mm ) .\\n',\n",
       " 'METHODS\\tSecondary outcome measures included the Western Ontario and McMaster Universities Osteoarthritis Index scores , patient global assessment ( PGA ) of the severity of knee OA , and @-min walk distance ( @MWD ) .\\n',\n",
       " 'METHODS\\tSerum levels of interleukin @ ( IL-@ ) , IL-@ , tumor necrosis factor ( TNF ) - , and high-sensitivity C-reactive protein ( hsCRP ) were measured .\\n',\n",
       " 'RESULTS\\tThere was a clinically relevant reduction in the intervention group compared to the placebo group for knee pain , physical function , PGA , and @MWD at @ weeks .\\n',\n",
       " 'RESULTS\\tThe mean difference between treatment arms ( @ % CI ) was @ ( @-@ @ ) , p < @ ; @ ( @-@ @ ) , p < @ ; @ ( @-@ @ ) , p < @ ; and @ ( @-@ @ ) , p < @ , respectively .\\n',\n",
       " 'RESULTS\\tFurther , there was a clinically relevant reduction in the serum levels of IL-@ , IL-@ , TNF - , and hsCRP at @ weeks in the intervention group when compared to the placebo group .\\n',\n",
       " 'RESULTS\\tThese differences remained significant at @ weeks .\\n',\n",
       " 'RESULTS\\tThe Outcome Measures in Rheumatology Clinical Trials-Osteoarthritis Research Society International responder rate was @ % in the intervention group and @ % in the placebo group ( p < @ ) .\\n',\n",
       " 'CONCLUSIONS\\tLow-dose oral prednisolone had both a short-term and a longer sustained effect resulting in less knee pain , better physical function , and attenuation of systemic inflammation in older patients with knee OA ( ClinicalTrials.gov identifier NCT@ ) .\\n',\n",
       " '\\n',\n",
       " '###24854809\\n',\n",
       " 'BACKGROUND\\tEmotional eating is associated with overeating and the development of obesity .\\n',\n",
       " 'BACKGROUND\\tYet , empirical evidence for individual ( trait ) differences in emotional eating and cognitive mechanisms that contribute to eating during sad mood remain equivocal .\\n',\n",
       " 'OBJECTIVE\\tThe aim of this study was to test if attention bias for food moderates the effect of self-reported emotional eating during sad mood ( vs neutral mood ) on actual food intake .\\n',\n",
       " 'OBJECTIVE\\tIt was expected that emotional eating is predictive of elevated attention for food and higher food intake after an experimentally induced sad mood and that attentional maintenance on food predicts food intake during a sad versus a neutral mood .\\n',\n",
       " 'METHODS\\tParticipants ( N = @ ) were randomly assigned to one of the two experimental mood induction conditions ( sad/neutral ) .\\n',\n",
       " 'METHODS\\tAttentional biases for high caloric foods were measured by eye tracking during a visual probe task with pictorial food and neutral stimuli .\\n',\n",
       " 'METHODS\\tSelf-reported emotional eating was assessed with the Dutch Eating Behavior Questionnaire ( DEBQ ) and ad libitum food intake was tested by a disguised food offer .\\n',\n",
       " 'RESULTS\\tHierarchical multivariate regression modeling showed that self-reported emotional eating did not account for changes in attention allocation for food or food intake in either condition .\\n',\n",
       " 'RESULTS\\tYet , attention maintenance on food cues was significantly related to increased intake specifically in the neutral condition , but not in the sad mood condition .\\n',\n",
       " 'CONCLUSIONS\\tThe current findings show that self-reported emotional eating ( based on the DEBQ ) might not validly predict who overeats when sad , at least not in a laboratory setting with healthy women .\\n',\n",
       " 'CONCLUSIONS\\tResults further suggest that attention maintenance on food relates to eating motivation when in a neutral affective state , and might therefore be a cognitive mechanism contributing to increased food intake in general , but maybe not during sad mood .\\n',\n",
       " '\\n',\n",
       " '###25165090\\n',\n",
       " 'BACKGROUND\\tAlthough working smoke alarms halve deaths in residential fires , many households do not keep alarms operational .\\n',\n",
       " 'BACKGROUND\\tWe tested whether theory-based education increases alarm operability .\\n']"
      ]
     },
     "execution_count": 9,
     "metadata": {},
     "output_type": "execute_result"
    }
   ],
   "source": [
    "train_lines[0:30]"
   ]
  },
  {
   "cell_type": "code",
   "execution_count": 10,
   "id": "1eb7817f",
   "metadata": {},
   "outputs": [],
   "source": [
    "train_abstracts = preprocess_text_with_line_numbers(train_lines)\n",
    "test_abstracts = preprocess_text_with_line_numbers(test_lines)\n",
    "dev_abstracts = preprocess_text_with_line_numbers(dev_lines)"
   ]
  },
  {
   "cell_type": "code",
   "execution_count": 11,
   "id": "de82d6f1",
   "metadata": {},
   "outputs": [
    {
     "data": {
      "text/plain": [
       "(180040, 30135, 30212)"
      ]
     },
     "execution_count": 11,
     "metadata": {},
     "output_type": "execute_result"
    }
   ],
   "source": [
    "len(train_abstracts), len(test_abstracts), len(dev_abstracts)"
   ]
  },
  {
   "cell_type": "code",
   "execution_count": 12,
   "id": "cd729a06",
   "metadata": {},
   "outputs": [],
   "source": [
    "train_df = pd.DataFrame(train_abstracts)\n",
    "test_df = pd.DataFrame(test_abstracts)\n",
    "val_df = pd.DataFrame(dev_abstracts)"
   ]
  },
  {
   "cell_type": "code",
   "execution_count": 13,
   "id": "a1c923fa",
   "metadata": {},
   "outputs": [
    {
     "name": "stdout",
     "output_type": "stream",
     "text": [
      "  abstract_id     target                                               text  \\\n",
      "0    24293578  objective  to investigate the efficacy of @ weeks of dail...   \n",
      "1    24293578    methods  a total of @ patients with primary knee oa wer...   \n",
      "2    24293578    methods  outcome measures included pain reduction and i...   \n",
      "3    24293578    methods  pain was assessed using the visual analog pain...   \n",
      "4    24293578    methods  secondary outcome measures included the wester...   \n",
      "\n",
      "   line_number  total_lines  \n",
      "0            0           11  \n",
      "1            1           11  \n",
      "2            2           11  \n",
      "3            3           11  \n",
      "4            4           11     abstract_id      target                                               text  \\\n",
      "0    24845963  background  this study analyzed liver function abnormaliti...   \n",
      "1    24845963     results  a post hoc analysis was conducted with the use...   \n",
      "2    24845963     results  liver function tests ( lfts ) were measured at...   \n",
      "3    24845963     results  survival analyses were used to assess the asso...   \n",
      "4    24845963     results  the percentage of patients with abnormal lfts ...   \n",
      "\n",
      "   line_number  total_lines  \n",
      "0            0            8  \n",
      "1            1            8  \n",
      "2            2            8  \n",
      "3            3            8  \n",
      "4            4            8     abstract_id      target                                               text  \\\n",
      "0    24290286  background  ige sensitization to aspergillus fumigatus and...   \n",
      "1    24290286  background  it is not clear whether these patients would b...   \n",
      "2    24290286   objective  we sought to determine whether a @-month cours...   \n",
      "3    24290286     methods  asthmatic patients who were ige sensitized to ...   \n",
      "4    24290286     methods  primary outcomes were improvement in quality o...   \n",
      "\n",
      "   line_number  total_lines  \n",
      "0            0            9  \n",
      "1            1            9  \n",
      "2            2            9  \n",
      "3            3            9  \n",
      "4            4            9  \n"
     ]
    }
   ],
   "source": [
    "print(train_df.head(), test_df.head(), val_df.head())"
   ]
  },
  {
   "cell_type": "code",
   "execution_count": 14,
   "id": "75cd33a9",
   "metadata": {},
   "outputs": [
    {
     "data": {
      "text/plain": [
       "methods        59353\n",
       "results        57953\n",
       "conclusions    27168\n",
       "background     21727\n",
       "objective      13839\n",
       "Name: target, dtype: int64"
      ]
     },
     "execution_count": 14,
     "metadata": {},
     "output_type": "execute_result"
    }
   ],
   "source": [
    "train_df.target.value_counts()"
   ]
  },
  {
   "cell_type": "code",
   "execution_count": 15,
   "id": "a217dcee",
   "metadata": {},
   "outputs": [
    {
     "data": {
      "text/plain": [
       "<AxesSubplot:ylabel='Frequency'>"
      ]
     },
     "execution_count": 15,
     "metadata": {},
     "output_type": "execute_result"
    },
    {
     "data": {
      "image/png": "[encoded data removed]",
      "text/plain": [
       "<Figure size 432x288 with 1 Axes>"
      ]
     },
     "metadata": {
      "needs_background": "light"
     },
     "output_type": "display_data"
    }
   ],
   "source": [
    "train_df.total_lines.plot.hist()"
   ]
  },
  {
   "cell_type": "code",
   "execution_count": 16,
   "id": "da0028bb",
   "metadata": {},
   "outputs": [
    {
     "name": "stdout",
     "output_type": "stream",
     "text": [
      "180040 30212 30135\n",
      "180040 30212 30135\n"
     ]
    }
   ],
   "source": [
    "train_sentences = train_df[\"text\"].to_list()\n",
    "val_sentences = val_df[\"text\"].to_list()\n",
    "test_sentences = test_df[\"text\"].to_list()\n",
    "print(len(train_sentences), len(val_sentences), len(test_sentences))\n",
    "\n",
    "train_labels = train_df[\"target\"].to_list()\n",
    "val_labels = val_df[\"target\"].to_list()\n",
    "test_labels = test_df[\"target\"].to_list()\n",
    "print(len(train_labels), len(val_labels), len(test_labels))\n"
   ]
  },
  {
   "cell_type": "code",
   "execution_count": 17,
   "id": "d2300249",
   "metadata": {},
   "outputs": [
    {
     "data": {
      "text/plain": [
       "['objective',\n",
       " 'methods',\n",
       " 'methods',\n",
       " 'methods',\n",
       " 'methods',\n",
       " 'methods',\n",
       " 'results',\n",
       " 'results',\n",
       " 'results',\n",
       " 'results']"
      ]
     },
     "execution_count": 17,
     "metadata": {},
     "output_type": "execute_result"
    }
   ],
   "source": [
    "train_labels[:10]"
   ]
  },
  {
   "cell_type": "code",
   "execution_count": 18,
   "id": "335f0b59",
   "metadata": {},
   "outputs": [
    {
     "data": {
      "text/plain": [
       "array([[1., 0., 0., 0., 0.],\n",
       "       [0., 0., 0., 0., 1.],\n",
       "       [0., 0., 0., 0., 1.],\n",
       "       ...,\n",
       "       [0., 0., 0., 0., 1.],\n",
       "       [0., 0., 0., 0., 1.],\n",
       "       [0., 1., 0., 0., 0.]])"
      ]
     },
     "execution_count": 18,
     "metadata": {},
     "output_type": "execute_result"
    }
   ],
   "source": [
    "# one hot\n",
    "from sklearn.preprocessing import OneHotEncoder\n",
    "\n",
    "one_hot_encoder = OneHotEncoder(sparse=False)\n",
    "one_hot_encoder.fit(np.array(train_labels).reshape(-1,1))\n",
    "train_labels_one_hot = one_hot_encoder.transform(np.array(train_labels).reshape(-1,1))\n",
    "val_labels_one_hot   = one_hot_encoder.transform(np.array(val_labels).reshape(-1,1))\n",
    "test_labels_one_hot  = one_hot_encoder.transform(np.array(test_labels).reshape(-1,1))\n",
    "test_labels_one_hot"
   ]
  },
  {
   "cell_type": "code",
   "execution_count": 19,
   "id": "001b4d2d",
   "metadata": {},
   "outputs": [
    {
     "data": {
      "text/plain": [
       "array([3, 2, 2, ..., 4, 1, 1])"
      ]
     },
     "execution_count": 19,
     "metadata": {},
     "output_type": "execute_result"
    }
   ],
   "source": [
    "from sklearn.preprocessing import LabelEncoder\n",
    "label_encoder = LabelEncoder()\n",
    "label_encoder.fit(np.array(train_labels))\n",
    "train_labels_encoded = label_encoder.transform(np.array(train_labels))\n",
    "val_labels_encoded = label_encoder.transform(np.array(val_labels))\n",
    "test_labels_encoded = label_encoder.transform(np.array(test_labels))\n",
    "train_labels_encoded"
   ]
  },
  {
   "cell_type": "code",
   "execution_count": 20,
   "id": "a93f23c7",
   "metadata": {},
   "outputs": [
    {
     "data": {
      "text/plain": [
       "'results'"
      ]
     },
     "execution_count": 20,
     "metadata": {},
     "output_type": "execute_result"
    }
   ],
   "source": [
    "label_encoder.classes_[4]"
   ]
  },
  {
   "cell_type": "markdown",
   "id": "eba44977",
   "metadata": {},
   "source": [
    "### Base Model"
   ]
  },
  {
   "cell_type": "code",
   "execution_count": 21,
   "id": "3bcc72a0",
   "metadata": {},
   "outputs": [
    {
     "data": {
      "text/plain": [
       "Pipeline(steps=[('tf-idf', TfidfVectorizer()), ('clf', MultinomialNB())])"
      ]
     },
     "execution_count": 21,
     "metadata": {},
     "output_type": "execute_result"
    }
   ],
   "source": [
    "from sklearn.naive_bayes import MultinomialNB\n",
    "from sklearn.pipeline import Pipeline\n",
    "from sklearn.feature_extraction.text import TfidfVectorizer\n",
    "\n",
    "model_0 = Pipeline([\n",
    "    (\"tf-idf\", TfidfVectorizer()),\n",
    "    (\"clf\", MultinomialNB())\n",
    "    ])\n",
    "model_0.fit(X=train_sentences,y=train_labels_encoded)"
   ]
  },
  {
   "cell_type": "code",
   "execution_count": 22,
   "id": "5b734fa8",
   "metadata": {},
   "outputs": [
    {
     "data": {
      "text/plain": [
       "0.7218323844829869"
      ]
     },
     "execution_count": 22,
     "metadata": {},
     "output_type": "execute_result"
    }
   ],
   "source": [
    "model_0.score(X=val_sentences,\n",
    "              y=val_labels_encoded)"
   ]
  },
  {
   "cell_type": "code",
   "execution_count": 23,
   "id": "0e7b3bb8",
   "metadata": {},
   "outputs": [
    {
     "data": {
      "text/plain": [
       "array([2, 2, 2, ..., 4, 4, 4])"
      ]
     },
     "execution_count": 23,
     "metadata": {},
     "output_type": "execute_result"
    }
   ],
   "source": [
    "base_preds = model_0.predict(test_sentences)\n",
    "base_preds"
   ]
  },
  {
   "cell_type": "code",
   "execution_count": 24,
   "id": "790b3c13",
   "metadata": {},
   "outputs": [],
   "source": [
    "from sklearn.metrics import accuracy_score, precision_recall_fscore_support\n",
    "\n",
    "def calculate_results_score(y_true, y_pred):\n",
    "    model_accuracy = accuracy_score(y_true, y_pred)*100\n",
    "    print(f\"[calculate_results_score] the accuracy is :: {model_accuracy}\")\n",
    "    model_precision, model_recall, model_f1_score, _ = precision_recall_fscore_support(y_true, y_pred, average=\"weighted\")\n",
    "    print(f\"[calculate_results_score] The precision is : {model_precision}\")\n",
    "    print(f\"[calculate_results_score] The recall is : {model_recall}\")\n",
    "    print(f\"[calculate_results_score] The f1 score is : {model_f1_score}\")\n",
    "    return {\n",
    "        \"accuracy\": model_accuracy,\n",
    "        \"precision\": model_precision,\n",
    "        \"recall\": model_recall,\n",
    "        \"f1_score\": model_f1_score,\n",
    "             }"
   ]
  },
  {
   "cell_type": "code",
   "execution_count": 25,
   "id": "01f77e72",
   "metadata": {},
   "outputs": [
    {
     "name": "stdout",
     "output_type": "stream",
     "text": [
      "[calculate_results_score] the accuracy is :: 71.6674962667994\n",
      "[calculate_results_score] The precision is : 0.7124322482375202\n",
      "[calculate_results_score] The recall is : 0.716674962667994\n",
      "[calculate_results_score] The f1 score is : 0.6925101703856846\n"
     ]
    },
    {
     "data": {
      "text/plain": [
       "{'accuracy': 71.6674962667994,\n",
       " 'precision': 0.7124322482375202,\n",
       " 'recall': 0.716674962667994,\n",
       " 'f1_score': 0.6925101703856846}"
      ]
     },
     "execution_count": 25,
     "metadata": {},
     "output_type": "execute_result"
    }
   ],
   "source": [
    "base_results = calculate_results_score(test_labels_encoded, base_preds)\n",
    "base_results"
   ]
  },
  {
   "cell_type": "markdown",
   "id": "d1d6e9a0",
   "metadata": {},
   "source": [
    "## Deep model"
   ]
  },
  {
   "cell_type": "code",
   "execution_count": 26,
   "id": "30133569",
   "metadata": {},
   "outputs": [
    {
     "data": {
      "text/plain": [
       "26.338269273494777"
      ]
     },
     "execution_count": 26,
     "metadata": {},
     "output_type": "execute_result"
    }
   ],
   "source": [
    "sentence_lengths = [len(sentence.split()) for sentence in train_sentences]\n",
    "average_sentence_length = sum(sentence_lengths)/len(train_sentences)\n",
    "average_sentence_length"
   ]
  },
  {
   "cell_type": "code",
   "execution_count": 27,
   "id": "1995f557",
   "metadata": {},
   "outputs": [
    {
     "data": {
      "text/plain": [
       "26.338269273494777"
      ]
     },
     "execution_count": 27,
     "metadata": {},
     "output_type": "execute_result"
    }
   ],
   "source": [
    "# average length of the sentences\n",
    "np.mean(sentence_lengths)"
   ]
  },
  {
   "cell_type": "code",
   "execution_count": 28,
   "id": "5fd41488",
   "metadata": {},
   "outputs": [
    {
     "data": {
      "text/plain": [
       "55.0"
      ]
     },
     "execution_count": 28,
     "metadata": {},
     "output_type": "execute_result"
    }
   ],
   "source": [
    "# 95 % are under the 55 length\n",
    "np.percentile(sentence_lengths, 95)"
   ]
  },
  {
   "cell_type": "code",
   "execution_count": 29,
   "id": "0b9916c3",
   "metadata": {},
   "outputs": [
    {
     "name": "stderr",
     "output_type": "stream",
     "text": [
      "2022-01-28 09:27:35.950148: I tensorflow/stream_executor/cuda/cuda_gpu_executor.cc:939] successful NUMA node read from SysFS had negative value (-1), but there must be at least one NUMA node, so returning NUMA node zero\n",
      "2022-01-28 09:27:35.963896: I tensorflow/stream_executor/cuda/cuda_gpu_executor.cc:939] successful NUMA node read from SysFS had negative value (-1), but there must be at least one NUMA node, so returning NUMA node zero\n",
      "2022-01-28 09:27:35.964478: I tensorflow/stream_executor/cuda/cuda_gpu_executor.cc:939] successful NUMA node read from SysFS had negative value (-1), but there must be at least one NUMA node, so returning NUMA node zero\n",
      "2022-01-28 09:27:35.965141: I tensorflow/core/platform/cpu_feature_guard.cc:151] This TensorFlow binary is optimized with oneAPI Deep Neural Network Library (oneDNN) to use the following CPU instructions in performance-critical operations:  AVX2 FMA\n",
      "To enable them in other operations, rebuild TensorFlow with the appropriate compiler flags.\n",
      "2022-01-28 09:27:35.965777: I tensorflow/stream_executor/cuda/cuda_gpu_executor.cc:939] successful NUMA node read from SysFS had negative value (-1), but there must be at least one NUMA node, so returning NUMA node zero\n",
      "2022-01-28 09:27:35.966234: I tensorflow/stream_executor/cuda/cuda_gpu_executor.cc:939] successful NUMA node read from SysFS had negative value (-1), but there must be at least one NUMA node, so returning NUMA node zero\n",
      "2022-01-28 09:27:35.966601: I tensorflow/stream_executor/cuda/cuda_gpu_executor.cc:939] successful NUMA node read from SysFS had negative value (-1), but there must be at least one NUMA node, so returning NUMA node zero\n",
      "2022-01-28 09:27:36.516314: I tensorflow/stream_executor/cuda/cuda_gpu_executor.cc:939] successful NUMA node read from SysFS had negative value (-1), but there must be at least one NUMA node, so returning NUMA node zero\n",
      "2022-01-28 09:27:36.516812: I tensorflow/stream_executor/cuda/cuda_gpu_executor.cc:939] successful NUMA node read from SysFS had negative value (-1), but there must be at least one NUMA node, so returning NUMA node zero\n",
      "2022-01-28 09:27:36.517185: I tensorflow/stream_executor/cuda/cuda_gpu_executor.cc:939] successful NUMA node read from SysFS had negative value (-1), but there must be at least one NUMA node, so returning NUMA node zero\n",
      "2022-01-28 09:27:36.517783: I tensorflow/core/common_runtime/gpu/gpu_device.cc:1525] Created device /job:localhost/replica:0/task:0/device:GPU:0 with 1966 MB memory:  -> device: 0, name: NVIDIA GeForce GTX 1650, pci bus id: 0000:01:00.0, compute capability: 7.5\n"
     ]
    }
   ],
   "source": [
    "text_vectorizer = tf.keras.layers.TextVectorization(max_tokens=68000,\n",
    "                                                    # Default\n",
    "                                                    # standardize=\"lower_and_strip_punctuation\",\n",
    "                                                    # output_mode=\"int\",\n",
    "                                                    output_sequence_length=55)"
   ]
  },
  {
   "cell_type": "code",
   "execution_count": 30,
   "id": "f6933706",
   "metadata": {},
   "outputs": [],
   "source": [
    "text_vectorizer.adapt(train_sentences)"
   ]
  },
  {
   "cell_type": "code",
   "execution_count": 31,
   "id": "3955a3a4",
   "metadata": {},
   "outputs": [
    {
     "data": {
      "text/plain": [
       "64841"
      ]
     },
     "execution_count": 31,
     "metadata": {},
     "output_type": "execute_result"
    }
   ],
   "source": [
    "text_vectorizer.vocabulary_size()"
   ]
  },
  {
   "cell_type": "code",
   "execution_count": 32,
   "id": "430bab20",
   "metadata": {},
   "outputs": [
    {
     "data": {
      "text/plain": [
       "['', '[UNK]', 'the', 'and', 'of']"
      ]
     },
     "execution_count": 32,
     "metadata": {},
     "output_type": "execute_result"
    }
   ],
   "source": [
    "text_vectorizer.get_vocabulary()[:5]"
   ]
  },
  {
   "cell_type": "code",
   "execution_count": 33,
   "id": "dd981cc5",
   "metadata": {},
   "outputs": [],
   "source": [
    "embedding = tf.keras.layers.Embedding(input_dim=text_vectorizer.vocabulary_size(),\n",
    "                                            output_dim=128,\n",
    "                                            mask_zero=True,\n",
    "                                            name=\"token_embedding\",\n",
    "                                       )"
   ]
  },
  {
   "cell_type": "code",
   "execution_count": 34,
   "id": "68f3e170",
   "metadata": {},
   "outputs": [
    {
     "data": {
      "text/plain": [
       "TensorShape([1, 55, 128])"
      ]
     },
     "execution_count": 34,
     "metadata": {},
     "output_type": "execute_result"
    }
   ],
   "source": [
    "embedded_sentence = embedding(text_vectorizer([\"The purpose of this experiment is to check if the paitent has covid19\"]))\n",
    "embedded_sentence.shape"
   ]
  },
  {
   "cell_type": "code",
   "execution_count": 35,
   "id": "04f1a6f4",
   "metadata": {},
   "outputs": [],
   "source": [
    "# dataset pipeline\n",
    "train_dataset= tf.data.Dataset.from_tensor_slices((train_sentences, train_labels_one_hot))\n",
    "valid_dataset = tf.data.Dataset.from_tensor_slices((val_sentences, val_labels_one_hot))\n",
    "test_dataset = tf.data.Dataset.from_tensor_slices((test_sentences, test_labels_one_hot))\n",
    "train_dataset = train_dataset.batch(32).prefetch(tf.data.AUTOTUNE)\n",
    "valid_dataset = valid_dataset.batch(32).prefetch(tf.data.AUTOTUNE)\n",
    "test_dataset = test_dataset.batch(32).prefetch(tf.data.AUTOTUNE)"
   ]
  },
  {
   "cell_type": "code",
   "execution_count": 36,
   "id": "fd212bff",
   "metadata": {},
   "outputs": [
    {
     "name": "stdout",
     "output_type": "stream",
     "text": [
      "Model: \"conv_model\"\n",
      "_________________________________________________________________\n",
      " Layer (type)                Output Shape              Param #   \n",
      "=================================================================\n",
      " input_layer (InputLayer)    [(None, 1)]               0         \n",
      "                                                                 \n",
      " text_vectorization (TextVec  (None, 55)               0         \n",
      " torization)                                                     \n",
      "                                                                 \n",
      " token_embedding (Embedding)  (None, 55, 128)          8299648   \n",
      "                                                                 \n",
      " convolution_layer (Conv1D)  (None, 55, 128)           82048     \n",
      "                                                                 \n",
      " pooling_layer (GlobalAverag  (None, 128)              0         \n",
      " ePooling1D)                                                     \n",
      "                                                                 \n",
      " output_layer (Dense)        (None, 5)                 645       \n",
      "                                                                 \n",
      "=================================================================\n",
      "Total params: 8,382,341\n",
      "Trainable params: 8,382,341\n",
      "Non-trainable params: 0\n",
      "_________________________________________________________________\n"
     ]
    },
    {
     "data": {
      "image/png": "[encoded data removed]",
      "text/plain": [
       "<IPython.core.display.Image object>"
      ]
     },
     "execution_count": 36,
     "metadata": {},
     "output_type": "execute_result"
    }
   ],
   "source": [
    "inputs_1 = tf.keras.layers.Input(shape=(1,), dtype=tf.string, name=\"input_layer\")\n",
    "vectorization_layer = text_vectorizer(inputs_1)\n",
    "embedding_layer = embedding(vectorization_layer)\n",
    "conv_layer = tf.keras.layers.Conv1D(filters=128,\n",
    "                                    padding=\"same\",\n",
    "                                    activation=\"relu\",\n",
    "                                    kernel_size=5,\n",
    "                                    name=\"convolution_layer\")(embedding_layer)\n",
    "pooling_layer = tf.keras.layers.GlobalAveragePooling1D(name=\"pooling_layer\")(conv_layer)\n",
    "outputs_1 = tf.keras.layers.Dense(units=5, activation=\"softmax\", name=\"output_layer\")(pooling_layer)\n",
    "model_1 = tf.keras.Model(inputs=inputs_1, outputs=outputs_1, name=\"conv_model\")\n",
    "model_1.summary()\n",
    "tf.keras.utils.plot_model(model=model_1, show_shapes=True)"
   ]
  },
  {
   "cell_type": "code",
   "execution_count": 37,
   "id": "f8a0cdda",
   "metadata": {},
   "outputs": [],
   "source": [
    "# compile\n",
    "model_1.compile(loss=tf.keras.losses.CategoricalCrossentropy(),\n",
    "                optimizer=tf.keras.optimizers.Adam(),\n",
    "                metrics=[\"accuracy\"])"
   ]
  },
  {
   "cell_type": "code",
   "execution_count": 38,
   "id": "26d71e5a",
   "metadata": {},
   "outputs": [
    {
     "name": "stdout",
     "output_type": "stream",
     "text": [
      "Epoch 1/5\n"
     ]
    },
    {
     "name": "stderr",
     "output_type": "stream",
     "text": [
      "2022-01-28 09:03:51.632612: I tensorflow/stream_executor/cuda/cuda_dnn.cc:366] Loaded cuDNN version 8202\n"
     ]
    },
    {
     "name": "stdout",
     "output_type": "stream",
     "text": [
      "559/562 [============================>.] - ETA: 0s - loss: 0.8847 - accuracy: 0.6511WARNING:tensorflow:Can save best model only with val_acc available, skipping.\n",
      "562/562 [==============================] - 13s 18ms/step - loss: 0.8832 - accuracy: 0.6518 - val_loss: 0.6754 - val_accuracy: 0.7443\n",
      "Epoch 2/5\n",
      "562/562 [==============================] - ETA: 0s - loss: 0.6520 - accuracy: 0.7592WARNING:tensorflow:Can save best model only with val_acc available, skipping.\n",
      "562/562 [==============================] - 10s 18ms/step - loss: 0.6520 - accuracy: 0.7592 - val_loss: 0.6250 - val_accuracy: 0.7706\n",
      "Epoch 3/5\n",
      "559/562 [============================>.] - ETA: 0s - loss: 0.6152 - accuracy: 0.7755WARNING:tensorflow:Can save best model only with val_acc available, skipping.\n",
      "562/562 [==============================] - 10s 17ms/step - loss: 0.6154 - accuracy: 0.7756 - val_loss: 0.5922 - val_accuracy: 0.7842\n",
      "Epoch 4/5\n",
      "562/562 [==============================] - ETA: 0s - loss: 0.5852 - accuracy: 0.7900WARNING:tensorflow:Can save best model only with val_acc available, skipping.\n",
      "562/562 [==============================] - 10s 17ms/step - loss: 0.5852 - accuracy: 0.7900 - val_loss: 0.5737 - val_accuracy: 0.7916\n",
      "Epoch 5/5\n",
      "562/562 [==============================] - ETA: 0s - loss: 0.5857 - accuracy: 0.7922WARNING:tensorflow:Can save best model only with val_acc available, skipping.\n",
      "562/562 [==============================] - 10s 17ms/step - loss: 0.5857 - accuracy: 0.7922 - val_loss: 0.5559 - val_accuracy: 0.7985\n"
     ]
    }
   ],
   "source": [
    "# fit\n",
    "model_1_history = model_1.fit(train_dataset,\n",
    "                              \n",
    "                                validation_data=valid_dataset,\n",
    "                              steps_per_epoch=int(0.1*len(train_dataset)),\n",
    "                              validation_steps=int(0.1*len(valid_dataset)),\n",
    "                                epochs=5,\n",
    "                                callbacks=[create_model_checkpoint_callback(\"skimlit\", model_1.name),\n",
    "                                          create_tensorboard_callback(\"skimlit\", model_1.name)]\n",
    "            )"
   ]
  },
  {
   "cell_type": "code",
   "execution_count": 43,
   "id": "1972ec2d",
   "metadata": {},
   "outputs": [
    {
     "name": "stdout",
     "output_type": "stream",
     "text": [
      "945/945 [==============================] - 5s 5ms/step - loss: 0.5556 - accuracy: 0.8026\n"
     ]
    },
    {
     "data": {
      "text/plain": [
       "[0.5556045174598694, 0.8025950193405151]"
      ]
     },
     "execution_count": 43,
     "metadata": {},
     "output_type": "execute_result"
    }
   ],
   "source": [
    "model_1.evaluate(valid_dataset)"
   ]
  },
  {
   "cell_type": "code",
   "execution_count": 44,
   "id": "52446514",
   "metadata": {},
   "outputs": [
    {
     "data": {
      "text/plain": [
       "<tf.Tensor: shape=(30135,), dtype=int64, numpy=array([2, 2, 2, ..., 4, 4, 1])>"
      ]
     },
     "execution_count": 44,
     "metadata": {},
     "output_type": "execute_result"
    }
   ],
   "source": [
    "model_1_pred_probs = model_1.predict(test_dataset)\n",
    "model_1_preds = tf.argmax(model_1_pred_probs, axis=1)\n",
    "model_1_preds"
   ]
  },
  {
   "cell_type": "code",
   "execution_count": 45,
   "id": "7a1b24a4",
   "metadata": {},
   "outputs": [
    {
     "name": "stdout",
     "output_type": "stream",
     "text": [
      "[calculate_results_score] the accuracy is :: 79.6382943421271\n",
      "[calculate_results_score] The precision is : 0.79604050665938\n",
      "[calculate_results_score] The recall is : 0.7963829434212709\n",
      "[calculate_results_score] The f1 score is : 0.793030269258065\n"
     ]
    },
    {
     "data": {
      "text/plain": [
       "{'accuracy': 79.6382943421271,\n",
       " 'precision': 0.79604050665938,\n",
       " 'recall': 0.7963829434212709,\n",
       " 'f1_score': 0.793030269258065}"
      ]
     },
     "execution_count": 45,
     "metadata": {},
     "output_type": "execute_result"
    }
   ],
   "source": [
    "model_1_results = calculate_results_score(test_labels_encoded, model_1_preds)\n",
    "model_1_results"
   ]
  },
  {
   "cell_type": "code",
   "execution_count": 46,
   "id": "519c07bc",
   "metadata": {},
   "outputs": [
    {
     "data": {
      "text/plain": [
       "{'accuracy': 71.6674962667994,\n",
       " 'precision': 0.7124322482375202,\n",
       " 'recall': 0.716674962667994,\n",
       " 'f1_score': 0.6925101703856846}"
      ]
     },
     "execution_count": 46,
     "metadata": {},
     "output_type": "execute_result"
    }
   ],
   "source": [
    "base_results"
   ]
  },
  {
   "cell_type": "code",
   "execution_count": 38,
   "id": "ed9b78c1",
   "metadata": {},
   "outputs": [
    {
     "name": "stdout",
     "output_type": "stream",
     "text": [
      "Model: \"pretrained_embedding_layer\"\n",
      "_________________________________________________________________\n",
      " Layer (type)                Output Shape              Param #   \n",
      "=================================================================\n",
      " input_layer (InputLayer)    [(None,)]                 0         \n",
      "                                                                 \n",
      " universal_sentence_encoder   (None, 512)              256797824 \n",
      " (KerasLayer)                                                    \n",
      "                                                                 \n",
      " fully_connected_layer_a (De  (None, 128)              65664     \n",
      " nse)                                                            \n",
      "                                                                 \n",
      " output_layer (Dense)        (None, 5)                 645       \n",
      "                                                                 \n",
      "=================================================================\n",
      "Total params: 256,864,133\n",
      "Trainable params: 66,309\n",
      "Non-trainable params: 256,797,824\n",
      "_________________________________________________________________\n"
     ]
    },
    {
     "data": {
      "image/png": "[encoded data removed]",
      "text/plain": [
       "<IPython.core.display.Image object>"
      ]
     },
     "execution_count": 38,
     "metadata": {},
     "output_type": "execute_result"
    }
   ],
   "source": [
    "# tf hub pre trained model\n",
    "inputs_2 = tf.keras.layers.Input(shape=[], dtype=tf.string, name=\"input_layer\")\n",
    "encoder_layer = hub.KerasLayer(\"https://tfhub.dev/google/universal-sentence-encoder/4\", \n",
    "                                  trainable=False,\n",
    "                                  name=\"universal_sentence_encoder\")\n",
    "embedding_layer = encoder_layer(inputs_2)\n",
    "fully_connected_layer_a = tf.keras.layers.Dense(units=128, activation=\"relu\", name=\"fully_connected_layer_a\")(embedding_layer)\n",
    "outputs_2 = tf.keras.layers.Dense(units=5, activation=\"softmax\", name=\"output_layer\")(fully_connected_layer_a)\n",
    "model_2 = tf.keras.Model(inputs=inputs_2, outputs=outputs_2, name=\"pretrained_embedding_layer\")\n",
    "model_2.summary()\n",
    "tf.keras.utils.plot_model(model_2)"
   ]
  },
  {
   "cell_type": "code",
   "execution_count": 39,
   "id": "ed2d16d8",
   "metadata": {},
   "outputs": [],
   "source": [
    "model_2.compile(loss=tf.keras.losses.CategoricalCrossentropy(),\n",
    "                optimizer=tf.keras.optimizers.Adam(),\n",
    "                metrics=[\"accuracy\"])"
   ]
  },
  {
   "cell_type": "code",
   "execution_count": 49,
   "id": "e07e794a",
   "metadata": {},
   "outputs": [
    {
     "name": "stdout",
     "output_type": "stream",
     "text": [
      "Epoch 1/5\n",
      "559/562 [============================>.] - ETA: 0s - loss: 0.9168 - accuracy: 0.6518WARNING:tensorflow:Can save best model only with val_acc available, skipping.\n"
     ]
    },
    {
     "name": "stderr",
     "output_type": "stream",
     "text": [
      "WARNING:tensorflow:Can save best model only with val_acc available, skipping.\n"
     ]
    },
    {
     "name": "stdout",
     "output_type": "stream",
     "text": [
      "562/562 [==============================] - 14s 20ms/step - loss: 0.9161 - accuracy: 0.6520 - val_loss: 0.7974 - val_accuracy: 0.6862\n",
      "Epoch 2/5\n",
      "562/562 [==============================] - ETA: 0s - loss: 0.7706 - accuracy: 0.6996WARNING:tensorflow:Can save best model only with val_acc available, skipping.\n"
     ]
    },
    {
     "name": "stderr",
     "output_type": "stream",
     "text": [
      "WARNING:tensorflow:Can save best model only with val_acc available, skipping.\n"
     ]
    },
    {
     "name": "stdout",
     "output_type": "stream",
     "text": [
      "562/562 [==============================] - 11s 20ms/step - loss: 0.7706 - accuracy: 0.6996 - val_loss: 0.7578 - val_accuracy: 0.7038\n",
      "Epoch 3/5\n",
      "561/562 [============================>.] - ETA: 0s - loss: 0.7553 - accuracy: 0.7103WARNING:tensorflow:Can save best model only with val_acc available, skipping.\n"
     ]
    },
    {
     "name": "stderr",
     "output_type": "stream",
     "text": [
      "WARNING:tensorflow:Can save best model only with val_acc available, skipping.\n"
     ]
    },
    {
     "name": "stdout",
     "output_type": "stream",
     "text": [
      "562/562 [==============================] - 11s 20ms/step - loss: 0.7552 - accuracy: 0.7104 - val_loss: 0.7413 - val_accuracy: 0.7084\n",
      "Epoch 4/5\n",
      "560/562 [============================>.] - ETA: 0s - loss: 0.7201 - accuracy: 0.7241WARNING:tensorflow:Can save best model only with val_acc available, skipping.\n"
     ]
    },
    {
     "name": "stderr",
     "output_type": "stream",
     "text": [
      "WARNING:tensorflow:Can save best model only with val_acc available, skipping.\n"
     ]
    },
    {
     "name": "stdout",
     "output_type": "stream",
     "text": [
      "562/562 [==============================] - 11s 20ms/step - loss: 0.7203 - accuracy: 0.7239 - val_loss: 0.7136 - val_accuracy: 0.7350\n",
      "Epoch 5/5\n",
      "561/562 [============================>.] - ETA: 0s - loss: 0.7287 - accuracy: 0.7198WARNING:tensorflow:Can save best model only with val_acc available, skipping.\n"
     ]
    },
    {
     "name": "stderr",
     "output_type": "stream",
     "text": [
      "WARNING:tensorflow:Can save best model only with val_acc available, skipping.\n"
     ]
    },
    {
     "name": "stdout",
     "output_type": "stream",
     "text": [
      "\b\b\b\b\b\b\b\b\b\b\b\b\b\b\b\b\b\b\b\b\b\b\b\b\b\b\b\b\b\b\b\b\b\b\b\b\b\b\b\b\b\b\b\b\b\b\b\b\b\b\b\b\b\b\b\b\b\b\b\b\b\b\b\b\b\b\b\b\b\b\b\b\b\b\b\b\b\b\b\b\b\b\b\b\r",
      "562/562 [==============================] - 11s 20ms/step - loss: 0.7285 - accuracy: 0.7199 - val_loss: 0.6925 - val_accuracy: 0.7370\n"
     ]
    }
   ],
   "source": [
    "model_2_history = model_2.fit(train_dataset,\n",
    "            validation_data=valid_dataset,\n",
    "                              steps_per_epoch=int(0.1*len(train_dataset)),\n",
    "                              validation_steps=int(0.1*len(valid_dataset)),\n",
    "            epochs=5,\n",
    "            callbacks=[create_model_checkpoint_callback(\"skimlit\", model_2.name ),\n",
    "                       create_tensorboard_callback(\"skimlit\", model_2.name)]\n",
    "            )"
   ]
  },
  {
   "cell_type": "code",
   "execution_count": 50,
   "id": "615815b6",
   "metadata": {},
   "outputs": [
    {
     "name": "stdout",
     "output_type": "stream",
     "text": [
      "945/945 [==============================] - 16s 17ms/step - loss: 0.6992 - accuracy: 0.7343\n"
     ]
    },
    {
     "data": {
      "text/plain": [
       "[0.6991832852363586, 0.7343108654022217]"
      ]
     },
     "execution_count": 50,
     "metadata": {},
     "output_type": "execute_result"
    }
   ],
   "source": [
    "model_2.evaluate(valid_dataset)"
   ]
  },
  {
   "cell_type": "code",
   "execution_count": 51,
   "id": "d2e3b41e",
   "metadata": {},
   "outputs": [
    {
     "data": {
      "text/plain": [
       "array([[3.41071337e-01, 1.30332112e-01, 1.93242729e-01, 2.71525592e-01,\n",
       "        6.38282150e-02],\n",
       "       [3.62020791e-01, 2.86521800e-02, 2.26776943e-01, 3.57036769e-01,\n",
       "        2.55132671e-02],\n",
       "       [4.86393139e-04, 3.86733329e-03, 9.27258074e-01, 5.74279868e-04,\n",
       "        6.78139329e-02],\n",
       "       ...,\n",
       "       [2.35546249e-04, 1.57161560e-02, 1.03412345e-02, 5.36898442e-05,\n",
       "        9.73653376e-01],\n",
       "       [5.37969870e-03, 4.07047421e-02, 5.83796576e-02, 1.54353655e-03,\n",
       "        8.93992305e-01],\n",
       "       [1.28374202e-02, 3.69985700e-01, 3.35097909e-01, 8.26486479e-03,\n",
       "        2.73814112e-01]], dtype=float32)"
      ]
     },
     "execution_count": 51,
     "metadata": {},
     "output_type": "execute_result"
    }
   ],
   "source": [
    "model_2_pred_probs = model_2.predict(test_dataset)\n",
    "model_2_pred_probs"
   ]
  },
  {
   "cell_type": "code",
   "execution_count": 52,
   "id": "6880a204",
   "metadata": {},
   "outputs": [
    {
     "name": "stdout",
     "output_type": "stream",
     "text": [
      "[calculate_results_score] the accuracy is :: 72.73933963829434\n",
      "[calculate_results_score] The precision is : 0.7239077425739536\n",
      "[calculate_results_score] The recall is : 0.7273933963829434\n",
      "[calculate_results_score] The f1 score is : 0.7222137766217608\n"
     ]
    },
    {
     "data": {
      "text/plain": [
       "{'accuracy': 72.73933963829434,\n",
       " 'precision': 0.7239077425739536,\n",
       " 'recall': 0.7273933963829434,\n",
       " 'f1_score': 0.7222137766217608}"
      ]
     },
     "execution_count": 52,
     "metadata": {},
     "output_type": "execute_result"
    }
   ],
   "source": [
    "model_2_results = calculate_results_score(test_labels_encoded, tf.argmax(model_2_pred_probs, axis=1))\n",
    "model_2_results"
   ]
  },
  {
   "cell_type": "code",
   "execution_count": 53,
   "id": "b86aa505",
   "metadata": {},
   "outputs": [
    {
     "data": {
      "text/plain": [
       "{'accuracy': 79.6382943421271,\n",
       " 'precision': 0.79604050665938,\n",
       " 'recall': 0.7963829434212709,\n",
       " 'f1_score': 0.793030269258065}"
      ]
     },
     "execution_count": 53,
     "metadata": {},
     "output_type": "execute_result"
    }
   ],
   "source": [
    "model_1_results"
   ]
  },
  {
   "cell_type": "code",
   "execution_count": 54,
   "id": "b65b6c29",
   "metadata": {},
   "outputs": [
    {
     "data": {
      "text/plain": [
       "{'accuracy': 71.6674962667994,\n",
       " 'precision': 0.7124322482375202,\n",
       " 'recall': 0.716674962667994,\n",
       " 'f1_score': 0.6925101703856846}"
      ]
     },
     "execution_count": 54,
     "metadata": {},
     "output_type": "execute_result"
    }
   ],
   "source": [
    "base_results"
   ]
  },
  {
   "cell_type": "markdown",
   "id": "b244eb2f",
   "metadata": {},
   "source": [
    "### Character level encoding model"
   ]
  },
  {
   "cell_type": "code",
   "execution_count": 40,
   "id": "d5aa222d",
   "metadata": {},
   "outputs": [],
   "source": [
    "def split_chars(text):    \n",
    "    return \" \".join(list(text))"
   ]
  },
  {
   "cell_type": "code",
   "execution_count": 41,
   "id": "f9a85aa9",
   "metadata": {},
   "outputs": [
    {
     "data": {
      "text/plain": [
       "['t o   i n v e s t i g a t e   t h e   e f f i c a c y   o f   @   w e e k s   o f   d a i l y   l o w - d o s e   o r a l   p r e d n i s o l o n e   i n   i m p r o v i n g   p a i n   ,   m o b i l i t y   ,   a n d   s y s t e m i c   l o w - g r a d e   i n f l a m m a t i o n   i n   t h e   s h o r t   t e r m   a n d   w h e t h e r   t h e   e f f e c t   w o u l d   b e   s u s t a i n e d   a t   @   w e e k s   i n   o l d e r   a d u l t s   w i t h   m o d e r a t e   t o   s e v e r e   k n e e   o s t e o a r t h r i t i s   (   o a   )   .']"
      ]
     },
     "execution_count": 41,
     "metadata": {},
     "output_type": "execute_result"
    }
   ],
   "source": [
    "train_chars  = [split_chars(text) for text in train_sentences]\n",
    "valid_chars  = [split_chars(text) for text in val_sentences]\n",
    "test_chars  = [split_chars(text) for text in test_sentences]\n",
    "train_chars[:1]"
   ]
  },
  {
   "cell_type": "code",
   "execution_count": 42,
   "id": "6bc8f137",
   "metadata": {},
   "outputs": [
    {
     "data": {
      "text/plain": [
       "149.3662574983337"
      ]
     },
     "execution_count": 42,
     "metadata": {},
     "output_type": "execute_result"
    }
   ],
   "source": [
    "np.mean([len(sentence) for sentence in train_sentences])"
   ]
  },
  {
   "cell_type": "code",
   "execution_count": 43,
   "id": "a83c3859",
   "metadata": {},
   "outputs": [
    {
     "data": {
      "text/plain": [
       "149.3662574983337"
      ]
     },
     "execution_count": 43,
     "metadata": {},
     "output_type": "execute_result"
    }
   ],
   "source": [
    "np.mean([len(sentence) for sentence in train_sentences])"
   ]
  },
  {
   "cell_type": "code",
   "execution_count": 44,
   "id": "3689eb3c",
   "metadata": {},
   "outputs": [
    {
     "data": {
      "text/plain": [
       "(array([1.41175e+05, 3.71110e+04, 1.60000e+03, 1.27000e+02, 2.10000e+01,\n",
       "        5.00000e+00, 1.00000e+00]),\n",
       " array([1.00000000e+00, 1.98857143e+02, 3.96714286e+02, 5.94571429e+02,\n",
       "        7.92428571e+02, 9.90285714e+02, 1.18814286e+03, 1.38600000e+03]),\n",
       " <BarContainer object of 7 artists>)"
      ]
     },
     "execution_count": 44,
     "metadata": {},
     "output_type": "execute_result"
    },
    {
     "data": {
      "image/png": "[encoded data removed]",
      "text/plain": [
       "<Figure size 432x288 with 1 Axes>"
      ]
     },
     "metadata": {
      "needs_background": "light"
     },
     "output_type": "display_data"
    }
   ],
   "source": [
    "plt.hist([len(sentence) for sentence in train_sentences], bins=7)"
   ]
  },
  {
   "cell_type": "code",
   "execution_count": 45,
   "id": "855cbc06",
   "metadata": {},
   "outputs": [
    {
     "data": {
      "text/plain": [
       "290.0"
      ]
     },
     "execution_count": 45,
     "metadata": {},
     "output_type": "execute_result"
    }
   ],
   "source": [
    "np.percentile([len(sentence) for sentence in train_sentences], 95)"
   ]
  },
  {
   "cell_type": "code",
   "execution_count": 46,
   "id": "654d378e",
   "metadata": {},
   "outputs": [
    {
     "data": {
      "text/plain": [
       "'abcdefghijklmnopqrstuvwxyz0123456789!\"#$%&\\'()*+,-./:;<=>?@[\\\\]^_`{|}~'"
      ]
     },
     "execution_count": 46,
     "metadata": {},
     "output_type": "execute_result"
    }
   ],
   "source": [
    "import string\n",
    "alphabet = string.ascii_lowercase + string.digits + string.punctuation\n",
    "alphabet"
   ]
  },
  {
   "cell_type": "code",
   "execution_count": 47,
   "id": "695fb9fe",
   "metadata": {},
   "outputs": [
    {
     "data": {
      "text/plain": [
       "70"
      ]
     },
     "execution_count": 47,
     "metadata": {},
     "output_type": "execute_result"
    }
   ],
   "source": [
    "NUM_CHAR_TOKENS = len(alphabet) + 2\n",
    "NUM_CHAR_TOKENS"
   ]
  },
  {
   "cell_type": "code",
   "execution_count": 48,
   "id": "b241163e",
   "metadata": {},
   "outputs": [],
   "source": [
    "char_vectorizer = tf.keras.layers.TextVectorization(max_tokens=NUM_CHAR_TOKENS,\n",
    "                                                    output_sequence_length=290,\n",
    "                                                    name=\"character_vectorizer\")\n",
    "char_vectorizer.adapt(train_chars)"
   ]
  },
  {
   "cell_type": "code",
   "execution_count": 49,
   "id": "c861da3b",
   "metadata": {},
   "outputs": [
    {
     "data": {
      "text/plain": [
       "{'name': 'character_vectorizer',\n",
       " 'trainable': True,\n",
       " 'batch_input_shape': (None,),\n",
       " 'dtype': 'string',\n",
       " 'max_tokens': 70,\n",
       " 'standardize': 'lower_and_strip_punctuation',\n",
       " 'split': 'whitespace',\n",
       " 'ngrams': None,\n",
       " 'output_mode': 'int',\n",
       " 'output_sequence_length': 290,\n",
       " 'pad_to_max_tokens': False,\n",
       " 'sparse': False,\n",
       " 'ragged': False,\n",
       " 'vocabulary': None,\n",
       " 'idf_weights': None}"
      ]
     },
     "execution_count": 49,
     "metadata": {},
     "output_type": "execute_result"
    }
   ],
   "source": [
    "char_vectorizer.get_config()"
   ]
  },
  {
   "cell_type": "code",
   "execution_count": 50,
   "id": "f3f15eaa",
   "metadata": {},
   "outputs": [
    {
     "data": {
      "text/plain": [
       "['', '[UNK]', 'e', 't', 'i']"
      ]
     },
     "execution_count": 50,
     "metadata": {},
     "output_type": "execute_result"
    }
   ],
   "source": [
    "char_vectorizer.get_vocabulary()[:5]"
   ]
  },
  {
   "cell_type": "code",
   "execution_count": 51,
   "id": "100dda69",
   "metadata": {},
   "outputs": [
    {
     "data": {
      "text/plain": [
       "28"
      ]
     },
     "execution_count": 51,
     "metadata": {},
     "output_type": "execute_result"
    }
   ],
   "source": [
    "char_vectorizer.vocabulary_size()"
   ]
  },
  {
   "cell_type": "code",
   "execution_count": 52,
   "id": "fc38e0e0",
   "metadata": {},
   "outputs": [
    {
     "data": {
      "text/plain": [
       "<keras.layers.embeddings.Embedding at 0x7f0b863e50d0>"
      ]
     },
     "execution_count": 52,
     "metadata": {},
     "output_type": "execute_result"
    }
   ],
   "source": [
    "char_embed = tf.keras.layers.Embedding(input_dim=char_vectorizer.vocabulary_size(),\n",
    "                                       output_dim=25,\n",
    "                                       mask_zero=True,\n",
    "                                       name=\"char_embed\")\n",
    "char_embed"
   ]
  },
  {
   "cell_type": "code",
   "execution_count": 53,
   "id": "5261d100",
   "metadata": {},
   "outputs": [
    {
     "data": {
      "text/plain": [
       "<tf.Tensor: shape=(1, 290, 25), dtype=float32, numpy=\n",
       "array([[[ 0.0445802 , -0.0486031 ,  0.03042425, ...,  0.03379646,\n",
       "         -0.00765437, -0.04994478],\n",
       "        [ 0.0445802 , -0.0486031 ,  0.03042425, ...,  0.03379646,\n",
       "         -0.00765437, -0.04994478],\n",
       "        [-0.03376848,  0.01188866, -0.03443843, ...,  0.0236714 ,\n",
       "         -0.02456341, -0.02533828],\n",
       "        ...,\n",
       "        [ 0.01714024,  0.03490695, -0.01438717, ..., -0.03081006,\n",
       "         -0.0099931 ,  0.00646704],\n",
       "        [ 0.01714024,  0.03490695, -0.01438717, ..., -0.03081006,\n",
       "         -0.0099931 ,  0.00646704],\n",
       "        [ 0.01714024,  0.03490695, -0.01438717, ..., -0.03081006,\n",
       "         -0.0099931 ,  0.00646704]]], dtype=float32)>"
      ]
     },
     "execution_count": 53,
     "metadata": {},
     "output_type": "execute_result"
    }
   ],
   "source": [
    "char_embed(char_vectorizer([\"This is a text\"]))"
   ]
  },
  {
   "cell_type": "code",
   "execution_count": 54,
   "id": "0bdba289",
   "metadata": {},
   "outputs": [
    {
     "name": "stdout",
     "output_type": "stream",
     "text": [
      "Model: \"char_embedding_model\"\n",
      "_________________________________________________________________\n",
      " Layer (type)                Output Shape              Param #   \n",
      "=================================================================\n",
      " input_layer (InputLayer)    [(None, 1)]               0         \n",
      "                                                                 \n",
      " text_vectorization (TextVec  (None, 55)               0         \n",
      " torization)                                                     \n",
      "                                                                 \n",
      " char_embed (Embedding)      (None, 55, 25)            700       \n",
      "                                                                 \n",
      " convolution_layer (Conv1D)  (None, 55, 64)            8064      \n",
      "                                                                 \n",
      " pooling_layer (GlobalMaxPoo  (None, 64)               0         \n",
      " ling1D)                                                         \n",
      "                                                                 \n",
      " output_layer (Dense)        (None, 5)                 325       \n",
      "                                                                 \n",
      "=================================================================\n",
      "Total params: 9,089\n",
      "Trainable params: 9,089\n",
      "Non-trainable params: 0\n",
      "_________________________________________________________________\n"
     ]
    },
    {
     "data": {
      "image/png": "[encoded data removed]",
      "text/plain": [
       "<IPython.core.display.Image object>"
      ]
     },
     "execution_count": 54,
     "metadata": {},
     "output_type": "execute_result"
    }
   ],
   "source": [
    "inputs_3 = tf.keras.layers.Input(shape=(1,), dtype=tf.string, name=\"input_layer\")\n",
    "vectorization_layer = text_vectorizer(inputs_3)\n",
    "embedding_layer = char_embed(vectorization_layer)\n",
    "convolution_layer = tf.keras.layers.Conv1D(filters=64,\n",
    "                                           kernel_size=5,\n",
    "                                           padding=\"same\",\n",
    "                                           activation=\"relu\",\n",
    "                                           name=\"convolution_layer\")(embedding_layer)\n",
    "pooling_layer = tf.keras.layers.GlobalMaxPool1D(name=\"pooling_layer\")(convolution_layer)\n",
    "outputs_3 = tf.keras.layers.Dense(units=5,\n",
    "                                  activation=\"relu\",\n",
    "                                  name=\"output_layer\")(pooling_layer)\n",
    "model_3 = tf.keras.Model(inputs=inputs_3, outputs=outputs_3, name=\"char_embedding_model\")\n",
    "model_3.summary()\n",
    "tf.keras.utils.plot_model(model=model_3, show_shapes=True)"
   ]
  },
  {
   "cell_type": "code",
   "execution_count": 55,
   "id": "33cf5ac6",
   "metadata": {},
   "outputs": [],
   "source": [
    "model_3.compile(loss=tf.keras.losses.CategoricalCrossentropy(),\n",
    "                optimizer=tf.keras.optimizers.Adam(),\n",
    "                metrics=[\"accuracy\"])"
   ]
  },
  {
   "cell_type": "code",
   "execution_count": 56,
   "id": "a88e08eb",
   "metadata": {},
   "outputs": [],
   "source": [
    "# dataset pipeline\n",
    "train_dataset = tf.data.Dataset.from_tensor_slices((train_chars, train_labels_one_hot)).batch(32).prefetch(tf.data.AUTOTUNE)\n",
    "valid_dataset = tf.data.Dataset.from_tensor_slices((valid_chars, val_labels_one_hot)).batch(32).prefetch(tf.data.AUTOTUNE)\n",
    "test_dataset = tf.data.Dataset.from_tensor_slices((test_chars, test_labels_one_hot)).batch(32).prefetch(tf.data.AUTOTUNE)"
   ]
  },
  {
   "cell_type": "code",
   "execution_count": 72,
   "id": "4b130812",
   "metadata": {},
   "outputs": [
    {
     "name": "stdout",
     "output_type": "stream",
     "text": [
      "Epoch 1/5\n",
      "556/562 [============================>.] - ETA: 0s - loss: 10.7397 - accuracy: 0.2098WARNING:tensorflow:Can save best model only with val_acc available, skipping.\n"
     ]
    },
    {
     "name": "stderr",
     "output_type": "stream",
     "text": [
      "WARNING:tensorflow:Can save best model only with val_acc available, skipping.\n"
     ]
    },
    {
     "name": "stdout",
     "output_type": "stream",
     "text": [
      "562/562 [==============================] - 6s 9ms/step - loss: 10.7069 - accuracy: 0.2111 - val_loss: 7.7126 - val_accuracy: 0.3205\n",
      "Epoch 2/5\n",
      "556/562 [============================>.] - ETA: 0s - loss: 7.7484 - accuracy: 0.3260WARNING:tensorflow:Can save best model only with val_acc available, skipping.\n"
     ]
    },
    {
     "name": "stderr",
     "output_type": "stream",
     "text": [
      "WARNING:tensorflow:Can save best model only with val_acc available, skipping.\n"
     ]
    },
    {
     "name": "stdout",
     "output_type": "stream",
     "text": [
      "562/562 [==============================] - 5s 9ms/step - loss: 7.7491 - accuracy: 0.3260 - val_loss: 7.6986 - val_accuracy: 0.3205\n",
      "Epoch 3/5\n",
      "560/562 [============================>.] - ETA: 0s - loss: 7.8132 - accuracy: 0.3164WARNING:tensorflow:Can save best model only with val_acc available, skipping.\n"
     ]
    },
    {
     "name": "stderr",
     "output_type": "stream",
     "text": [
      "WARNING:tensorflow:Can save best model only with val_acc available, skipping.\n"
     ]
    },
    {
     "name": "stdout",
     "output_type": "stream",
     "text": [
      "562/562 [==============================] - 5s 9ms/step - loss: 7.8108 - accuracy: 0.3163 - val_loss: 7.6932 - val_accuracy: 0.3205\n",
      "Epoch 4/5\n",
      "562/562 [==============================] - ETA: 0s - loss: 7.7065 - accuracy: 0.3288WARNING:tensorflow:Can save best model only with val_acc available, skipping.\n"
     ]
    },
    {
     "name": "stderr",
     "output_type": "stream",
     "text": [
      "WARNING:tensorflow:Can save best model only with val_acc available, skipping.\n"
     ]
    },
    {
     "name": "stdout",
     "output_type": "stream",
     "text": [
      "562/562 [==============================] - 5s 9ms/step - loss: 7.7065 - accuracy: 0.3288 - val_loss: 7.6974 - val_accuracy: 0.3211\n",
      "Epoch 5/5\n",
      "556/562 [============================>.] - ETA: 0s - loss: 7.6663 - accuracy: 0.3276WARNING:tensorflow:Can save best model only with val_acc available, skipping.\n"
     ]
    },
    {
     "name": "stderr",
     "output_type": "stream",
     "text": [
      "WARNING:tensorflow:Can save best model only with val_acc available, skipping.\n"
     ]
    },
    {
     "name": "stdout",
     "output_type": "stream",
     "text": [
      "\b\b\b\b\b\b\b\b\b\b\b\b\b\b\b\b\b\b\b\b\b\b\b\b\b\b\b\b\b\b\b\b\b\b\b\b\b\b\b\b\b\b\b\b\b\b\b\b\b\b\b\b\b\b\b\b\b\b\b\b\b\b\b\b\b\b\b\b\b\b\b\b\b\b\b\b\b\b\b\b\b\b\b\b\r",
      "562/562 [==============================] - 5s 9ms/step - loss: 7.6841 - accuracy: 0.3268 - val_loss: 7.6953 - val_accuracy: 0.3221\n"
     ]
    }
   ],
   "source": [
    "history_model_3 = model_3.fit(train_dataset,\n",
    "                        validation_data=valid_dataset,\n",
    "                              steps_per_epoch=int(0.1*len(train_dataset)),\n",
    "                              validation_steps=int(0.1*len(valid_dataset)),\n",
    "                        epochs=5,\n",
    "                        callbacks=[create_model_checkpoint_callback(\"skimlit\", model_3.name),\n",
    "                                   create_tensorboard_callback(\"skimlit\", model_3.name)])"
   ]
  },
  {
   "cell_type": "code",
   "execution_count": 73,
   "id": "b1d503b5",
   "metadata": {},
   "outputs": [
    {
     "name": "stdout",
     "output_type": "stream",
     "text": [
      "945/945 [==============================] - 5s 5ms/step - loss: 7.6667 - accuracy: 0.3262\n"
     ]
    },
    {
     "data": {
      "text/plain": [
       "[7.6667399406433105, 0.32616180181503296]"
      ]
     },
     "execution_count": 73,
     "metadata": {},
     "output_type": "execute_result"
    }
   ],
   "source": [
    "model_3.evaluate(valid_dataset)"
   ]
  },
  {
   "cell_type": "code",
   "execution_count": 74,
   "id": "c1cefd5f",
   "metadata": {},
   "outputs": [
    {
     "data": {
      "text/plain": [
       "array([[0.        , 0.36148253, 0.        , 0.17683725, 0.7994141 ],\n",
       "       [0.        , 0.5866841 , 0.        , 0.24236043, 0.80898553],\n",
       "       [0.        , 0.38279024, 0.        , 0.20866288, 0.73055   ],\n",
       "       ...,\n",
       "       [0.        , 0.43130714, 0.        , 0.36384144, 0.80495054],\n",
       "       [0.        , 0.3508219 , 0.        , 0.12320248, 0.83107626],\n",
       "       [0.        , 0.43197986, 0.        , 0.21724926, 0.7436036 ]],\n",
       "      dtype=float32)"
      ]
     },
     "execution_count": 74,
     "metadata": {},
     "output_type": "execute_result"
    }
   ],
   "source": [
    "model_3_preds_probs = model_3.predict(test_dataset)\n",
    "model_3_preds_probs"
   ]
  },
  {
   "cell_type": "code",
   "execution_count": 75,
   "id": "3014e73f",
   "metadata": {},
   "outputs": [
    {
     "name": "stdout",
     "output_type": "stream",
     "text": [
      "[calculate_results_score] the accuracy is :: 32.25817156130745\n",
      "[calculate_results_score] The precision is : 0.15300183588446734\n",
      "[calculate_results_score] The recall is : 0.32258171561307447\n",
      "[calculate_results_score] The f1 score is : 0.1592108622770655\n"
     ]
    },
    {
     "name": "stderr",
     "output_type": "stream",
     "text": [
      "/home/arun/learn/tensorflow_certification/venv/lib/python3.8/site-packages/sklearn/metrics/_classification.py:1318: UndefinedMetricWarning: Precision and F-score are ill-defined and being set to 0.0 in labels with no predicted samples. Use `zero_division` parameter to control this behavior.\n",
      "  _warn_prf(average, modifier, msg_start, len(result))\n"
     ]
    }
   ],
   "source": [
    "model_3_results = calculate_results_score(test_labels_encoded,\n",
    "                                          tf.argmax(model_3_preds_probs, axis=1))"
   ]
  },
  {
   "cell_type": "markdown",
   "id": "d85d771d",
   "metadata": {},
   "source": [
    "### Multi modal model, using multiple embedding layers, concatenate them"
   ]
  },
  {
   "cell_type": "code",
   "execution_count": 57,
   "id": "b7f3db0e",
   "metadata": {},
   "outputs": [],
   "source": [
    "# model 4\n",
    "# Token model\n",
    "token_inputs = tf.keras.layers.Input(shape=[], dtype=tf.string, name=\"token_input\")\n",
    "# Vectorization + Embedding\n",
    "# token_embeddings = hub.KerasLayer(hub.KerasLayer(\"https://tfhub.dev/google/universal-sentence-encoder/4\", \n",
    "#                                   trainable=False,\n",
    "#                                   name=\"universal_sentence_encoder\"))\n",
    "# embedding_layer = token_embeddings(token_inputs)\n",
    "embedding_layer = encoder_layer(token_inputs)\n",
    "token_output = tf.keras.layers.Dense(units=256, activation=\"relu\", name=\"token_activation\")(embedding_layer)\n",
    "token_model = tf.keras.Model(inputs=token_inputs, outputs=token_output, name=\"token_model\")\n",
    "\n",
    "# Character model\n",
    "char_inputs = tf.keras.layers.Input(shape=(1,), dtype=tf.string, name=\"char_input\")\n",
    "# Vectorization\n",
    "char_vectorization_layer = char_vectorizer(char_inputs)\n",
    "# Embeddings\n",
    "char_embeddings = tf.keras.layers.Embedding(input_dim=char_vectorizer.vocabulary_size(),\n",
    "                                       output_dim=25,\n",
    "                                       mask_zero=True,\n",
    "                                       name=\"char_embed\")\n",
    "char_embedding_layer = char_embeddings(char_vectorization_layer)\n",
    "char_bi_lstm = tf.keras.layers.Bidirectional(tf.keras.layers.LSTM(units=24, name=\"bidirectional_lstm\"))(char_embedding_layer)\n",
    "char_model = tf.keras.Model(inputs=char_inputs, outputs=char_bi_lstm, name=\"char_model\")\n",
    "\n",
    "# concatinate layer\n",
    "token_char_concatinate = tf.keras.layers.Concatenate(name=\"token_char_hybrid\")([token_model.output,\n",
    "                                                                               char_model.output])\n",
    "# Dropout layer\n",
    "combined_dropout = tf.keras.layers.Dropout(rate=0.5, seed=273, name=\"combined_dropout_layer\")(token_char_concatinate)\n",
    "# Fully Connnected layer\n",
    "combined_dense = tf.keras.layers.Dense(units=128, activation=\"relu\", name=\"dense_layer_a\")(combined_dropout)\n",
    "# Secondary dropout layer\n",
    "secondary_dropout = tf.keras.layers.Dropout(rate=0.5, seed=273)(combined_dense)\n",
    "# output layer\n",
    "output_layer = tf.keras.layers.Dense(units=5, activation=\"softmax\", name=\"output_layer\")(secondary_dropout)\n",
    "# build model\n",
    "model_4 = tf.keras.Model(inputs=[token_model.input, char_model.input],\n",
    "                                outputs=output_layer,\n",
    "                                name=\"token_and_character_model\")\n"
   ]
  },
  {
   "cell_type": "code",
   "execution_count": 58,
   "id": "47a1cc4b",
   "metadata": {},
   "outputs": [
    {
     "name": "stdout",
     "output_type": "stream",
     "text": [
      "Model: \"token_and_character_model\"\n",
      "__________________________________________________________________________________________________\n",
      " Layer (type)                   Output Shape         Param #     Connected to                     \n",
      "==================================================================================================\n",
      " char_input (InputLayer)        [(None, 1)]          0           []                               \n",
      "                                                                                                  \n",
      " token_input (InputLayer)       [(None,)]            0           []                               \n",
      "                                                                                                  \n",
      " character_vectorizer (TextVect  (None, 290)         0           ['char_input[0][0]']             \n",
      " orization)                                                                                       \n",
      "                                                                                                  \n",
      " universal_sentence_encoder (Ke  (None, 512)         256797824   ['token_input[0][0]']            \n",
      " rasLayer)                                                                                        \n",
      "                                                                                                  \n",
      " char_embed (Embedding)         (None, 290, 25)      700         ['character_vectorizer[0][0]']   \n",
      "                                                                                                  \n",
      " token_activation (Dense)       (None, 256)          131328      ['universal_sentence_encoder[1][0\n",
      "                                                                 ]']                              \n",
      "                                                                                                  \n",
      " bidirectional (Bidirectional)  (None, 48)           9600        ['char_embed[0][0]']             \n",
      "                                                                                                  \n",
      " token_char_hybrid (Concatenate  (None, 304)         0           ['token_activation[0][0]',       \n",
      " )                                                                'bidirectional[0][0]']          \n",
      "                                                                                                  \n",
      " combined_dropout_layer (Dropou  (None, 304)         0           ['token_char_hybrid[0][0]']      \n",
      " t)                                                                                               \n",
      "                                                                                                  \n",
      " dense_layer_a (Dense)          (None, 128)          39040       ['combined_dropout_layer[0][0]'] \n",
      "                                                                                                  \n",
      " dropout (Dropout)              (None, 128)          0           ['dense_layer_a[0][0]']          \n",
      "                                                                                                  \n",
      " output_layer (Dense)           (None, 5)            645         ['dropout[0][0]']                \n",
      "                                                                                                  \n",
      "==================================================================================================\n",
      "Total params: 256,979,137\n",
      "Trainable params: 181,313\n",
      "Non-trainable params: 256,797,824\n",
      "__________________________________________________________________________________________________\n"
     ]
    },
    {
     "data": {
      "image/png": "[encoded data removed]",
      "text/plain": [
       "<IPython.core.display.Image object>"
      ]
     },
     "execution_count": 58,
     "metadata": {},
     "output_type": "execute_result"
    }
   ],
   "source": [
    "model_4.summary()\n",
    "tf.keras.utils.plot_model(model_4, show_shapes=True)"
   ]
  },
  {
   "cell_type": "code",
   "execution_count": 59,
   "id": "05fa5d5c",
   "metadata": {},
   "outputs": [],
   "source": [
    "model_4.compile(loss=tf.keras.losses.CategoricalCrossentropy(),\n",
    "                optimizer = tf.keras.optimizers.Adam(),\n",
    "                metrics=[\"accuracy\"])"
   ]
  },
  {
   "cell_type": "code",
   "execution_count": 61,
   "id": "e092e2c9",
   "metadata": {},
   "outputs": [],
   "source": [
    "# dataset pipeline\n",
    "train_char_token_data = tf.data.Dataset.from_tensor_slices((train_sentences, train_chars))\n",
    "train_char_token_labels = tf.data.Dataset.from_tensor_slices(train_labels_one_hot)\n",
    "train_char_token_dataset = tf.data.Dataset.zip((train_char_token_data, train_char_token_labels))\n",
    "\n",
    "valid_char_token_data = tf.data.Dataset.from_tensor_slices((val_sentences, valid_chars))\n",
    "valid_char_token_labels = tf.data.Dataset.from_tensor_slices(val_labels_one_hot)\n",
    "valid_char_token_dataset = tf.data.Dataset.zip((valid_char_token_data, valid_char_token_labels))\n",
    "\n",
    "test_char_token_data = tf.data.Dataset.from_tensor_slices((test_sentences, test_chars))\n",
    "test_char_token_labels = tf.data.Dataset.from_tensor_slices(test_labels_one_hot)\n",
    "test_char_token_dataset = tf.data.Dataset.zip((test_char_token_data, test_char_token_labels))\n",
    "\n",
    "train_char_token_dataset = train_char_token_dataset.batch(32).prefetch(tf.data.AUTOTUNE)\n",
    "valid_char_token_dataset = valid_char_token_dataset.batch(32).prefetch(tf.data.AUTOTUNE)\n",
    "test_char_token_dataset = test_char_token_dataset.batch(32).prefetch(tf.data.AUTOTUNE)"
   ]
  },
  {
   "cell_type": "code",
   "execution_count": 63,
   "id": "311b6625",
   "metadata": {},
   "outputs": [
    {
     "name": "stdout",
     "output_type": "stream",
     "text": [
      "Epoch 1/3\n"
     ]
    },
    {
     "name": "stderr",
     "output_type": "stream",
     "text": [
      "2022-01-28 09:30:13.343120: I tensorflow/stream_executor/cuda/cuda_dnn.cc:366] Loaded cuDNN version 8202\n"
     ]
    },
    {
     "name": "stdout",
     "output_type": "stream",
     "text": [
      "5627/5627 [==============================] - ETA: 0s - loss: 0.7416 - accuracy: 0.7180WARNING:tensorflow:Can save best model only with val_acc available, skipping.\n"
     ]
    },
    {
     "name": "stderr",
     "output_type": "stream",
     "text": [
      "WARNING:tensorflow:Can save best model only with val_acc available, skipping.\n"
     ]
    },
    {
     "name": "stdout",
     "output_type": "stream",
     "text": [
      "5627/5627 [==============================] - 280s 48ms/step - loss: 0.7416 - accuracy: 0.7180 - val_loss: 0.6213 - val_accuracy: 0.7625\n",
      "Epoch 2/3\n",
      "5627/5627 [==============================] - ETA: 0s - loss: 0.6608 - accuracy: 0.7518WARNING:tensorflow:Can save best model only with val_acc available, skipping.\n"
     ]
    },
    {
     "name": "stderr",
     "output_type": "stream",
     "text": [
      "WARNING:tensorflow:Can save best model only with val_acc available, skipping.\n"
     ]
    },
    {
     "name": "stdout",
     "output_type": "stream",
     "text": [
      "5627/5627 [==============================] - 259s 46ms/step - loss: 0.6608 - accuracy: 0.7518 - val_loss: 0.5839 - val_accuracy: 0.7778\n",
      "Epoch 3/3\n",
      "5627/5627 [==============================] - ETA: 0s - loss: 0.6339 - accuracy: 0.7627WARNING:tensorflow:Can save best model only with val_acc available, skipping.\n"
     ]
    },
    {
     "name": "stderr",
     "output_type": "stream",
     "text": [
      "WARNING:tensorflow:Can save best model only with val_acc available, skipping.\n"
     ]
    },
    {
     "name": "stdout",
     "output_type": "stream",
     "text": [
      "\b\b\b\b\b\b\b\b\b\b\b\b\b\b\b\b\b\b\b\b\b\b\b\b\b\b\b\b\b\b\b\b\b\b\b\b\b\b\b\b\b\b\b\b\b\b\b\b\b\b\b\b\b\b\b\b\b\b\b\b\b\b\b\b\b\b\b\b\b\b\b\b\b\b\b\b\b\b\b\b\b\b\b\b\b\b\r",
      "5627/5627 [==============================] - 255s 45ms/step - loss: 0.6339 - accuracy: 0.7627 - val_loss: 0.5737 - val_accuracy: 0.7837\n"
     ]
    }
   ],
   "source": [
    "model_4_history = model_4.fit(train_char_token_dataset,\n",
    "                              validation_data=valid_char_token_dataset,\n",
    "                              epochs=3,\n",
    "                              callbacks=[create_model_checkpoint_callback(\"skimlit\", model_4.name),\n",
    "                                   create_tensorboard_callback(\"skimlit\",model_4.name)])"
   ]
  },
  {
   "cell_type": "code",
   "execution_count": 65,
   "id": "033929c9",
   "metadata": {},
   "outputs": [
    {
     "name": "stdout",
     "output_type": "stream",
     "text": [
      "945/945 [==============================] - 21s 23ms/step - loss: 0.5737 - accuracy: 0.7837\n"
     ]
    },
    {
     "data": {
      "text/plain": [
       "[0.573688268661499, 0.7836952209472656]"
      ]
     },
     "execution_count": 65,
     "metadata": {},
     "output_type": "execute_result"
    }
   ],
   "source": [
    "model_4.evaluate(valid_char_token_dataset)"
   ]
  },
  {
   "cell_type": "code",
   "execution_count": 67,
   "id": "743ff91b",
   "metadata": {},
   "outputs": [
    {
     "data": {
      "text/plain": [
       "array([[2.6303184e-01, 1.7714673e-01, 1.6903979e-01, 2.3026849e-01,\n",
       "        1.6051316e-01],\n",
       "       [9.9251524e-02, 3.6532640e-02, 7.3681700e-01, 7.6145776e-02,\n",
       "        5.1253047e-02],\n",
       "       [8.1356935e-05, 9.2303625e-04, 9.3382376e-01, 1.0537068e-04,\n",
       "        6.5066338e-02],\n",
       "       [4.8708529e-03, 8.1098237e-04, 9.0040356e-01, 8.4236879e-03,\n",
       "        8.5490942e-02],\n",
       "       [8.2478678e-04, 6.9886535e-02, 3.0850049e-02, 2.7564366e-04,\n",
       "        8.9816302e-01],\n",
       "       [4.1366866e-06, 3.9671615e-04, 9.6908079e-05, 7.7568308e-07,\n",
       "        9.9950147e-01],\n",
       "       [5.6817154e-03, 1.7961744e-02, 3.6405611e-01, 4.2218575e-03,\n",
       "        6.0807854e-01],\n",
       "       [5.6994462e-01, 1.6749938e-01, 2.7010262e-02, 2.0574090e-01,\n",
       "        2.9804841e-02],\n",
       "       [8.5377924e-02, 5.2878821e-01, 3.2715868e-02, 2.2562692e-02,\n",
       "        3.3055532e-01],\n",
       "       [3.8958085e-01, 4.4888076e-01, 4.3405727e-03, 1.5187269e-01,\n",
       "        5.3250776e-03]], dtype=float32)"
      ]
     },
     "execution_count": 67,
     "metadata": {},
     "output_type": "execute_result"
    }
   ],
   "source": [
    "model_4_pred_probs = model_4.predict(test_char_token_dataset)\n",
    "model_4_pred_probs[:10]"
   ]
  },
  {
   "cell_type": "code",
   "execution_count": 68,
   "id": "37cd3fcc",
   "metadata": {},
   "outputs": [
    {
     "data": {
      "text/plain": [
       "<tf.Tensor: shape=(30135,), dtype=int64, numpy=array([0, 2, 2, ..., 4, 4, 1])>"
      ]
     },
     "execution_count": 68,
     "metadata": {},
     "output_type": "execute_result"
    }
   ],
   "source": [
    "model_4_preds = tf.argmax(model_4_pred_probs, axis=1)\n",
    "model_4_preds"
   ]
  },
  {
   "cell_type": "code",
   "execution_count": null,
   "id": "6f35dcd9",
   "metadata": {},
   "outputs": [],
   "source": [
    "model_4_results = cal"
   ]
  }
 ],
 "metadata": {
  "kernelspec": {
   "display_name": "Python 3 (ipykernel)",
   "language": "python",
   "name": "python3"
  },
  "language_info": {
   "codemirror_mode": {
    "name": "ipython",
    "version": 3
   },
   "file_extension": ".py",
   "mimetype": "text/x-python",
   "name": "python",
   "nbconvert_exporter": "python",
   "pygments_lexer": "ipython3",
   "version": "3.8.10"
  }
 },
 "nbformat": 4,
 "nbformat_minor": 5
}
