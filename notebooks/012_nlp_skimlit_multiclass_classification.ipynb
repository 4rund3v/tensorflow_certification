{
 "cells": [
  {
   "cell_type": "code",
   "execution_count": 1,
   "id": "b6350011",
   "metadata": {},
   "outputs": [],
   "source": [
    "import os\n",
    "import sys\n",
    "import tensorflow as tf\n",
    "import tensorflow_hub as hub\n",
    "import matplotlib.pyplot as plt\n",
    "import pandas as pd\n",
    "import numpy as np\n",
    "from sklearn.model_selection import train_test_split"
   ]
  },
  {
   "cell_type": "code",
   "execution_count": 2,
   "id": "be5ad0dc",
   "metadata": {},
   "outputs": [],
   "source": [
    "def preprocess_text_with_line_numbers(text_lines: list):\n",
    "    abstracts = {}\n",
    "    for input_line in text_lines:\n",
    "        input_line = input_line.strip().lower()\n",
    "        if input_line.startswith(\"###\"):\n",
    "            abstract_id = input_line.strip(\"#\")\n",
    "            abstracts[abstract_id] = []\n",
    "            continue\n",
    "        if not input_line:\n",
    "            continue\n",
    "        abstracts[abstract_id].append(input_line)\n",
    "    abstract_samples = []\n",
    "    for abstract in abstracts:\n",
    "        total_lines = len(abstracts[abstract]) -1\n",
    "        for line_num, line in enumerate(abstracts[abstract]):\n",
    "            line = line.strip()\n",
    "            caption, text = line.split('\\t')\n",
    "            sample = {}\n",
    "            sample[\"abstract_id\"] = abstract\n",
    "            sample[\"target\"] = caption\n",
    "            sample[\"text\"] = text\n",
    "            sample[\"line_number\"] = line_num\n",
    "            sample[\"total_lines\"] = total_lines\n",
    "            abstract_samples.append(sample)\n",
    "    return abstract_samples       "
   ]
  },
  {
   "cell_type": "code",
   "execution_count": 3,
   "id": "7a596426",
   "metadata": {},
   "outputs": [],
   "source": [
    "def create_tensorboard_callback(experiment_name, model_name):\n",
    "    \"\"\"\n",
    "    Create an tensorboard callback.\n",
    "    \"\"\"\n",
    "    return tf.keras.callbacks.TensorBoard(log_dir=os.path.join(\"model_logs\", experiment_name, model_name))"
   ]
  },
  {
   "cell_type": "code",
   "execution_count": 4,
   "id": "0dd018bb",
   "metadata": {},
   "outputs": [],
   "source": [
    "def create_model_checkpoint_callback(experiment_name, model_name):\n",
    "    \"\"\"\n",
    "     Create an Model Checkpoint callback\n",
    "    \"\"\"\n",
    "    return tf.keras.callbacks.ModelCheckpoint(filepath=os.path.join(\"model_checkpoints\", experiment_name, model_name+\".ckpt\"),\n",
    "                                              save_weights_only=True, monitor=\"val_acc\", \n",
    "                                              save_best_only=True)"
   ]
  },
  {
   "cell_type": "code",
   "execution_count": 5,
   "id": "c68a09a6",
   "metadata": {},
   "outputs": [
    {
     "name": "stdout",
     "output_type": "stream",
     "text": [
      "GPU 0: NVIDIA GeForce GTX 1650 (UUID: GPU-815dd684-e219-0fdd-061d-cf65e500b74c)\r\n"
     ]
    }
   ],
   "source": [
    "!nvidia-smi -L"
   ]
  },
  {
   "cell_type": "code",
   "execution_count": 6,
   "id": "c7a236ce",
   "metadata": {},
   "outputs": [],
   "source": [
    "# Dataset source\n",
    "DATASET_SOURCE = \"../datasets/pubmed/pubmed-rct\"\n",
    "pubmed_20k_dataset = os.path.join(DATASET_SOURCE, \"PubMed_20k_RCT_numbers_replaced_with_at_sign\")\n",
    "train_file = os.path.join(pubmed_20k_dataset, \"train.txt\")\n",
    "test_file = os.path.join(pubmed_20k_dataset, \"test.txt\")\n",
    "dev_file = os.path.join(pubmed_20k_dataset, \"dev.txt\")"
   ]
  },
  {
   "cell_type": "code",
   "execution_count": 7,
   "id": "a4210b59",
   "metadata": {},
   "outputs": [],
   "source": [
    "with open(train_file, \"r\") as rfile:\n",
    "    train_lines = rfile.readlines()\n",
    "with open(test_file, \"r\") as rfile:\n",
    "    test_lines = rfile.readlines()\n",
    "with open(dev_file, \"r\") as rfile:\n",
    "    dev_lines = rfile.readlines()"
   ]
  },
  {
   "cell_type": "code",
   "execution_count": 8,
   "id": "a5da5269",
   "metadata": {},
   "outputs": [
    {
     "data": {
      "text/plain": [
       "(210040, 35135)"
      ]
     },
     "execution_count": 8,
     "metadata": {},
     "output_type": "execute_result"
    }
   ],
   "source": [
    "len(train_lines), len(test_lines)"
   ]
  },
  {
   "cell_type": "code",
   "execution_count": 9,
   "id": "29fdbf43",
   "metadata": {},
   "outputs": [
    {
     "data": {
      "text/plain": [
       "['###24293578\\n',\n",
       " 'OBJECTIVE\\tTo investigate the efficacy of @ weeks of daily low-dose oral prednisolone in improving pain , mobility , and systemic low-grade inflammation in the short term and whether the effect would be sustained at @ weeks in older adults with moderate to severe knee osteoarthritis ( OA ) .\\n',\n",
       " 'METHODS\\tA total of @ patients with primary knee OA were randomized @:@ ; @ received @ mg/day of prednisolone and @ received placebo for @ weeks .\\n',\n",
       " 'METHODS\\tOutcome measures included pain reduction and improvement in function scores and systemic inflammation markers .\\n',\n",
       " 'METHODS\\tPain was assessed using the visual analog pain scale ( @-@ mm ) .\\n',\n",
       " 'METHODS\\tSecondary outcome measures included the Western Ontario and McMaster Universities Osteoarthritis Index scores , patient global assessment ( PGA ) of the severity of knee OA , and @-min walk distance ( @MWD ) .\\n',\n",
       " 'METHODS\\tSerum levels of interleukin @ ( IL-@ ) , IL-@ , tumor necrosis factor ( TNF ) - , and high-sensitivity C-reactive protein ( hsCRP ) were measured .\\n',\n",
       " 'RESULTS\\tThere was a clinically relevant reduction in the intervention group compared to the placebo group for knee pain , physical function , PGA , and @MWD at @ weeks .\\n',\n",
       " 'RESULTS\\tThe mean difference between treatment arms ( @ % CI ) was @ ( @-@ @ ) , p < @ ; @ ( @-@ @ ) , p < @ ; @ ( @-@ @ ) , p < @ ; and @ ( @-@ @ ) , p < @ , respectively .\\n',\n",
       " 'RESULTS\\tFurther , there was a clinically relevant reduction in the serum levels of IL-@ , IL-@ , TNF - , and hsCRP at @ weeks in the intervention group when compared to the placebo group .\\n',\n",
       " 'RESULTS\\tThese differences remained significant at @ weeks .\\n',\n",
       " 'RESULTS\\tThe Outcome Measures in Rheumatology Clinical Trials-Osteoarthritis Research Society International responder rate was @ % in the intervention group and @ % in the placebo group ( p < @ ) .\\n',\n",
       " 'CONCLUSIONS\\tLow-dose oral prednisolone had both a short-term and a longer sustained effect resulting in less knee pain , better physical function , and attenuation of systemic inflammation in older patients with knee OA ( ClinicalTrials.gov identifier NCT@ ) .\\n',\n",
       " '\\n',\n",
       " '###24854809\\n',\n",
       " 'BACKGROUND\\tEmotional eating is associated with overeating and the development of obesity .\\n',\n",
       " 'BACKGROUND\\tYet , empirical evidence for individual ( trait ) differences in emotional eating and cognitive mechanisms that contribute to eating during sad mood remain equivocal .\\n',\n",
       " 'OBJECTIVE\\tThe aim of this study was to test if attention bias for food moderates the effect of self-reported emotional eating during sad mood ( vs neutral mood ) on actual food intake .\\n',\n",
       " 'OBJECTIVE\\tIt was expected that emotional eating is predictive of elevated attention for food and higher food intake after an experimentally induced sad mood and that attentional maintenance on food predicts food intake during a sad versus a neutral mood .\\n',\n",
       " 'METHODS\\tParticipants ( N = @ ) were randomly assigned to one of the two experimental mood induction conditions ( sad/neutral ) .\\n',\n",
       " 'METHODS\\tAttentional biases for high caloric foods were measured by eye tracking during a visual probe task with pictorial food and neutral stimuli .\\n',\n",
       " 'METHODS\\tSelf-reported emotional eating was assessed with the Dutch Eating Behavior Questionnaire ( DEBQ ) and ad libitum food intake was tested by a disguised food offer .\\n',\n",
       " 'RESULTS\\tHierarchical multivariate regression modeling showed that self-reported emotional eating did not account for changes in attention allocation for food or food intake in either condition .\\n',\n",
       " 'RESULTS\\tYet , attention maintenance on food cues was significantly related to increased intake specifically in the neutral condition , but not in the sad mood condition .\\n',\n",
       " 'CONCLUSIONS\\tThe current findings show that self-reported emotional eating ( based on the DEBQ ) might not validly predict who overeats when sad , at least not in a laboratory setting with healthy women .\\n',\n",
       " 'CONCLUSIONS\\tResults further suggest that attention maintenance on food relates to eating motivation when in a neutral affective state , and might therefore be a cognitive mechanism contributing to increased food intake in general , but maybe not during sad mood .\\n',\n",
       " '\\n',\n",
       " '###25165090\\n',\n",
       " 'BACKGROUND\\tAlthough working smoke alarms halve deaths in residential fires , many households do not keep alarms operational .\\n',\n",
       " 'BACKGROUND\\tWe tested whether theory-based education increases alarm operability .\\n']"
      ]
     },
     "execution_count": 9,
     "metadata": {},
     "output_type": "execute_result"
    }
   ],
   "source": [
    "train_lines[0:30]"
   ]
  },
  {
   "cell_type": "code",
   "execution_count": 10,
   "id": "5cde6461",
   "metadata": {},
   "outputs": [],
   "source": [
    "train_abstracts = preprocess_text_with_line_numbers(train_lines)\n",
    "test_abstracts = preprocess_text_with_line_numbers(test_lines)\n",
    "dev_abstracts = preprocess_text_with_line_numbers(dev_lines)"
   ]
  },
  {
   "cell_type": "code",
   "execution_count": 11,
   "id": "d810bc11",
   "metadata": {},
   "outputs": [
    {
     "data": {
      "text/plain": [
       "(180040, 30135, 30212)"
      ]
     },
     "execution_count": 11,
     "metadata": {},
     "output_type": "execute_result"
    }
   ],
   "source": [
    "len(train_abstracts), len(test_abstracts), len(dev_abstracts)"
   ]
  },
  {
   "cell_type": "code",
   "execution_count": 12,
   "id": "6cf607ab",
   "metadata": {},
   "outputs": [],
   "source": [
    "train_df = pd.DataFrame(train_abstracts)\n",
    "test_df = pd.DataFrame(test_abstracts)\n",
    "val_df = pd.DataFrame(dev_abstracts)"
   ]
  },
  {
   "cell_type": "code",
   "execution_count": 13,
   "id": "ba74e8b1",
   "metadata": {},
   "outputs": [
    {
     "name": "stdout",
     "output_type": "stream",
     "text": [
      "  abstract_id     target                                               text  \\\n",
      "0    24293578  objective  to investigate the efficacy of @ weeks of dail...   \n",
      "1    24293578    methods  a total of @ patients with primary knee oa wer...   \n",
      "2    24293578    methods  outcome measures included pain reduction and i...   \n",
      "3    24293578    methods  pain was assessed using the visual analog pain...   \n",
      "4    24293578    methods  secondary outcome measures included the wester...   \n",
      "\n",
      "   line_number  total_lines  \n",
      "0            0           11  \n",
      "1            1           11  \n",
      "2            2           11  \n",
      "3            3           11  \n",
      "4            4           11     abstract_id      target                                               text  \\\n",
      "0    24845963  background  this study analyzed liver function abnormaliti...   \n",
      "1    24845963     results  a post hoc analysis was conducted with the use...   \n",
      "2    24845963     results  liver function tests ( lfts ) were measured at...   \n",
      "3    24845963     results  survival analyses were used to assess the asso...   \n",
      "4    24845963     results  the percentage of patients with abnormal lfts ...   \n",
      "\n",
      "   line_number  total_lines  \n",
      "0            0            8  \n",
      "1            1            8  \n",
      "2            2            8  \n",
      "3            3            8  \n",
      "4            4            8     abstract_id      target                                               text  \\\n",
      "0    24290286  background  ige sensitization to aspergillus fumigatus and...   \n",
      "1    24290286  background  it is not clear whether these patients would b...   \n",
      "2    24290286   objective  we sought to determine whether a @-month cours...   \n",
      "3    24290286     methods  asthmatic patients who were ige sensitized to ...   \n",
      "4    24290286     methods  primary outcomes were improvement in quality o...   \n",
      "\n",
      "   line_number  total_lines  \n",
      "0            0            9  \n",
      "1            1            9  \n",
      "2            2            9  \n",
      "3            3            9  \n",
      "4            4            9  \n"
     ]
    }
   ],
   "source": [
    "print(train_df.head(), test_df.head(), val_df.head())"
   ]
  },
  {
   "cell_type": "code",
   "execution_count": 14,
   "id": "ea4d6d9f",
   "metadata": {},
   "outputs": [
    {
     "data": {
      "text/plain": [
       "methods        59353\n",
       "results        57953\n",
       "conclusions    27168\n",
       "background     21727\n",
       "objective      13839\n",
       "Name: target, dtype: int64"
      ]
     },
     "execution_count": 14,
     "metadata": {},
     "output_type": "execute_result"
    }
   ],
   "source": [
    "train_df.target.value_counts()"
   ]
  },
  {
   "cell_type": "code",
   "execution_count": 15,
   "id": "98f147db",
   "metadata": {},
   "outputs": [
    {
     "data": {
      "text/plain": [
       "<AxesSubplot:ylabel='Frequency'>"
      ]
     },
     "execution_count": 15,
     "metadata": {},
     "output_type": "execute_result"
    },
    {
     "data": {
      "image/png": "[encoded data removed]",
      "text/plain": [
       "<Figure size 432x288 with 1 Axes>"
      ]
     },
     "metadata": {
      "needs_background": "light"
     },
     "output_type": "display_data"
    }
   ],
   "source": [
    "train_df.total_lines.plot.hist()"
   ]
  },
  {
   "cell_type": "code",
   "execution_count": 16,
   "id": "7f81935d",
   "metadata": {},
   "outputs": [
    {
     "name": "stdout",
     "output_type": "stream",
     "text": [
      "180040 30212 30135\n",
      "180040 30212 30135\n"
     ]
    }
   ],
   "source": [
    "train_sentences = train_df[\"text\"].to_list()\n",
    "val_sentences = val_df[\"text\"].to_list()\n",
    "test_sentences = test_df[\"text\"].to_list()\n",
    "print(len(train_sentences), len(val_sentences), len(test_sentences))\n",
    "\n",
    "train_labels = train_df[\"target\"].to_list()\n",
    "val_labels = val_df[\"target\"].to_list()\n",
    "test_labels = test_df[\"target\"].to_list()\n",
    "print(len(train_labels), len(val_labels), len(test_labels))\n"
   ]
  },
  {
   "cell_type": "code",
   "execution_count": 17,
   "id": "40bfabc7",
   "metadata": {},
   "outputs": [
    {
     "data": {
      "text/plain": [
       "['objective',\n",
       " 'methods',\n",
       " 'methods',\n",
       " 'methods',\n",
       " 'methods',\n",
       " 'methods',\n",
       " 'results',\n",
       " 'results',\n",
       " 'results',\n",
       " 'results']"
      ]
     },
     "execution_count": 17,
     "metadata": {},
     "output_type": "execute_result"
    }
   ],
   "source": [
    "train_labels[:10]"
   ]
  },
  {
   "cell_type": "code",
   "execution_count": 18,
   "id": "bc0ef711",
   "metadata": {},
   "outputs": [
    {
     "data": {
      "text/plain": [
       "array([[1., 0., 0., 0., 0.],\n",
       "       [0., 0., 0., 0., 1.],\n",
       "       [0., 0., 0., 0., 1.],\n",
       "       ...,\n",
       "       [0., 0., 0., 0., 1.],\n",
       "       [0., 0., 0., 0., 1.],\n",
       "       [0., 1., 0., 0., 0.]])"
      ]
     },
     "execution_count": 18,
     "metadata": {},
     "output_type": "execute_result"
    }
   ],
   "source": [
    "# one hot\n",
    "from sklearn.preprocessing import OneHotEncoder\n",
    "\n",
    "one_hot_encoder = OneHotEncoder(sparse=False)\n",
    "one_hot_encoder.fit(np.array(train_labels).reshape(-1,1))\n",
    "train_labels_one_hot = one_hot_encoder.transform(np.array(train_labels).reshape(-1,1))\n",
    "val_labels_one_hot   = one_hot_encoder.transform(np.array(val_labels).reshape(-1,1))\n",
    "test_labels_one_hot  = one_hot_encoder.transform(np.array(test_labels).reshape(-1,1))\n",
    "test_labels_one_hot"
   ]
  },
  {
   "cell_type": "code",
   "execution_count": 19,
   "id": "bf84fedc",
   "metadata": {},
   "outputs": [
    {
     "data": {
      "text/plain": [
       "array([3, 2, 2, ..., 4, 1, 1])"
      ]
     },
     "execution_count": 19,
     "metadata": {},
     "output_type": "execute_result"
    }
   ],
   "source": [
    "from sklearn.preprocessing import LabelEncoder\n",
    "label_encoder = LabelEncoder()\n",
    "label_encoder.fit(np.array(train_labels))\n",
    "train_labels_encoded = label_encoder.transform(np.array(train_labels))\n",
    "val_labels_encoded = label_encoder.transform(np.array(val_labels))\n",
    "test_labels_encoded = label_encoder.transform(np.array(test_labels))\n",
    "train_labels_encoded"
   ]
  },
  {
   "cell_type": "code",
   "execution_count": 20,
   "id": "da1b5eae",
   "metadata": {},
   "outputs": [
    {
     "data": {
      "text/plain": [
       "'results'"
      ]
     },
     "execution_count": 20,
     "metadata": {},
     "output_type": "execute_result"
    }
   ],
   "source": [
    "label_encoder.classes_[4]"
   ]
  },
  {
   "cell_type": "markdown",
   "id": "f08a1b70",
   "metadata": {},
   "source": [
    "### Base Model"
   ]
  },
  {
   "cell_type": "code",
   "execution_count": 21,
   "id": "db2f00f0",
   "metadata": {},
   "outputs": [
    {
     "data": {
      "text/plain": [
       "Pipeline(steps=[('tf-idf', TfidfVectorizer()), ('clf', MultinomialNB())])"
      ]
     },
     "execution_count": 21,
     "metadata": {},
     "output_type": "execute_result"
    }
   ],
   "source": [
    "from sklearn.naive_bayes import MultinomialNB\n",
    "from sklearn.pipeline import Pipeline\n",
    "from sklearn.feature_extraction.text import TfidfVectorizer\n",
    "\n",
    "model_0 = Pipeline([\n",
    "    (\"tf-idf\", TfidfVectorizer()),\n",
    "    (\"clf\", MultinomialNB())\n",
    "    ])\n",
    "model_0.fit(X=train_sentences,y=train_labels_encoded)"
   ]
  },
  {
   "cell_type": "code",
   "execution_count": 22,
   "id": "b3ddd834",
   "metadata": {},
   "outputs": [
    {
     "data": {
      "text/plain": [
       "0.7218323844829869"
      ]
     },
     "execution_count": 22,
     "metadata": {},
     "output_type": "execute_result"
    }
   ],
   "source": [
    "model_0.score(X=val_sentences,\n",
    "              y=val_labels_encoded)"
   ]
  },
  {
   "cell_type": "code",
   "execution_count": 23,
   "id": "155f6d71",
   "metadata": {},
   "outputs": [
    {
     "data": {
      "text/plain": [
       "array([2, 2, 2, ..., 4, 4, 4])"
      ]
     },
     "execution_count": 23,
     "metadata": {},
     "output_type": "execute_result"
    }
   ],
   "source": [
    "base_preds = model_0.predict(test_sentences)\n",
    "base_preds"
   ]
  },
  {
   "cell_type": "code",
   "execution_count": 24,
   "id": "d910851f",
   "metadata": {},
   "outputs": [],
   "source": [
    "from sklearn.metrics import accuracy_score, precision_recall_fscore_support\n",
    "\n",
    "def calculate_results_score(y_true, y_pred):\n",
    "    model_accuracy = accuracy_score(y_true, y_pred)*100\n",
    "    print(f\"[calculate_results_score] the accuracy is :: {model_accuracy}\")\n",
    "    model_precision, model_recall, model_f1_score, _ = precision_recall_fscore_support(y_true, y_pred, average=\"weighted\")\n",
    "    print(f\"[calculate_results_score] The precision is : {model_precision}\")\n",
    "    print(f\"[calculate_results_score] The recall is : {model_recall}\")\n",
    "    print(f\"[calculate_results_score] The f1 score is : {model_f1_score}\")\n",
    "    return {\n",
    "        \"accuracy\": model_accuracy,\n",
    "        \"precision\": model_precision,\n",
    "        \"recall\": model_recall,\n",
    "        \"f1_score\": model_f1_score,\n",
    "             }"
   ]
  },
  {
   "cell_type": "code",
   "execution_count": 25,
   "id": "a7581744",
   "metadata": {},
   "outputs": [
    {
     "name": "stdout",
     "output_type": "stream",
     "text": [
      "[calculate_results_score] the accuracy is :: 71.6674962667994\n",
      "[calculate_results_score] The precision is : 0.7124322482375202\n",
      "[calculate_results_score] The recall is : 0.716674962667994\n",
      "[calculate_results_score] The f1 score is : 0.6925101703856846\n"
     ]
    },
    {
     "data": {
      "text/plain": [
       "{'accuracy': 71.6674962667994,\n",
       " 'precision': 0.7124322482375202,\n",
       " 'recall': 0.716674962667994,\n",
       " 'f1_score': 0.6925101703856846}"
      ]
     },
     "execution_count": 25,
     "metadata": {},
     "output_type": "execute_result"
    }
   ],
   "source": [
    "base_results = calculate_results_score(test_labels_encoded, base_preds)\n",
    "base_results"
   ]
  },
  {
   "cell_type": "markdown",
   "id": "4e6229b3",
   "metadata": {},
   "source": [
    "## Deep model"
   ]
  },
  {
   "cell_type": "code",
   "execution_count": 26,
   "id": "28f232d8",
   "metadata": {},
   "outputs": [
    {
     "data": {
      "text/plain": [
       "26.338269273494777"
      ]
     },
     "execution_count": 26,
     "metadata": {},
     "output_type": "execute_result"
    }
   ],
   "source": [
    "sentence_lengths = [len(sentence.split()) for sentence in train_sentences]\n",
    "average_sentence_length = sum(sentence_lengths)/len(train_sentences)\n",
    "average_sentence_length"
   ]
  },
  {
   "cell_type": "code",
   "execution_count": 27,
   "id": "036c4f93",
   "metadata": {},
   "outputs": [
    {
     "data": {
      "text/plain": [
       "26.338269273494777"
      ]
     },
     "execution_count": 27,
     "metadata": {},
     "output_type": "execute_result"
    }
   ],
   "source": [
    "# average length of the sentences\n",
    "np.mean(sentence_lengths)"
   ]
  },
  {
   "cell_type": "code",
   "execution_count": 28,
   "id": "12cc7cc6",
   "metadata": {},
   "outputs": [
    {
     "data": {
      "text/plain": [
       "55.0"
      ]
     },
     "execution_count": 28,
     "metadata": {},
     "output_type": "execute_result"
    }
   ],
   "source": [
    "# 95 % are under the 55 length\n",
    "np.percentile(sentence_lengths, 95)"
   ]
  },
  {
   "cell_type": "code",
   "execution_count": 29,
   "id": "a33dccb0",
   "metadata": {},
   "outputs": [
    {
     "name": "stderr",
     "output_type": "stream",
     "text": [
      "2022-01-27 20:50:30.610409: I tensorflow/stream_executor/cuda/cuda_gpu_executor.cc:939] successful NUMA node read from SysFS had negative value (-1), but there must be at least one NUMA node, so returning NUMA node zero\n",
      "2022-01-27 20:50:30.633706: I tensorflow/stream_executor/cuda/cuda_gpu_executor.cc:939] successful NUMA node read from SysFS had negative value (-1), but there must be at least one NUMA node, so returning NUMA node zero\n",
      "2022-01-27 20:50:30.634579: I tensorflow/stream_executor/cuda/cuda_gpu_executor.cc:939] successful NUMA node read from SysFS had negative value (-1), but there must be at least one NUMA node, so returning NUMA node zero\n",
      "2022-01-27 20:50:30.636121: I tensorflow/core/platform/cpu_feature_guard.cc:151] This TensorFlow binary is optimized with oneAPI Deep Neural Network Library (oneDNN) to use the following CPU instructions in performance-critical operations:  AVX2 FMA\n",
      "To enable them in other operations, rebuild TensorFlow with the appropriate compiler flags.\n",
      "2022-01-27 20:50:30.637085: I tensorflow/stream_executor/cuda/cuda_gpu_executor.cc:939] successful NUMA node read from SysFS had negative value (-1), but there must be at least one NUMA node, so returning NUMA node zero\n",
      "2022-01-27 20:50:30.637873: I tensorflow/stream_executor/cuda/cuda_gpu_executor.cc:939] successful NUMA node read from SysFS had negative value (-1), but there must be at least one NUMA node, so returning NUMA node zero\n",
      "2022-01-27 20:50:30.638245: I tensorflow/stream_executor/cuda/cuda_gpu_executor.cc:939] successful NUMA node read from SysFS had negative value (-1), but there must be at least one NUMA node, so returning NUMA node zero\n",
      "2022-01-27 20:50:31.146689: I tensorflow/stream_executor/cuda/cuda_gpu_executor.cc:939] successful NUMA node read from SysFS had negative value (-1), but there must be at least one NUMA node, so returning NUMA node zero\n",
      "2022-01-27 20:50:31.147069: I tensorflow/stream_executor/cuda/cuda_gpu_executor.cc:939] successful NUMA node read from SysFS had negative value (-1), but there must be at least one NUMA node, so returning NUMA node zero\n",
      "2022-01-27 20:50:31.147397: I tensorflow/stream_executor/cuda/cuda_gpu_executor.cc:939] successful NUMA node read from SysFS had negative value (-1), but there must be at least one NUMA node, so returning NUMA node zero\n",
      "2022-01-27 20:50:31.147705: I tensorflow/core/common_runtime/gpu/gpu_device.cc:1525] Created device /job:localhost/replica:0/task:0/device:GPU:0 with 1869 MB memory:  -> device: 0, name: NVIDIA GeForce GTX 1650, pci bus id: 0000:01:00.0, compute capability: 7.5\n"
     ]
    }
   ],
   "source": [
    "text_vectorizer = tf.keras.layers.TextVectorization(max_tokens=68000,\n",
    "                                                    # Default\n",
    "                                                    # standardize=\"lower_and_strip_punctuation\",\n",
    "                                                    # output_mode=\"int\",\n",
    "                                                    output_sequence_length=55)"
   ]
  },
  {
   "cell_type": "code",
   "execution_count": 30,
   "id": "2cf264a9",
   "metadata": {},
   "outputs": [],
   "source": [
    "text_vectorizer.adapt(train_sentences)"
   ]
  },
  {
   "cell_type": "code",
   "execution_count": 31,
   "id": "f8c11163",
   "metadata": {},
   "outputs": [
    {
     "data": {
      "text/plain": [
       "64841"
      ]
     },
     "execution_count": 31,
     "metadata": {},
     "output_type": "execute_result"
    }
   ],
   "source": [
    "text_vectorizer.vocabulary_size()"
   ]
  },
  {
   "cell_type": "code",
   "execution_count": 32,
   "id": "dc455f9f",
   "metadata": {},
   "outputs": [
    {
     "data": {
      "text/plain": [
       "['', '[UNK]', 'the', 'and', 'of']"
      ]
     },
     "execution_count": 32,
     "metadata": {},
     "output_type": "execute_result"
    }
   ],
   "source": [
    "text_vectorizer.get_vocabulary()[:5]"
   ]
  },
  {
   "cell_type": "code",
   "execution_count": 33,
   "id": "a70fc756",
   "metadata": {},
   "outputs": [],
   "source": [
    "embedding = tf.keras.layers.Embedding(input_dim=text_vectorizer.vocabulary_size(),\n",
    "                                            output_dim=128,\n",
    "                                            mask_zero=True,\n",
    "                                            name=\"token_embedding\",\n",
    "                                       )"
   ]
  },
  {
   "cell_type": "code",
   "execution_count": 34,
   "id": "1408394d",
   "metadata": {},
   "outputs": [
    {
     "data": {
      "text/plain": [
       "TensorShape([1, 55, 128])"
      ]
     },
     "execution_count": 34,
     "metadata": {},
     "output_type": "execute_result"
    }
   ],
   "source": [
    "embedded_sentence = embedding(text_vectorizer([\"The purpose of this experiment is to check if the paitent has covid19\"]))\n",
    "embedded_sentence.shape"
   ]
  },
  {
   "cell_type": "code",
   "execution_count": 35,
   "id": "5f85b03f",
   "metadata": {},
   "outputs": [],
   "source": [
    "# dataset pipeline\n",
    "train_dataset= tf.data.Dataset.from_tensor_slices((train_sentences, train_labels_one_hot))\n",
    "valid_dataset = tf.data.Dataset.from_tensor_slices((val_sentences, val_labels_one_hot))\n",
    "test_dataset = tf.data.Dataset.from_tensor_slices((test_sentences, test_labels_one_hot))\n",
    "train_dataset = train_dataset.batch(32).prefetch(tf.data.AUTOTUNE)\n",
    "valid_dataset = valid_dataset.batch(32).prefetch(tf.data.AUTOTUNE)\n",
    "test_dataset = test_dataset.batch(32).prefetch(tf.data.AUTOTUNE)"
   ]
  },
  {
   "cell_type": "code",
   "execution_count": 36,
   "id": "fbc8b2fd",
   "metadata": {},
   "outputs": [],
   "source": []
  },
  {
   "cell_type": "code",
   "execution_count": 37,
   "id": "48f2b881",
   "metadata": {},
   "outputs": [
    {
     "name": "stdout",
     "output_type": "stream",
     "text": [
      "Model: \"conv_model\"\n",
      "_________________________________________________________________\n",
      " Layer (type)                Output Shape              Param #   \n",
      "=================================================================\n",
      " input_layer (InputLayer)    [(None, 1)]               0         \n",
      "                                                                 \n",
      " text_vectorization (TextVec  (None, 55)               0         \n",
      " torization)                                                     \n",
      "                                                                 \n",
      " token_embedding (Embedding)  (None, 55, 128)          8299648   \n",
      "                                                                 \n",
      " convolution_layer (Conv1D)  (None, 55, 128)           82048     \n",
      "                                                                 \n",
      " pooling_layer (GlobalAverag  (None, 128)              0         \n",
      " ePooling1D)                                                     \n",
      "                                                                 \n",
      " output_layer (Dense)        (None, 5)                 645       \n",
      "                                                                 \n",
      "=================================================================\n",
      "Total params: 8,382,341\n",
      "Trainable params: 8,382,341\n",
      "Non-trainable params: 0\n",
      "_________________________________________________________________\n"
     ]
    },
    {
     "data": {
      "image/png": "[encoded data removed]",
      "text/plain": [
       "<IPython.core.display.Image object>"
      ]
     },
     "execution_count": 37,
     "metadata": {},
     "output_type": "execute_result"
    }
   ],
   "source": [
    "inputs_1 = tf.keras.layers.Input(shape=(1,), dtype=tf.string, name=\"input_layer\")\n",
    "vectorization_layer = text_vectorizer(inputs_1)\n",
    "embedding_layer = embedding(vectorization_layer)\n",
    "conv_layer = tf.keras.layers.Conv1D(filters=128,\n",
    "                                    padding=\"same\",\n",
    "                                    activation=\"relu\",\n",
    "                                    kernel_size=5,\n",
    "                                    name=\"convolution_layer\")(embedding_layer)\n",
    "pooling_layer = tf.keras.layers.GlobalAveragePooling1D(name=\"pooling_layer\")(conv_layer)\n",
    "outputs_1 = tf.keras.layers.Dense(units=5, activation=\"softmax\", name=\"output_layer\")(pooling_layer)\n",
    "model_1 = tf.keras.Model(inputs=inputs_1, outputs=outputs_1, name=\"conv_model\")\n",
    "model_1.summary()\n",
    "tf.keras.utils.plot_model(model=model_1, show_shapes=True)"
   ]
  },
  {
   "cell_type": "code",
   "execution_count": 38,
   "id": "84279fa7",
   "metadata": {},
   "outputs": [],
   "source": [
    "# compile\n",
    "model_1.compile(loss=tf.keras.losses.CategoricalCrossentropy(),\n",
    "                optimizer=tf.keras.optimizers.Adam(),\n",
    "                metrics=[\"accuracy\"])"
   ]
  },
  {
   "cell_type": "code",
   "execution_count": 39,
   "id": "e1d079d1",
   "metadata": {},
   "outputs": [
    {
     "name": "stdout",
     "output_type": "stream",
     "text": [
      "Epoch 1/5\n"
     ]
    },
    {
     "name": "stderr",
     "output_type": "stream",
     "text": [
      "2022-01-27 20:51:00.017007: I tensorflow/stream_executor/cuda/cuda_dnn.cc:366] Loaded cuDNN version 8202\n"
     ]
    },
    {
     "name": "stdout",
     "output_type": "stream",
     "text": [
      "5627/5627 [==============================] - ETA: 0s - loss: 0.6065 - accuracy: 0.7792WARNING:tensorflow:Can save best model only with val_acc available, skipping.\n",
      "5627/5627 [==============================] - 98s 17ms/step - loss: 0.6065 - accuracy: 0.7792 - val_loss: 0.5342 - val_accuracy: 0.8092\n",
      "Epoch 2/5\n",
      "5627/5627 [==============================] - ETA: 0s - loss: 0.4439 - accuracy: 0.8445WARNING:tensorflow:Can save best model only with val_acc available, skipping.\n",
      "5627/5627 [==============================] - 95s 17ms/step - loss: 0.4439 - accuracy: 0.8445 - val_loss: 0.5369 - val_accuracy: 0.8109\n",
      "Epoch 3/5\n",
      "5625/5627 [============================>.] - ETA: 0s - loss: 0.3571 - accuracy: 0.8779WARNING:tensorflow:Can save best model only with val_acc available, skipping.\n",
      "5627/5627 [==============================] - 95s 17ms/step - loss: 0.3571 - accuracy: 0.8779 - val_loss: 0.5840 - val_accuracy: 0.8046\n",
      "Epoch 4/5\n",
      "5626/5627 [============================>.] - ETA: 0s - loss: 0.2844 - accuracy: 0.9060WARNING:tensorflow:Can save best model only with val_acc available, skipping.\n",
      "5627/5627 [==============================] - 93s 17ms/step - loss: 0.2844 - accuracy: 0.9060 - val_loss: 0.6684 - val_accuracy: 0.7954\n",
      "Epoch 5/5\n",
      "5624/5627 [============================>.] - ETA: 0s - loss: 0.2243 - accuracy: 0.9284WARNING:tensorflow:Can save best model only with val_acc available, skipping.\n",
      "5627/5627 [==============================] - 87s 15ms/step - loss: 0.2244 - accuracy: 0.9284 - val_loss: 0.7757 - val_accuracy: 0.7874\n"
     ]
    }
   ],
   "source": [
    "# fit\n",
    "model_1_history = model_1.fit(train_dataset,\n",
    "            validation_data=valid_dataset,\n",
    "            epochs=5,\n",
    "            callbacks=[create_model_checkpoint_callback(\"skimlit\", model_1.name),\n",
    "                      create_tensorboard_callback(\"skimlit\", model_1.name)]\n",
    "            )"
   ]
  },
  {
   "cell_type": "code",
   "execution_count": 40,
   "id": "9ae875ba",
   "metadata": {},
   "outputs": [
    {
     "name": "stdout",
     "output_type": "stream",
     "text": [
      "945/945 [==============================] - 4s 4ms/step - loss: 0.7757 - accuracy: 0.7874\n"
     ]
    },
    {
     "data": {
      "text/plain": [
       "[0.7757201194763184, 0.7873692512512207]"
      ]
     },
     "execution_count": 40,
     "metadata": {},
     "output_type": "execute_result"
    }
   ],
   "source": [
    "model_1.evaluate(valid_dataset)"
   ]
  },
  {
   "cell_type": "code",
   "execution_count": 41,
   "id": "56360348",
   "metadata": {},
   "outputs": [
    {
     "data": {
      "text/plain": [
       "<tf.Tensor: shape=(30135,), dtype=int64, numpy=array([0, 4, 2, ..., 4, 4, 4])>"
      ]
     },
     "execution_count": 41,
     "metadata": {},
     "output_type": "execute_result"
    }
   ],
   "source": [
    "model_1_pred_probs = model_1.predict(test_dataset)\n",
    "model_1_preds = tf.argmax(model_1_pred_probs, axis=1)\n",
    "model_1_preds"
   ]
  },
  {
   "cell_type": "code",
   "execution_count": 42,
   "id": "4e5c06af",
   "metadata": {},
   "outputs": [
    {
     "name": "stdout",
     "output_type": "stream",
     "text": [
      "[calculate_results_score] the accuracy is :: 77.84967645594824\n",
      "[calculate_results_score] The precision is : 0.7755906009135497\n",
      "[calculate_results_score] The recall is : 0.7784967645594824\n",
      "[calculate_results_score] The f1 score is : 0.7756303661982095\n"
     ]
    },
    {
     "data": {
      "text/plain": [
       "{'accuracy': 77.84967645594824,\n",
       " 'precision': 0.7755906009135497,\n",
       " 'recall': 0.7784967645594824,\n",
       " 'f1_score': 0.7756303661982095}"
      ]
     },
     "execution_count": 42,
     "metadata": {},
     "output_type": "execute_result"
    }
   ],
   "source": [
    "model_1_results = calculate_results_score(test_labels_encoded, model_1_preds)\n",
    "model_1_results"
   ]
  },
  {
   "cell_type": "code",
   "execution_count": 43,
   "id": "7b018c38",
   "metadata": {},
   "outputs": [
    {
     "data": {
      "text/plain": [
       "{'accuracy': 71.6674962667994,\n",
       " 'precision': 0.7124322482375202,\n",
       " 'recall': 0.716674962667994,\n",
       " 'f1_score': 0.6925101703856846}"
      ]
     },
     "execution_count": 43,
     "metadata": {},
     "output_type": "execute_result"
    }
   ],
   "source": [
    "base_results"
   ]
  },
  {
   "cell_type": "code",
   "execution_count": 44,
   "id": "da20df1b",
   "metadata": {},
   "outputs": [
    {
     "name": "stdout",
     "output_type": "stream",
     "text": [
      "Model: \"pretrained_embedding_layer\"\n",
      "_________________________________________________________________\n",
      " Layer (type)                Output Shape              Param #   \n",
      "=================================================================\n",
      " input_layer (InputLayer)    [(None,)]                 0         \n",
      "                                                                 \n",
      " universal_sentence_encoder   (None, 512)              256797824 \n",
      " (KerasLayer)                                                    \n",
      "                                                                 \n",
      " fully_connected_layer_a (De  (None, 128)              65664     \n",
      " nse)                                                            \n",
      "                                                                 \n",
      " output_layer (Dense)        (None, 5)                 645       \n",
      "                                                                 \n",
      "=================================================================\n",
      "Total params: 256,864,133\n",
      "Trainable params: 66,309\n",
      "Non-trainable params: 256,797,824\n",
      "_________________________________________________________________\n"
     ]
    },
    {
     "data": {
      "image/png": "[encoded data removed]",
      "text/plain": [
       "<IPython.core.display.Image object>"
      ]
     },
     "execution_count": 44,
     "metadata": {},
     "output_type": "execute_result"
    }
   ],
   "source": [
    "# tf hub pre trained model\n",
    "inputs_2 = tf.keras.layers.Input(shape=[], dtype=tf.string, name=\"input_layer\")\n",
    "encoder_layer = hub.KerasLayer(\"https://tfhub.dev/google/universal-sentence-encoder/4\", \n",
    "                                  trainable=False,\n",
    "                                  name=\"universal_sentence_encoder\")\n",
    "embedding_layer = encoder_layer(inputs_2)\n",
    "fully_connected_layer_a = tf.keras.layers.Dense(units=128, activation=\"relu\", name=\"fully_connected_layer_a\")(embedding_layer)\n",
    "outputs_2 = tf.keras.layers.Dense(units=5, activation=\"softmax\", name=\"output_layer\")(fully_connected_layer_a)\n",
    "model_2 = tf.keras.Model(inputs=inputs_2, outputs=outputs_2, name=\"pretrained_embedding_layer\")\n",
    "model_2.summary()\n",
    "tf.keras.utils.plot_model(model_2)"
   ]
  },
  {
   "cell_type": "code",
   "execution_count": 45,
   "id": "8bf15ed9",
   "metadata": {},
   "outputs": [],
   "source": [
    "model_2.compile(loss=tf.keras.losses.CategoricalCrossentropy(),\n",
    "                optimizer=tf.keras.optimizers.Adam(),\n",
    "                metrics=[\"accuracy\"])"
   ]
  },
  {
   "cell_type": "code",
   "execution_count": 47,
   "id": "cc2a56e6",
   "metadata": {},
   "outputs": [
    {
     "name": "stdout",
     "output_type": "stream",
     "text": [
      "Epoch 1/5\n",
      "5626/5627 [============================>.] - ETA: 0s - loss: 0.5488 - accuracy: 0.7932WARNING:tensorflow:Can save best model only with val_acc available, skipping.\n"
     ]
    },
    {
     "name": "stderr",
     "output_type": "stream",
     "text": [
      "WARNING:tensorflow:Can save best model only with val_acc available, skipping.\n"
     ]
    },
    {
     "name": "stdout",
     "output_type": "stream",
     "text": [
      "5627/5627 [==============================] - 97s 17ms/step - loss: 0.5488 - accuracy: 0.7932 - val_loss: 0.5980 - val_accuracy: 0.7743\n",
      "Epoch 2/5\n",
      "5626/5627 [============================>.] - ETA: 0s - loss: 0.5374 - accuracy: 0.7980WARNING:tensorflow:Can save best model only with val_acc available, skipping.\n"
     ]
    },
    {
     "name": "stderr",
     "output_type": "stream",
     "text": [
      "WARNING:tensorflow:Can save best model only with val_acc available, skipping.\n"
     ]
    },
    {
     "name": "stdout",
     "output_type": "stream",
     "text": [
      "5627/5627 [==============================] - 97s 17ms/step - loss: 0.5374 - accuracy: 0.7980 - val_loss: 0.5995 - val_accuracy: 0.7747\n",
      "Epoch 3/5\n",
      "5626/5627 [============================>.] - ETA: 0s - loss: 0.5278 - accuracy: 0.8018WARNING:tensorflow:Can save best model only with val_acc available, skipping.\n"
     ]
    },
    {
     "name": "stderr",
     "output_type": "stream",
     "text": [
      "WARNING:tensorflow:Can save best model only with val_acc available, skipping.\n"
     ]
    },
    {
     "name": "stdout",
     "output_type": "stream",
     "text": [
      "5627/5627 [==============================] - 110s 20ms/step - loss: 0.5278 - accuracy: 0.8018 - val_loss: 0.6013 - val_accuracy: 0.7744\n",
      "Epoch 4/5\n",
      "5625/5627 [============================>.] - ETA: 0s - loss: 0.5193 - accuracy: 0.8047WARNING:tensorflow:Can save best model only with val_acc available, skipping.\n"
     ]
    },
    {
     "name": "stderr",
     "output_type": "stream",
     "text": [
      "WARNING:tensorflow:Can save best model only with val_acc available, skipping.\n"
     ]
    },
    {
     "name": "stdout",
     "output_type": "stream",
     "text": [
      "5627/5627 [==============================] - 117s 21ms/step - loss: 0.5193 - accuracy: 0.8047 - val_loss: 0.6039 - val_accuracy: 0.7733\n",
      "Epoch 5/5\n",
      "5625/5627 [============================>.] - ETA: 0s - loss: 0.5116 - accuracy: 0.8076WARNING:tensorflow:Can save best model only with val_acc available, skipping.\n"
     ]
    },
    {
     "name": "stderr",
     "output_type": "stream",
     "text": [
      "WARNING:tensorflow:Can save best model only with val_acc available, skipping.\n"
     ]
    },
    {
     "name": "stdout",
     "output_type": "stream",
     "text": [
      "\b\b\b\b\b\b\b\b\b\b\b\b\b\b\b\b\b\b\b\b\b\b\b\b\b\b\b\b\b\b\b\b\b\b\b\b\b\b\b\b\b\b\b\b\b\b\b\b\b\b\b\b\b\b\b\b\b\b\b\b\b\b\b\b\b\b\b\b\b\b\b\b\b\b\b\b\b\b\b\b\b\b\b\b\b\b\r",
      "5627/5627 [==============================] - 115s 20ms/step - loss: 0.5116 - accuracy: 0.8076 - val_loss: 0.6069 - val_accuracy: 0.7730\n"
     ]
    }
   ],
   "source": [
    "model_2_history = model_2.fit(train_dataset,\n",
    "            validation_data=valid_dataset,\n",
    "            epochs=5,\n",
    "            callbacks=[create_model_checkpoint_callback(\"skimlit\", model_2.name ),\n",
    "                       create_tensorboard_callback(\"skimlit\", model_2.name)]\n",
    "            )"
   ]
  },
  {
   "cell_type": "code",
   "execution_count": 48,
   "id": "9f05778d",
   "metadata": {},
   "outputs": [
    {
     "name": "stdout",
     "output_type": "stream",
     "text": [
      "945/945 [==============================] - 16s 17ms/step - loss: 0.6069 - accuracy: 0.7730\n"
     ]
    },
    {
     "data": {
      "text/plain": [
       "[0.6068759560585022, 0.7730371952056885]"
      ]
     },
     "execution_count": 48,
     "metadata": {},
     "output_type": "execute_result"
    }
   ],
   "source": [
    "model_2.evaluate(valid_dataset)"
   ]
  },
  {
   "cell_type": "code",
   "execution_count": 49,
   "id": "cd50cad4",
   "metadata": {},
   "outputs": [
    {
     "data": {
      "text/plain": [
       "array([[7.3077485e-02, 2.4881640e-01, 6.8528377e-02, 1.5563951e-01,\n",
       "        4.5393825e-01],\n",
       "       [8.5455813e-02, 1.2200125e-02, 5.5239797e-01, 5.0369199e-02,\n",
       "        2.9957691e-01],\n",
       "       [5.1791871e-05, 3.9694097e-04, 9.8516256e-01, 3.1269083e-05,\n",
       "        1.4357479e-02],\n",
       "       ...,\n",
       "       [5.0276020e-07, 3.6143477e-03, 1.6913067e-04, 4.0897197e-07,\n",
       "        9.9621564e-01],\n",
       "       [1.0914914e-03, 1.4249201e-02, 9.9385506e-04, 1.8506745e-04,\n",
       "        9.8348039e-01],\n",
       "       [5.6230188e-03, 8.7004691e-01, 1.8282389e-02, 3.2499591e-03,\n",
       "        1.0279770e-01]], dtype=float32)"
      ]
     },
     "execution_count": 49,
     "metadata": {},
     "output_type": "execute_result"
    }
   ],
   "source": [
    "model_2_pred_probs = model_2.predict(test_dataset)\n",
    "model_2_pred_probs"
   ]
  },
  {
   "cell_type": "code",
   "execution_count": 50,
   "id": "b92239fa",
   "metadata": {},
   "outputs": [
    {
     "name": "stdout",
     "output_type": "stream",
     "text": [
      "[calculate_results_score] the accuracy is :: 76.35639621702339\n",
      "[calculate_results_score] The precision is : 0.7609846528311802\n",
      "[calculate_results_score] The recall is : 0.7635639621702339\n",
      "[calculate_results_score] The f1 score is : 0.7594144995756628\n"
     ]
    },
    {
     "data": {
      "text/plain": [
       "{'accuracy': 76.35639621702339,\n",
       " 'precision': 0.7609846528311802,\n",
       " 'recall': 0.7635639621702339,\n",
       " 'f1_score': 0.7594144995756628}"
      ]
     },
     "execution_count": 50,
     "metadata": {},
     "output_type": "execute_result"
    }
   ],
   "source": [
    "model_2_results = calculate_results_score(test_labels_encoded, tf.argmax(model_2_pred_probs, axis=1))\n",
    "model_2_results"
   ]
  },
  {
   "cell_type": "code",
   "execution_count": 51,
   "id": "d962fe34",
   "metadata": {},
   "outputs": [
    {
     "data": {
      "text/plain": [
       "{'accuracy': 77.84967645594824,\n",
       " 'precision': 0.7755906009135497,\n",
       " 'recall': 0.7784967645594824,\n",
       " 'f1_score': 0.7756303661982095}"
      ]
     },
     "execution_count": 51,
     "metadata": {},
     "output_type": "execute_result"
    }
   ],
   "source": [
    "model_1_results"
   ]
  },
  {
   "cell_type": "code",
   "execution_count": 52,
   "id": "dfbb29b1",
   "metadata": {},
   "outputs": [
    {
     "data": {
      "text/plain": [
       "{'accuracy': 71.6674962667994,\n",
       " 'precision': 0.7124322482375202,\n",
       " 'recall': 0.716674962667994,\n",
       " 'f1_score': 0.6925101703856846}"
      ]
     },
     "execution_count": 52,
     "metadata": {},
     "output_type": "execute_result"
    }
   ],
   "source": [
    "base_results"
   ]
  },
  {
   "cell_type": "markdown",
   "id": "b0f8d58e",
   "metadata": {},
   "source": [
    "### Character level encoding model"
   ]
  },
  {
   "cell_type": "code",
   "execution_count": 60,
   "id": "8589ea69",
   "metadata": {},
   "outputs": [],
   "source": [
    "def split_chars(text):    \n",
    "    return \" \".join(list(text))"
   ]
  },
  {
   "cell_type": "code",
   "execution_count": 63,
   "id": "5e6bca2d",
   "metadata": {},
   "outputs": [
    {
     "data": {
      "text/plain": [
       "['t o   i n v e s t i g a t e   t h e   e f f i c a c y   o f   @   w e e k s   o f   d a i l y   l o w - d o s e   o r a l   p r e d n i s o l o n e   i n   i m p r o v i n g   p a i n   ,   m o b i l i t y   ,   a n d   s y s t e m i c   l o w - g r a d e   i n f l a m m a t i o n   i n   t h e   s h o r t   t e r m   a n d   w h e t h e r   t h e   e f f e c t   w o u l d   b e   s u s t a i n e d   a t   @   w e e k s   i n   o l d e r   a d u l t s   w i t h   m o d e r a t e   t o   s e v e r e   k n e e   o s t e o a r t h r i t i s   (   o a   )   .']"
      ]
     },
     "execution_count": 63,
     "metadata": {},
     "output_type": "execute_result"
    }
   ],
   "source": [
    "train_chars  = [split_chars(text) for text in train_sentences]\n",
    "valid_chars  = [split_chars(text) for text in val_sentences]\n",
    "test_chars  = [split_chars(text) for text in test_sentences]\n",
    "train_chars[:1]"
   ]
  },
  {
   "cell_type": "code",
   "execution_count": 66,
   "id": "770b0b7e",
   "metadata": {},
   "outputs": [
    {
     "data": {
      "text/plain": [
       "149.3662574983337"
      ]
     },
     "execution_count": 66,
     "metadata": {},
     "output_type": "execute_result"
    }
   ],
   "source": [
    "np.mean([len(sentence) for sentence in train_sentences])"
   ]
  },
  {
   "cell_type": "code",
   "execution_count": null,
   "id": "c6ab5458",
   "metadata": {},
   "outputs": [],
   "source": [
    "np.mean([len(sentence) for sentence in train_sentences])"
   ]
  },
  {
   "cell_type": "code",
   "execution_count": 68,
   "id": "ee47d19a",
   "metadata": {},
   "outputs": [
    {
     "data": {
      "text/plain": [
       "(array([1.41175e+05, 3.71110e+04, 1.60000e+03, 1.27000e+02, 2.10000e+01,\n",
       "        5.00000e+00, 1.00000e+00]),\n",
       " array([1.00000000e+00, 1.98857143e+02, 3.96714286e+02, 5.94571429e+02,\n",
       "        7.92428571e+02, 9.90285714e+02, 1.18814286e+03, 1.38600000e+03]),\n",
       " <BarContainer object of 7 artists>)"
      ]
     },
     "execution_count": 68,
     "metadata": {},
     "output_type": "execute_result"
    },
    {
     "data": {
      "image/png": "[encoded data removed]",
      "text/plain": [
       "<Figure size 432x288 with 1 Axes>"
      ]
     },
     "metadata": {
      "needs_background": "light"
     },
     "output_type": "display_data"
    }
   ],
   "source": [
    "plt.hist([len(sentence) for sentence in train_sentences], bins=7)"
   ]
  },
  {
   "cell_type": "code",
   "execution_count": 69,
   "id": "735fc288",
   "metadata": {},
   "outputs": [
    {
     "data": {
      "text/plain": [
       "290.0"
      ]
     },
     "execution_count": 69,
     "metadata": {},
     "output_type": "execute_result"
    }
   ],
   "source": [
    "np.percentile([len(sentence) for sentence in train_sentences], 95)"
   ]
  },
  {
   "cell_type": "code",
   "execution_count": 71,
   "id": "d1de70e9",
   "metadata": {},
   "outputs": [
    {
     "data": {
      "text/plain": [
       "'abcdefghijklmnopqrstuvwxyz0123456789!\"#$%&\\'()*+,-./:;<=>?@[\\\\]^_`{|}~'"
      ]
     },
     "execution_count": 71,
     "metadata": {},
     "output_type": "execute_result"
    }
   ],
   "source": [
    "import string\n",
    "alphabet = string.ascii_lowercase + string.digits + string.punctuation\n",
    "alphabet"
   ]
  },
  {
   "cell_type": "code",
   "execution_count": 74,
   "id": "5f1c4f92",
   "metadata": {},
   "outputs": [
    {
     "data": {
      "text/plain": [
       "70"
      ]
     },
     "execution_count": 74,
     "metadata": {},
     "output_type": "execute_result"
    }
   ],
   "source": [
    "NUM_CHAR_TOKENS = len(alphabet) + 2\n",
    "NUM_CHAR_TOKENS"
   ]
  },
  {
   "cell_type": "code",
   "execution_count": 79,
   "id": "93fa8a46",
   "metadata": {},
   "outputs": [],
   "source": [
    "char_vectorizer = tf.keras.layers.TextVectorization(max_tokens=NUM_CHAR_TOKENS,\n",
    "                                                    output_sequence_length=290,\n",
    "                                                    name=\"character_vectorizer\")\n",
    "char_vectorizer.adapt(train_chars)"
   ]
  },
  {
   "cell_type": "code",
   "execution_count": 80,
   "id": "82ed3b88",
   "metadata": {},
   "outputs": [
    {
     "data": {
      "text/plain": [
       "{'name': 'character_vectorizer',\n",
       " 'trainable': True,\n",
       " 'batch_input_shape': (None,),\n",
       " 'dtype': 'string',\n",
       " 'max_tokens': 70,\n",
       " 'standardize': 'lower_and_strip_punctuation',\n",
       " 'split': 'whitespace',\n",
       " 'ngrams': None,\n",
       " 'output_mode': 'int',\n",
       " 'output_sequence_length': 290,\n",
       " 'pad_to_max_tokens': False,\n",
       " 'sparse': False,\n",
       " 'ragged': False,\n",
       " 'vocabulary': None,\n",
       " 'idf_weights': None}"
      ]
     },
     "execution_count": 80,
     "metadata": {},
     "output_type": "execute_result"
    }
   ],
   "source": [
    "char_vectorizer.get_config()"
   ]
  },
  {
   "cell_type": "code",
   "execution_count": null,
   "id": "a5f0b6f6",
   "metadata": {},
   "outputs": [],
   "source": []
  },
  {
   "cell_type": "code",
   "execution_count": 81,
   "id": "889432d3",
   "metadata": {},
   "outputs": [
    {
     "data": {
      "text/plain": [
       "['', '[UNK]', 'e', 't', 'i']"
      ]
     },
     "execution_count": 81,
     "metadata": {},
     "output_type": "execute_result"
    }
   ],
   "source": [
    "char_vectorizer.get_vocabulary()[:5]"
   ]
  },
  {
   "cell_type": "code",
   "execution_count": 82,
   "id": "a94b9219",
   "metadata": {},
   "outputs": [
    {
     "data": {
      "text/plain": [
       "28"
      ]
     },
     "execution_count": 82,
     "metadata": {},
     "output_type": "execute_result"
    }
   ],
   "source": [
    "char_vectorizer.vocabulary_size()"
   ]
  },
  {
   "cell_type": "code",
   "execution_count": 83,
   "id": "56649dfe",
   "metadata": {},
   "outputs": [
    {
     "data": {
      "text/plain": [
       "<keras.layers.embeddings.Embedding at 0x7ff94c5177c0>"
      ]
     },
     "execution_count": 83,
     "metadata": {},
     "output_type": "execute_result"
    }
   ],
   "source": [
    "char_embed = tf.keras.layers.Embedding(input_dim=char_vectorizer.vocabulary_size(),\n",
    "                                       output_dim=25,\n",
    "                                       mask_zero=True,\n",
    "                                       name=\"char_embed\")\n",
    "char_embed"
   ]
  },
  {
   "cell_type": "code",
   "execution_count": 87,
   "id": "8979881a",
   "metadata": {},
   "outputs": [
    {
     "data": {
      "text/plain": [
       "<tf.Tensor: shape=(1, 290, 25), dtype=float32, numpy=\n",
       "array([[[ 4.5696124e-03, -4.3766387e-03,  2.1495666e-02, ...,\n",
       "         -2.8046513e-02, -2.5689591e-02, -1.6843535e-02],\n",
       "        [ 4.5696124e-03, -4.3766387e-03,  2.1495666e-02, ...,\n",
       "         -2.8046513e-02, -2.5689591e-02, -1.6843535e-02],\n",
       "        [-6.5860860e-03, -1.3493694e-02,  4.2464200e-02, ...,\n",
       "         -2.8051961e-02, -1.3043940e-02,  2.2825126e-02],\n",
       "        ...,\n",
       "        [ 4.4175159e-02, -2.7585829e-02,  8.4109195e-03, ...,\n",
       "         -1.8310796e-02, -8.1527978e-05, -3.2652691e-02],\n",
       "        [ 4.4175159e-02, -2.7585829e-02,  8.4109195e-03, ...,\n",
       "         -1.8310796e-02, -8.1527978e-05, -3.2652691e-02],\n",
       "        [ 4.4175159e-02, -2.7585829e-02,  8.4109195e-03, ...,\n",
       "         -1.8310796e-02, -8.1527978e-05, -3.2652691e-02]]], dtype=float32)>"
      ]
     },
     "execution_count": 87,
     "metadata": {},
     "output_type": "execute_result"
    }
   ],
   "source": [
    "char_embed(char_vectorizer([\"This is a text\"]))"
   ]
  },
  {
   "cell_type": "code",
   "execution_count": 99,
   "id": "03c2d1e0",
   "metadata": {},
   "outputs": [
    {
     "name": "stdout",
     "output_type": "stream",
     "text": [
      "Model: \"char_embedding_model\"\n",
      "_________________________________________________________________\n",
      " Layer (type)                Output Shape              Param #   \n",
      "=================================================================\n",
      " input_layer (InputLayer)    [(None, 1)]               0         \n",
      "                                                                 \n",
      " text_vectorization (TextVec  (None, 55)               0         \n",
      " torization)                                                     \n",
      "                                                                 \n",
      " char_embed (Embedding)      (None, 55, 25)            700       \n",
      "                                                                 \n",
      " convolution_layer (Conv1D)  (None, 55, 64)            8064      \n",
      "                                                                 \n",
      " pooling_layer (GlobalMaxPoo  (None, 64)               0         \n",
      " ling1D)                                                         \n",
      "                                                                 \n",
      " output_layer (Dense)        (None, 5)                 325       \n",
      "                                                                 \n",
      "=================================================================\n",
      "Total params: 9,089\n",
      "Trainable params: 9,089\n",
      "Non-trainable params: 0\n",
      "_________________________________________________________________\n"
     ]
    },
    {
     "data": {
      "image/png": "[encoded data removed]",
      "text/plain": [
       "<IPython.core.display.Image object>"
      ]
     },
     "execution_count": 99,
     "metadata": {},
     "output_type": "execute_result"
    }
   ],
   "source": [
    "inputs_3 = tf.keras.layers.Input(shape=(1,), dtype=tf.string, name=\"input_layer\")\n",
    "vectorization_layer = text_vectorizer(inputs_3)\n",
    "embedding_layer = char_embed(vectorization_layer)\n",
    "convolution_layer = tf.keras.layers.Conv1D(filters=64,\n",
    "                                           kernel_size=5,\n",
    "                                           padding=\"same\",\n",
    "                                           activation=\"relu\",\n",
    "                                           name=\"convolution_layer\")(embedding_layer)\n",
    "pooling_layer = tf.keras.layers.GlobalMaxPool1D(name=\"pooling_layer\")(convolution_layer)\n",
    "outputs_3 = tf.keras.layers.Dense(units=5,\n",
    "                                  activation=\"relu\",\n",
    "                                  name=\"output_layer\")(pooling_layer)\n",
    "model_3 = tf.keras.Model(inputs=inputs_3, outputs=outputs_3, name=\"char_embedding_model\")\n",
    "model_3.summary()\n",
    "tf.keras.utils.plot_model(model=model_3, show_shapes=True)"
   ]
  },
  {
   "cell_type": "code",
   "execution_count": 100,
   "id": "6016e93d",
   "metadata": {},
   "outputs": [],
   "source": [
    "model_3.compile(loss=tf.keras.losses.CategoricalCrossentropy(),\n",
    "                optimizer=tf.keras.optimizers.Adam(),\n",
    "                metrics=[\"accuracy\"])"
   ]
  },
  {
   "cell_type": "code",
   "execution_count": 101,
   "id": "613e6179",
   "metadata": {},
   "outputs": [],
   "source": [
    "# dataset pipeline\n",
    "train_dataset = tf.data.Dataset.from_tensor_slices((train_chars, train_labels_one_hot)).batch(32).prefetch(tf.data.AUTOTUNE)\n",
    "valid_dataset = tf.data.Dataset.from_tensor_slices((valid_chars, val_labels_one_hot)).batch(32).prefetch(tf.data.AUTOTUNE)\n",
    "test_dataset = tf.data.Dataset.from_tensor_slices((test_chars, test_labels_one_hot)).batch(32).prefetch(tf.data.AUTOTUNE)"
   ]
  },
  {
   "cell_type": "code",
   "execution_count": 102,
   "id": "b8c57a57",
   "metadata": {},
   "outputs": [
    {
     "name": "stdout",
     "output_type": "stream",
     "text": [
      "Epoch 1/5\n",
      "5624/5627 [============================>.] - ETA: 0s - loss: 5.0780 - accuracy: 0.3616WARNING:tensorflow:Can save best model only with val_acc available, skipping.\n"
     ]
    },
    {
     "name": "stderr",
     "output_type": "stream",
     "text": [
      "WARNING:tensorflow:Can save best model only with val_acc available, skipping.\n"
     ]
    },
    {
     "name": "stdout",
     "output_type": "stream",
     "text": [
      "5627/5627 [==============================] - 50s 9ms/step - loss: 5.0780 - accuracy: 0.3616 - val_loss: 4.9716 - val_accuracy: 0.3736\n",
      "Epoch 2/5\n",
      "5627/5627 [==============================] - ETA: 0s - loss: 5.0613 - accuracy: 0.3727WARNING:tensorflow:Can save best model only with val_acc available, skipping.\n"
     ]
    },
    {
     "name": "stderr",
     "output_type": "stream",
     "text": [
      "WARNING:tensorflow:Can save best model only with val_acc available, skipping.\n"
     ]
    },
    {
     "name": "stdout",
     "output_type": "stream",
     "text": [
      "5627/5627 [==============================] - 50s 9ms/step - loss: 5.0613 - accuracy: 0.3727 - val_loss: 4.9697 - val_accuracy: 0.3760\n",
      "Epoch 3/5\n",
      "5622/5627 [============================>.] - ETA: 0s - loss: 5.0612 - accuracy: 0.3752WARNING:tensorflow:Can save best model only with val_acc available, skipping.\n"
     ]
    },
    {
     "name": "stderr",
     "output_type": "stream",
     "text": [
      "WARNING:tensorflow:Can save best model only with val_acc available, skipping.\n"
     ]
    },
    {
     "name": "stdout",
     "output_type": "stream",
     "text": [
      "5627/5627 [==============================] - 49s 9ms/step - loss: 5.0618 - accuracy: 0.3752 - val_loss: 4.9747 - val_accuracy: 0.3799\n",
      "Epoch 4/5\n",
      "5625/5627 [============================>.] - ETA: 0s - loss: 5.0573 - accuracy: 0.3762WARNING:tensorflow:Can save best model only with val_acc available, skipping.\n"
     ]
    },
    {
     "name": "stderr",
     "output_type": "stream",
     "text": [
      "WARNING:tensorflow:Can save best model only with val_acc available, skipping.\n"
     ]
    },
    {
     "name": "stdout",
     "output_type": "stream",
     "text": [
      "5627/5627 [==============================] - 48s 9ms/step - loss: 5.0573 - accuracy: 0.3761 - val_loss: 4.9706 - val_accuracy: 0.3791\n",
      "Epoch 5/5\n",
      "5624/5627 [============================>.] - ETA: 0s - loss: 5.0533 - accuracy: 0.3776WARNING:tensorflow:Can save best model only with val_acc available, skipping.\n"
     ]
    },
    {
     "name": "stderr",
     "output_type": "stream",
     "text": [
      "WARNING:tensorflow:Can save best model only with val_acc available, skipping.\n"
     ]
    },
    {
     "name": "stdout",
     "output_type": "stream",
     "text": [
      "\b\b\b\b\b\b\b\b\b\b\b\b\b\b\b\b\b\b\b\b\b\b\b\b\b\b\b\b\b\b\b\b\b\b\b\b\b\b\b\b\b\b\b\b\b\b\b\b\b\b\b\b\b\b\b\b\b\b\b\b\b\b\b\b\b\b\b\b\b\b\b\b\b\b\b\b\b\b\b\b\b\b\b\b\b\b\r",
      "5627/5627 [==============================] - 48s 8ms/step - loss: 5.0534 - accuracy: 0.3776 - val_loss: 4.9642 - val_accuracy: 0.3793\n"
     ]
    }
   ],
   "source": [
    "history_model_3 = model_3.fit(train_dataset,\n",
    "                        validation_data=valid_dataset,\n",
    "                        epochs=5,\n",
    "                        callbacks=[create_model_checkpoint_callback(\"skimlit\", model_3.name),\n",
    "                                   create_tensorboard_callback(\"skimlit\", model_3.name)])"
   ]
  },
  {
   "cell_type": "code",
   "execution_count": 103,
   "id": "77f196ce",
   "metadata": {},
   "outputs": [
    {
     "name": "stdout",
     "output_type": "stream",
     "text": [
      "945/945 [==============================] - 5s 6ms/step - loss: 4.9642 - accuracy: 0.3793\n"
     ]
    },
    {
     "data": {
      "text/plain": [
       "[4.9641547203063965, 0.3793194890022278]"
      ]
     },
     "execution_count": 103,
     "metadata": {},
     "output_type": "execute_result"
    }
   ],
   "source": [
    "model_3.evaluate(valid_dataset)"
   ]
  },
  {
   "cell_type": "code",
   "execution_count": 104,
   "id": "4c690df2",
   "metadata": {},
   "outputs": [
    {
     "data": {
      "text/plain": [
       "array([[ 0.        ,  0.        , 10.015037  ,  1.8701875 ,  9.286305  ],\n",
       "       [ 0.        ,  0.        ,  9.635553  ,  1.9479971 ,  8.079236  ],\n",
       "       [ 0.        ,  0.        ,  5.782653  ,  1.7040209 ,  7.973432  ],\n",
       "       ...,\n",
       "       [ 0.        ,  0.        ,  7.8424625 ,  3.0429387 ,  6.815943  ],\n",
       "       [ 0.        ,  0.        , 11.293951  ,  0.71027607,  9.249365  ],\n",
       "       [ 0.        ,  0.        ,  6.0624094 ,  1.9416094 ,  8.290555  ]],\n",
       "      dtype=float32)"
      ]
     },
     "execution_count": 104,
     "metadata": {},
     "output_type": "execute_result"
    }
   ],
   "source": [
    "model_3_preds_probs = model_3.predict(test_dataset)\n",
    "model_3_preds_probs"
   ]
  },
  {
   "cell_type": "code",
   "execution_count": 105,
   "id": "86c970fd",
   "metadata": {},
   "outputs": [
    {
     "name": "stdout",
     "output_type": "stream",
     "text": [
      "[calculate_results_score] the accuracy is :: 37.999004479840714\n",
      "[calculate_results_score] The precision is : 0.24716643290727267\n",
      "[calculate_results_score] The recall is : 0.37999004479840714\n",
      "[calculate_results_score] The f1 score is : 0.29760518618802423\n"
     ]
    },
    {
     "name": "stderr",
     "output_type": "stream",
     "text": [
      "/home/arun/learn/tensorflow_certification/venv/lib/python3.8/site-packages/sklearn/metrics/_classification.py:1318: UndefinedMetricWarning: Precision and F-score are ill-defined and being set to 0.0 in labels with no predicted samples. Use `zero_division` parameter to control this behavior.\n",
      "  _warn_prf(average, modifier, msg_start, len(result))\n"
     ]
    }
   ],
   "source": [
    "model_3_results = calculate_results_score(test_labels_encoded, tf.argmax(model_3_preds_probs, axis=1))"
   ]
  },
  {
   "cell_type": "code",
   "execution_count": null,
   "id": "5030089f",
   "metadata": {},
   "outputs": [],
   "source": []
  },
  {
   "cell_type": "code",
   "execution_count": null,
   "id": "60c3058d",
   "metadata": {},
   "outputs": [],
   "source": []
  },
  {
   "cell_type": "code",
   "execution_count": null,
   "id": "28a5a573",
   "metadata": {},
   "outputs": [],
   "source": []
  }
 ],
 "metadata": {
  "kernelspec": {
   "display_name": "Python 3 (ipykernel)",
   "language": "python",
   "name": "python3"
  },
  "language_info": {
   "codemirror_mode": {
    "name": "ipython",
    "version": 3
   },
   "file_extension": ".py",
   "mimetype": "text/x-python",
   "name": "python",
   "nbconvert_exporter": "python",
   "pygments_lexer": "ipython3",
   "version": "3.8.10"
  }
 },
 "nbformat": 4,
 "nbformat_minor": 5
}
