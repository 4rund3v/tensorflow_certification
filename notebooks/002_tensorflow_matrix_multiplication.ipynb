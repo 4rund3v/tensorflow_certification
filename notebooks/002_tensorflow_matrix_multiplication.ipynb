{
 "cells": [
  {
   "cell_type": "code",
   "execution_count": 1,
   "id": "c4e07bc5",
   "metadata": {},
   "outputs": [],
   "source": [
    "import tensorflow as tf\n",
    "import numpy as np"
   ]
  },
  {
   "cell_type": "code",
   "execution_count": 2,
   "id": "fefc7c08",
   "metadata": {},
   "outputs": [
    {
     "name": "stderr",
     "output_type": "stream",
     "text": [
      "2022-01-17 14:22:43.619342: I tensorflow/stream_executor/cuda/cuda_gpu_executor.cc:939] successful NUMA node read from SysFS had negative value (-1), but there must be at least one NUMA node, so returning NUMA node zero\n"
     ]
    },
    {
     "data": {
      "text/plain": [
       "(TensorShape([2, 2]),\n",
       " 2,\n",
       " <tf.Tensor: shape=(2, 2), dtype=float16, numpy=\n",
       " array([[12.97, 75.56],\n",
       "        [13.31, 75.75]], dtype=float16)>)"
      ]
     },
     "execution_count": 2,
     "metadata": {},
     "output_type": "execute_result"
    },
    {
     "name": "stderr",
     "output_type": "stream",
     "text": [
      "2022-01-17 14:22:43.629865: I tensorflow/stream_executor/cuda/cuda_gpu_executor.cc:939] successful NUMA node read from SysFS had negative value (-1), but there must be at least one NUMA node, so returning NUMA node zero\n",
      "2022-01-17 14:22:43.630455: I tensorflow/stream_executor/cuda/cuda_gpu_executor.cc:939] successful NUMA node read from SysFS had negative value (-1), but there must be at least one NUMA node, so returning NUMA node zero\n",
      "2022-01-17 14:22:43.631813: I tensorflow/core/platform/cpu_feature_guard.cc:151] This TensorFlow binary is optimized with oneAPI Deep Neural Network Library (oneDNN) to use the following CPU instructions in performance-critical operations:  AVX2 FMA\n",
      "To enable them in other operations, rebuild TensorFlow with the appropriate compiler flags.\n",
      "2022-01-17 14:22:43.632672: I tensorflow/stream_executor/cuda/cuda_gpu_executor.cc:939] successful NUMA node read from SysFS had negative value (-1), but there must be at least one NUMA node, so returning NUMA node zero\n",
      "2022-01-17 14:22:43.633244: I tensorflow/stream_executor/cuda/cuda_gpu_executor.cc:939] successful NUMA node read from SysFS had negative value (-1), but there must be at least one NUMA node, so returning NUMA node zero\n",
      "2022-01-17 14:22:43.633749: I tensorflow/stream_executor/cuda/cuda_gpu_executor.cc:939] successful NUMA node read from SysFS had negative value (-1), but there must be at least one NUMA node, so returning NUMA node zero\n",
      "2022-01-17 14:22:44.370058: I tensorflow/stream_executor/cuda/cuda_gpu_executor.cc:939] successful NUMA node read from SysFS had negative value (-1), but there must be at least one NUMA node, so returning NUMA node zero\n",
      "2022-01-17 14:22:44.370583: I tensorflow/stream_executor/cuda/cuda_gpu_executor.cc:939] successful NUMA node read from SysFS had negative value (-1), but there must be at least one NUMA node, so returning NUMA node zero\n",
      "2022-01-17 14:22:44.371100: I tensorflow/stream_executor/cuda/cuda_gpu_executor.cc:939] successful NUMA node read from SysFS had negative value (-1), but there must be at least one NUMA node, so returning NUMA node zero\n",
      "2022-01-17 14:22:44.371544: I tensorflow/core/common_runtime/gpu/gpu_device.cc:1525] Created device /job:localhost/replica:0/task:0/device:GPU:0 with 1944 MB memory:  -> device: 0, name: NVIDIA GeForce GTX 1650, pci bus id: 0000:01:00.0, compute capability: 7.5\n"
     ]
    }
   ],
   "source": [
    "locations = tf.constant([[12.97, 75.58],\n",
    "                         [13.31, 75.77]],\n",
    "                        dtype=tf.float16,\n",
    "                        name=\"locations\")\n",
    "locations.shape, locations.ndim, locations"
   ]
  },
  {
   "cell_type": "code",
   "execution_count": 5,
   "id": "ce753e26",
   "metadata": {},
   "outputs": [
    {
     "data": {
      "text/plain": [
       "<tf.Tensor: shape=(2, 2), dtype=float16, numpy=\n",
       "array([[22.97, 85.56],\n",
       "       [23.31, 85.75]], dtype=float16)>"
      ]
     },
     "execution_count": 5,
     "metadata": {},
     "output_type": "execute_result"
    }
   ],
   "source": [
    "locations + 10"
   ]
  },
  {
   "cell_type": "code",
   "execution_count": 6,
   "id": "7d30df97",
   "metadata": {},
   "outputs": [
    {
     "data": {
      "text/plain": [
       "<tf.Tensor: shape=(2, 2), dtype=float16, numpy=\n",
       "array([[ 2.969, 65.56 ],\n",
       "       [ 3.312, 65.75 ]], dtype=float16)>"
      ]
     },
     "execution_count": 6,
     "metadata": {},
     "output_type": "execute_result"
    }
   ],
   "source": [
    "locations - 10"
   ]
  },
  {
   "cell_type": "code",
   "execution_count": 7,
   "id": "ffdd51b0",
   "metadata": {},
   "outputs": [
    {
     "data": {
      "text/plain": [
       "<tf.Tensor: shape=(2, 2), dtype=float16, numpy=\n",
       "array([[22.97, 85.56],\n",
       "       [23.31, 85.75]], dtype=float16)>"
      ]
     },
     "execution_count": 7,
     "metadata": {},
     "output_type": "execute_result"
    }
   ],
   "source": [
    "tf.add(locations, 10)"
   ]
  },
  {
   "cell_type": "code",
   "execution_count": 8,
   "id": "20857bd4",
   "metadata": {},
   "outputs": [
    {
     "data": {
      "text/plain": [
       "<tf.Tensor: shape=(2, 2), dtype=float16, numpy=\n",
       "array([[ 25.94, 151.1 ],\n",
       "       [ 26.62, 151.5 ]], dtype=float16)>"
      ]
     },
     "execution_count": 8,
     "metadata": {},
     "output_type": "execute_result"
    }
   ],
   "source": [
    "locations*2"
   ]
  },
  {
   "cell_type": "code",
   "execution_count": 9,
   "id": "4081e413",
   "metadata": {},
   "outputs": [
    {
     "data": {
      "text/plain": [
       "<tf.Tensor: shape=(2, 2), dtype=float16, numpy=\n",
       "array([[ 25.94, 151.1 ],\n",
       "       [ 26.62, 151.5 ]], dtype=float16)>"
      ]
     },
     "execution_count": 9,
     "metadata": {},
     "output_type": "execute_result"
    }
   ],
   "source": [
    "# Tf. multiply uses the element wise multiplication\n",
    "# Use when multiplying the matrices with the scalars\n",
    "tf.multiply(locations, 2)\n"
   ]
  },
  {
   "cell_type": "code",
   "execution_count": 13,
   "id": "54102b24",
   "metadata": {},
   "outputs": [
    {
     "name": "stdout",
     "output_type": "stream",
     "text": [
      "tf.Tensor(\n",
      "[[12.97 75.56]\n",
      " [13.31 75.75]], shape=(2, 2), dtype=float16)\n"
     ]
    },
    {
     "data": {
      "text/plain": [
       "<tf.Tensor: shape=(2, 2), dtype=float16, numpy=\n",
       "array([[ 168.2, 5708. ],\n",
       "       [ 177.2, 5740. ]], dtype=float16)>"
      ]
     },
     "execution_count": 13,
     "metadata": {},
     "output_type": "execute_result"
    }
   ],
   "source": [
    "# Element Wise multiplication\n",
    "print(locations)\n",
    "locations*locations"
   ]
  },
  {
   "cell_type": "code",
   "execution_count": 10,
   "id": "eaa3905d",
   "metadata": {},
   "outputs": [
    {
     "data": {
      "text/plain": [
       "<tf.Tensor: shape=(2, 2), dtype=float16, numpy=\n",
       "array([[1174., 6704.],\n",
       "       [1181., 6744.]], dtype=float16)>"
      ]
     },
     "execution_count": 10,
     "metadata": {},
     "output_type": "execute_result"
    }
   ],
   "source": [
    "# Tf.matmul uses the matrix multiplication \n",
    "# Use when multiplying the matrices with the matrices\n",
    "tf.matmul(locations, locations)"
   ]
  },
  {
   "cell_type": "code",
   "execution_count": 12,
   "id": "8a388437",
   "metadata": {},
   "outputs": [
    {
     "data": {
      "text/plain": [
       "<tf.Tensor: shape=(2, 2), dtype=float16, numpy=\n",
       "array([[1174., 6704.],\n",
       "       [1181., 6744.]], dtype=float16)>"
      ]
     },
     "execution_count": 12,
     "metadata": {},
     "output_type": "execute_result"
    }
   ],
   "source": [
    "# Similar to matrix multiplication, the @ symbol does the matrix multiplication\n",
    "locations @ locations"
   ]
  },
  {
   "cell_type": "code",
   "execution_count": 14,
   "id": "f80eb934",
   "metadata": {},
   "outputs": [
    {
     "name": "stdout",
     "output_type": "stream",
     "text": [
      "tf.Tensor(\n",
      "[[1 2 3]\n",
      " [4 5 6]], shape=(2, 3), dtype=int32) (2, 3) 2\n"
     ]
    }
   ],
   "source": [
    "A = tf.constant([[1,2,3],\n",
    "                [4,5,6]])\n",
    "print(A, A.shape, A.ndim)"
   ]
  },
  {
   "cell_type": "code",
   "execution_count": 17,
   "id": "727ade71",
   "metadata": {},
   "outputs": [
    {
     "name": "stdout",
     "output_type": "stream",
     "text": [
      "tf.Tensor(\n",
      "[[1 2]\n",
      " [3 4]\n",
      " [5 6]], shape=(3, 2), dtype=int32) (3, 2) 2\n"
     ]
    }
   ],
   "source": [
    "B = tf.constant([[1,2], [3,4],[5,6]])\n",
    "print(B, B.shape,B.ndim)"
   ]
  },
  {
   "cell_type": "code",
   "execution_count": 18,
   "id": "7ee667d3",
   "metadata": {},
   "outputs": [
    {
     "data": {
      "text/plain": [
       "<tf.Tensor: shape=(2, 2), dtype=int32, numpy=\n",
       "array([[22, 28],\n",
       "       [49, 64]], dtype=int32)>"
      ]
     },
     "execution_count": 18,
     "metadata": {},
     "output_type": "execute_result"
    }
   ],
   "source": [
    "A @ B"
   ]
  },
  {
   "cell_type": "code",
   "execution_count": 19,
   "id": "5b32178f",
   "metadata": {},
   "outputs": [
    {
     "data": {
      "text/plain": [
       "<tf.Tensor: shape=(2, 2), dtype=int32, numpy=\n",
       "array([[22, 28],\n",
       "       [49, 64]], dtype=int32)>"
      ]
     },
     "execution_count": 19,
     "metadata": {},
     "output_type": "execute_result"
    }
   ],
   "source": [
    "tf.matmul(A, B)"
   ]
  },
  {
   "cell_type": "code",
   "execution_count": 21,
   "id": "1211f7be",
   "metadata": {},
   "outputs": [
    {
     "data": {
      "text/plain": [
       "<tf.Tensor: shape=(3, 3), dtype=int32, numpy=\n",
       "array([[1, 2, 3],\n",
       "       [4, 5, 6],\n",
       "       [7, 8, 9]], dtype=int32)>"
      ]
     },
     "execution_count": 21,
     "metadata": {},
     "output_type": "execute_result"
    }
   ],
   "source": [
    "C = tf.constant([[1,2,3],[4,5,6],[7,8,9]])\n",
    "C"
   ]
  },
  {
   "cell_type": "code",
   "execution_count": 22,
   "id": "879e151e",
   "metadata": {},
   "outputs": [
    {
     "data": {
      "text/plain": [
       "<tf.Tensor: shape=(2, 3), dtype=int32, numpy=\n",
       "array([[30, 36, 42],\n",
       "       [66, 81, 96]], dtype=int32)>"
      ]
     },
     "execution_count": 22,
     "metadata": {},
     "output_type": "execute_result"
    }
   ],
   "source": [
    "tf.matmul(A, C)"
   ]
  },
  {
   "cell_type": "markdown",
   "id": "364573a2",
   "metadata": {},
   "source": [
    "tf.matmul(B, C)\n",
    "# Will fail as multiplication between 3x2 & 3x3\n",
    "# The inner columns count must match"
   ]
  },
  {
   "cell_type": "code",
   "execution_count": 29,
   "id": "62802c6f",
   "metadata": {},
   "outputs": [
    {
     "name": "stdout",
     "output_type": "stream",
     "text": [
      "tf.Tensor(\n",
      "[[30 36 42]\n",
      " [66 81 96]], shape=(2, 3), dtype=int32) (2, 3) (3, 3)\n"
     ]
    }
   ],
   "source": [
    "res = tf.matmul(tf.reshape(B, shape=(2,3)), C)\n",
    "print(res, tf.reshape(B, shape=(2,3)).shape, C.shape)"
   ]
  },
  {
   "cell_type": "code",
   "execution_count": 32,
   "id": "e25587a5",
   "metadata": {},
   "outputs": [
    {
     "data": {
      "text/plain": [
       "<tf.Tensor: shape=(3, 2), dtype=int32, numpy=\n",
       "array([[1, 2],\n",
       "       [3, 4],\n",
       "       [5, 6]], dtype=int32)>"
      ]
     },
     "execution_count": 32,
     "metadata": {},
     "output_type": "execute_result"
    }
   ],
   "source": [
    "B"
   ]
  },
  {
   "cell_type": "code",
   "execution_count": 31,
   "id": "43ce5385",
   "metadata": {},
   "outputs": [
    {
     "data": {
      "text/plain": [
       "<tf.Tensor: shape=(2, 3), dtype=int32, numpy=\n",
       "array([[1, 2, 3],\n",
       "       [4, 5, 6]], dtype=int32)>"
      ]
     },
     "execution_count": 31,
     "metadata": {},
     "output_type": "execute_result"
    }
   ],
   "source": [
    "tf.reshape(B, shape=(2,3))"
   ]
  },
  {
   "cell_type": "code",
   "execution_count": 28,
   "id": "fc47fcad",
   "metadata": {},
   "outputs": [
    {
     "data": {
      "text/plain": [
       "<tf.Tensor: shape=(2, 3), dtype=int32, numpy=\n",
       "array([[1, 3, 5],\n",
       "       [2, 4, 6]], dtype=int32)>"
      ]
     },
     "execution_count": 28,
     "metadata": {},
     "output_type": "execute_result"
    }
   ],
   "source": [
    "tf.transpose(B)"
   ]
  },
  {
   "cell_type": "code",
   "execution_count": 30,
   "id": "50297a91",
   "metadata": {},
   "outputs": [
    {
     "name": "stdout",
     "output_type": "stream",
     "text": [
      "tf.Tensor(\n",
      "[[30 36 42]\n",
      " [66 81 96]], shape=(2, 3), dtype=int32) (2, 3) (3, 3)\n"
     ]
    }
   ],
   "source": [
    "res2 = tf.matmul(tf.transpose(B), C)\n",
    "print(res, tf.transpose(B).shape,  C.shape)\n"
   ]
  },
  {
   "cell_type": "markdown",
   "id": "b7db2436",
   "metadata": {},
   "source": [
    "##### Use Transpose ( flip the axes) rather than reshape"
   ]
  },
  {
   "cell_type": "markdown",
   "id": "7f4efc19",
   "metadata": {},
   "source": [
    "##### End of notes"
   ]
  },
  {
   "cell_type": "code",
   "execution_count": null,
   "id": "581b13ef",
   "metadata": {},
   "outputs": [],
   "source": []
  }
 ],
 "metadata": {
  "kernelspec": {
   "display_name": "Python 3 (ipykernel)",
   "language": "python",
   "name": "python3"
  },
  "language_info": {
   "codemirror_mode": {
    "name": "ipython",
    "version": 3
   },
   "file_extension": ".py",
   "mimetype": "text/x-python",
   "name": "python",
   "nbconvert_exporter": "python",
   "pygments_lexer": "ipython3",
   "version": "3.8.10"
  }
 },
 "nbformat": 4,
 "nbformat_minor": 5
}
