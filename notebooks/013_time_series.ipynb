{
 "cells": [
  {
   "cell_type": "code",
   "execution_count": 1,
   "id": "cfa10ab3",
   "metadata": {},
   "outputs": [],
   "source": [
    "import tensorflow as tf\n",
    "import numpy as np\n",
    "import matplotlib.pyplot as plt\n",
    "import datetime as dt\n",
    "import os\n",
    "import sys\n",
    "import pandas as pd"
   ]
  },
  {
   "cell_type": "code",
   "execution_count": 3,
   "id": "c609ff00",
   "metadata": {},
   "outputs": [
    {
     "data": {
      "text/html": [
       "<div>\n",
       "<style scoped>\n",
       "    .dataframe tbody tr th:only-of-type {\n",
       "        vertical-align: middle;\n",
       "    }\n",
       "\n",
       "    .dataframe tbody tr th {\n",
       "        vertical-align: top;\n",
       "    }\n",
       "\n",
       "    .dataframe thead th {\n",
       "        text-align: right;\n",
       "    }\n",
       "</style>\n",
       "<table border=\"1\" class=\"dataframe\">\n",
       "  <thead>\n",
       "    <tr style=\"text-align: right;\">\n",
       "      <th></th>\n",
       "      <th>Currency</th>\n",
       "      <th>Closing Price (USD)</th>\n",
       "      <th>24h Open (USD)</th>\n",
       "      <th>24h High (USD)</th>\n",
       "      <th>24h Low (USD)</th>\n",
       "    </tr>\n",
       "    <tr>\n",
       "      <th>Date</th>\n",
       "      <th></th>\n",
       "      <th></th>\n",
       "      <th></th>\n",
       "      <th></th>\n",
       "      <th></th>\n",
       "    </tr>\n",
       "  </thead>\n",
       "  <tbody>\n",
       "    <tr>\n",
       "      <th>2014-11-04</th>\n",
       "      <td>BTC</td>\n",
       "      <td>324.467934</td>\n",
       "      <td>323.826186</td>\n",
       "      <td>333.539527</td>\n",
       "      <td>323.106623</td>\n",
       "    </tr>\n",
       "    <tr>\n",
       "      <th>2014-11-05</th>\n",
       "      <td>BTC</td>\n",
       "      <td>328.644408</td>\n",
       "      <td>324.424164</td>\n",
       "      <td>330.671610</td>\n",
       "      <td>320.902900</td>\n",
       "    </tr>\n",
       "    <tr>\n",
       "      <th>2014-11-06</th>\n",
       "      <td>BTC</td>\n",
       "      <td>337.921358</td>\n",
       "      <td>328.653046</td>\n",
       "      <td>342.384170</td>\n",
       "      <td>328.597125</td>\n",
       "    </tr>\n",
       "    <tr>\n",
       "      <th>2014-11-07</th>\n",
       "      <td>BTC</td>\n",
       "      <td>348.992860</td>\n",
       "      <td>337.921358</td>\n",
       "      <td>352.585895</td>\n",
       "      <td>336.236830</td>\n",
       "    </tr>\n",
       "    <tr>\n",
       "      <th>2014-11-08</th>\n",
       "      <td>BTC</td>\n",
       "      <td>341.459753</td>\n",
       "      <td>348.992860</td>\n",
       "      <td>351.651854</td>\n",
       "      <td>340.196145</td>\n",
       "    </tr>\n",
       "  </tbody>\n",
       "</table>\n",
       "</div>"
      ],
      "text/plain": [
       "           Currency  Closing Price (USD)  24h Open (USD)  24h High (USD)  \\\n",
       "Date                                                                       \n",
       "2014-11-04      BTC           324.467934      323.826186      333.539527   \n",
       "2014-11-05      BTC           328.644408      324.424164      330.671610   \n",
       "2014-11-06      BTC           337.921358      328.653046      342.384170   \n",
       "2014-11-07      BTC           348.992860      337.921358      352.585895   \n",
       "2014-11-08      BTC           341.459753      348.992860      351.651854   \n",
       "\n",
       "            24h Low (USD)  \n",
       "Date                       \n",
       "2014-11-04     323.106623  \n",
       "2014-11-05     320.902900  \n",
       "2014-11-06     328.597125  \n",
       "2014-11-07     336.236830  \n",
       "2014-11-08     340.196145  "
      ]
     },
     "execution_count": 3,
     "metadata": {},
     "output_type": "execute_result"
    }
   ],
   "source": [
    "df = pd.read_csv(\"../datasets/bitcoin/btc_usd.csv\", \n",
    "                parse_dates=[\"Date\"],\n",
    "                index_col=[\"Date\"])\n",
    "df.head()"
   ]
  },
  {
   "cell_type": "code",
   "execution_count": 4,
   "id": "127d7389",
   "metadata": {},
   "outputs": [
    {
     "name": "stdout",
     "output_type": "stream",
     "text": [
      "<class 'pandas.core.frame.DataFrame'>\n",
      "DatetimeIndex: 2643 entries, 2014-11-04 to 2022-01-28\n",
      "Data columns (total 5 columns):\n",
      " #   Column               Non-Null Count  Dtype  \n",
      "---  ------               --------------  -----  \n",
      " 0   Currency             2643 non-null   object \n",
      " 1   Closing Price (USD)  2643 non-null   float64\n",
      " 2   24h Open (USD)       2643 non-null   float64\n",
      " 3   24h High (USD)       2643 non-null   float64\n",
      " 4   24h Low (USD)        2643 non-null   float64\n",
      "dtypes: float64(4), object(1)\n",
      "memory usage: 123.9+ KB\n"
     ]
    }
   ],
   "source": [
    "df.info()"
   ]
  },
  {
   "cell_type": "code",
   "execution_count": 5,
   "id": "bc8cfb9b",
   "metadata": {},
   "outputs": [
    {
     "data": {
      "text/html": [
       "<div>\n",
       "<style scoped>\n",
       "    .dataframe tbody tr th:only-of-type {\n",
       "        vertical-align: middle;\n",
       "    }\n",
       "\n",
       "    .dataframe tbody tr th {\n",
       "        vertical-align: top;\n",
       "    }\n",
       "\n",
       "    .dataframe thead th {\n",
       "        text-align: right;\n",
       "    }\n",
       "</style>\n",
       "<table border=\"1\" class=\"dataframe\">\n",
       "  <thead>\n",
       "    <tr style=\"text-align: right;\">\n",
       "      <th></th>\n",
       "      <th>Currency</th>\n",
       "      <th>Closing Price (USD)</th>\n",
       "      <th>24h Open (USD)</th>\n",
       "      <th>24h High (USD)</th>\n",
       "      <th>24h Low (USD)</th>\n",
       "    </tr>\n",
       "    <tr>\n",
       "      <th>Date</th>\n",
       "      <th></th>\n",
       "      <th></th>\n",
       "      <th></th>\n",
       "      <th></th>\n",
       "      <th></th>\n",
       "    </tr>\n",
       "  </thead>\n",
       "  <tbody>\n",
       "    <tr>\n",
       "      <th>2022-01-24</th>\n",
       "      <td>BTC</td>\n",
       "      <td>36285.926944</td>\n",
       "      <td>35070.896987</td>\n",
       "      <td>36514.853501</td>\n",
       "      <td>34630.980000</td>\n",
       "    </tr>\n",
       "    <tr>\n",
       "      <th>2022-01-25</th>\n",
       "      <td>BTC</td>\n",
       "      <td>36699.614179</td>\n",
       "      <td>36285.633626</td>\n",
       "      <td>37500.000000</td>\n",
       "      <td>32983.590000</td>\n",
       "    </tr>\n",
       "    <tr>\n",
       "      <th>2022-01-26</th>\n",
       "      <td>BTC</td>\n",
       "      <td>36971.571269</td>\n",
       "      <td>36699.999462</td>\n",
       "      <td>37544.200000</td>\n",
       "      <td>35730.449773</td>\n",
       "    </tr>\n",
       "    <tr>\n",
       "      <th>2022-01-27</th>\n",
       "      <td>BTC</td>\n",
       "      <td>36827.674589</td>\n",
       "      <td>36970.783896</td>\n",
       "      <td>38920.712256</td>\n",
       "      <td>36285.050740</td>\n",
       "    </tr>\n",
       "    <tr>\n",
       "      <th>2022-01-28</th>\n",
       "      <td>BTC</td>\n",
       "      <td>37197.821249</td>\n",
       "      <td>36828.097867</td>\n",
       "      <td>37242.500000</td>\n",
       "      <td>35550.000000</td>\n",
       "    </tr>\n",
       "  </tbody>\n",
       "</table>\n",
       "</div>"
      ],
      "text/plain": [
       "           Currency  Closing Price (USD)  24h Open (USD)  24h High (USD)  \\\n",
       "Date                                                                       \n",
       "2022-01-24      BTC         36285.926944    35070.896987    36514.853501   \n",
       "2022-01-25      BTC         36699.614179    36285.633626    37500.000000   \n",
       "2022-01-26      BTC         36971.571269    36699.999462    37544.200000   \n",
       "2022-01-27      BTC         36827.674589    36970.783896    38920.712256   \n",
       "2022-01-28      BTC         37197.821249    36828.097867    37242.500000   \n",
       "\n",
       "            24h Low (USD)  \n",
       "Date                       \n",
       "2022-01-24   34630.980000  \n",
       "2022-01-25   32983.590000  \n",
       "2022-01-26   35730.449773  \n",
       "2022-01-27   36285.050740  \n",
       "2022-01-28   35550.000000  "
      ]
     },
     "execution_count": 5,
     "metadata": {},
     "output_type": "execute_result"
    }
   ],
   "source": [
    "df.tail()"
   ]
  },
  {
   "cell_type": "code",
   "execution_count": 6,
   "id": "0eecd185",
   "metadata": {},
   "outputs": [
    {
     "data": {
      "text/plain": [
       "2643"
      ]
     },
     "execution_count": 6,
     "metadata": {},
     "output_type": "execute_result"
    }
   ],
   "source": [
    "len(df)"
   ]
  },
  {
   "cell_type": "code",
   "execution_count": 7,
   "id": "f236d8f4",
   "metadata": {},
   "outputs": [
    {
     "data": {
      "text/plain": [
       "2555"
      ]
     },
     "execution_count": 7,
     "metadata": {},
     "output_type": "execute_result"
    }
   ],
   "source": [
    "7*365"
   ]
  },
  {
   "cell_type": "code",
   "execution_count": 15,
   "id": "2519fdf9",
   "metadata": {},
   "outputs": [
    {
     "data": {
      "text/plain": [
       "Index(['Currency', 'Closing Price (USD)', '24h Open (USD)', '24h High (USD)',\n",
       "       '24h Low (USD)'],\n",
       "      dtype='object')"
      ]
     },
     "execution_count": 15,
     "metadata": {},
     "output_type": "execute_result"
    }
   ],
   "source": [
    "df.columns"
   ]
  },
  {
   "cell_type": "code",
   "execution_count": 16,
   "id": "714bbd2b",
   "metadata": {},
   "outputs": [
    {
     "data": {
      "text/plain": [
       "DatetimeIndex(['2014-11-04', '2014-11-05', '2014-11-06', '2014-11-07',\n",
       "               '2014-11-08', '2014-11-09', '2014-11-10', '2014-11-11',\n",
       "               '2014-11-12', '2014-11-13',\n",
       "               ...\n",
       "               '2022-01-19', '2022-01-20', '2022-01-21', '2022-01-22',\n",
       "               '2022-01-23', '2022-01-24', '2022-01-25', '2022-01-26',\n",
       "               '2022-01-27', '2022-01-28'],\n",
       "              dtype='datetime64[ns]', name='Date', length=2643, freq=None)"
      ]
     },
     "execution_count": 16,
     "metadata": {},
     "output_type": "execute_result"
    }
   ],
   "source": [
    "df.index"
   ]
  },
  {
   "cell_type": "code",
   "execution_count": 24,
   "id": "9df48f1c",
   "metadata": {},
   "outputs": [
    {
     "data": {
      "text/html": [
       "<div>\n",
       "<style scoped>\n",
       "    .dataframe tbody tr th:only-of-type {\n",
       "        vertical-align: middle;\n",
       "    }\n",
       "\n",
       "    .dataframe tbody tr th {\n",
       "        vertical-align: top;\n",
       "    }\n",
       "\n",
       "    .dataframe thead th {\n",
       "        text-align: right;\n",
       "    }\n",
       "</style>\n",
       "<table border=\"1\" class=\"dataframe\">\n",
       "  <thead>\n",
       "    <tr style=\"text-align: right;\">\n",
       "      <th></th>\n",
       "      <th>price</th>\n",
       "    </tr>\n",
       "    <tr>\n",
       "      <th>Date</th>\n",
       "      <th></th>\n",
       "    </tr>\n",
       "  </thead>\n",
       "  <tbody>\n",
       "    <tr>\n",
       "      <th>2014-11-04</th>\n",
       "      <td>324.467934</td>\n",
       "    </tr>\n",
       "    <tr>\n",
       "      <th>2014-11-05</th>\n",
       "      <td>328.644408</td>\n",
       "    </tr>\n",
       "    <tr>\n",
       "      <th>2014-11-06</th>\n",
       "      <td>337.921358</td>\n",
       "    </tr>\n",
       "    <tr>\n",
       "      <th>2014-11-07</th>\n",
       "      <td>348.992860</td>\n",
       "    </tr>\n",
       "    <tr>\n",
       "      <th>2014-11-08</th>\n",
       "      <td>341.459753</td>\n",
       "    </tr>\n",
       "  </tbody>\n",
       "</table>\n",
       "</div>"
      ],
      "text/plain": [
       "                 price\n",
       "Date                  \n",
       "2014-11-04  324.467934\n",
       "2014-11-05  328.644408\n",
       "2014-11-06  337.921358\n",
       "2014-11-07  348.992860\n",
       "2014-11-08  341.459753"
      ]
     },
     "execution_count": 24,
     "metadata": {},
     "output_type": "execute_result"
    }
   ],
   "source": [
    "bitcoin_prices = pd.DataFrame(df[\"Closing Price (USD)\"]).rename(columns={\"Closing Price (USD)\": \"price\"})\n",
    "bitcoin_prices.head()"
   ]
  },
  {
   "cell_type": "code",
   "execution_count": 34,
   "id": "d1b0aeff",
   "metadata": {},
   "outputs": [
    {
     "data": {
      "image/png": "[encoded data removed]",
      "text/plain": [
       "<Figure size 1152x576 with 1 Axes>"
      ]
     },
     "metadata": {
      "needs_background": "light"
     },
     "output_type": "display_data"
    }
   ],
   "source": [
    "bitcoin_prices.plot(y=\"price\", use_index=True,figsize=(16, 8))\n",
    "plt.grid()\n",
    "plt.show()"
   ]
  },
  {
   "cell_type": "code",
   "execution_count": 37,
   "id": "13d4da11",
   "metadata": {},
   "outputs": [],
   "source": [
    "timestamps = bitcoin_prices.index.to_numpy()\n",
    "timestamps"
   ]
  },
  {
   "cell_type": "code",
   "execution_count": 39,
   "id": "e0fd8b3b",
   "metadata": {},
   "outputs": [
    {
     "data": {
      "text/plain": [
       "array([  324.467934,   328.644408,   337.921358, ..., 36971.571269,\n",
       "       36827.674589, 37197.821249])"
      ]
     },
     "execution_count": 39,
     "metadata": {},
     "output_type": "execute_result"
    }
   ],
   "source": [
    "prices = bitcoin_prices[\"price\"].to_numpy()\n",
    "prices"
   ]
  },
  {
   "cell_type": "code",
   "execution_count": 68,
   "id": "583d7daf",
   "metadata": {},
   "outputs": [],
   "source": [
    "split_size = int(0.80*len(prices))"
   ]
  },
  {
   "cell_type": "code",
   "execution_count": 69,
   "id": "0af090c7",
   "metadata": {},
   "outputs": [
    {
     "name": "stdout",
     "output_type": "stream",
     "text": [
      "2114 2114 529 529\n"
     ]
    }
   ],
   "source": [
    "X_train, y_train = timestamps[:split_size], prices[:split_size]\n",
    "X_test, y_test  = timestamps[split_size:], prices[split_size:]\n",
    "print( len(X_train),len(y_train) ,len(X_test), len(y_test))"
   ]
  },
  {
   "cell_type": "code",
   "execution_count": 70,
   "id": "220099cd",
   "metadata": {},
   "outputs": [
    {
     "data": {
      "image/png": "[encoded data removed]",
      "text/plain": [
       "<Figure size 1152x576 with 1 Axes>"
      ]
     },
     "metadata": {
      "needs_background": "light"
     },
     "output_type": "display_data"
    }
   ],
   "source": [
    "plt.figure(figsize=(16,8))\n",
    "plt.scatter(X_train, y_train, s=5, label=\"TrainData\")\n",
    "plt.scatter(X_test, y_test, s=5, label=\"TestData\")\n",
    "plt.grid()\n",
    "plt.show();"
   ]
  },
  {
   "cell_type": "code",
   "execution_count": 71,
   "id": "fe35e306",
   "metadata": {},
   "outputs": [
    {
     "name": "stdout",
     "output_type": "stream",
     "text": [
      "528 529\n"
     ]
    }
   ],
   "source": [
    "naive_forcast = y_test[:-1]\n",
    "print(len(naive_forcast), len(y_test))"
   ]
  },
  {
   "cell_type": "code",
   "execution_count": 72,
   "id": "8d88bf5f",
   "metadata": {},
   "outputs": [],
   "source": [
    "# Create a function to plot time series data\n",
    "def plot_time_series(timesteps, values, format='.', start=0, end=None, label=None):\n",
    "  \"\"\"\n",
    "  Plots a timesteps (a series of points in time) against values (a series of values across timesteps).\n",
    "  \n",
    "  Parameters\n",
    "  ---------\n",
    "  timesteps : array of timesteps\n",
    "  values : array of values across time\n",
    "  format : style of plot, default \".\"\n",
    "  start : where to start the plot (setting a value will index from start of timesteps & values)\n",
    "  end : where to end the plot (setting a value will index from end of timesteps & values)\n",
    "  label : label to show on plot of values\n",
    "  \"\"\"\n",
    "  # Plot the series\n",
    "  plt.plot(timesteps[start:end], values[start:end], format, label=label)\n",
    "  plt.xlabel(\"Time\")\n",
    "  plt.ylabel(\"BTC Price\")\n",
    "  if label:\n",
    "    plt.legend(fontsize=14) # make label bigger\n",
    "  plt.grid(True)"
   ]
  },
  {
   "cell_type": "code",
   "execution_count": 73,
   "id": "752545b7",
   "metadata": {},
   "outputs": [
    {
     "data": {
      "image/png": "[encoded data removed]",
      "text/plain": [
       "<Figure size 1296x432 with 1 Axes>"
      ]
     },
     "metadata": {
      "needs_background": "light"
     },
     "output_type": "display_data"
    }
   ],
   "source": [
    "plt.figure(figsize=(18,6))\n",
    "# plot_time_series(X_train, y_train, label=\"train\")\n",
    "plot_time_series(X_test, y_test,format=\"-\",start=200, label=\"test\")\n",
    "plot_time_series(X_test[1:], naive_forcast,format=\"-\",start=200, label=\"predicted\")"
   ]
  },
  {
   "cell_type": "code",
   "execution_count": 74,
   "id": "6090f7c5",
   "metadata": {},
   "outputs": [],
   "source": [
    "def mean_absolute_scaled_error(y_true, y_pred):\n",
    "    \"\"\"\n",
    "    Implement MASE (assuming no seasonality of data).\n",
    "    \"\"\"\n",
    "    mae = tf.reduce_mean(tf.abs(y_true - y_pred))\n",
    "\n",
    "    # Find MAE of naive forecast (no seasonality)\n",
    "    mae_naive_no_season = tf.reduce_mean(tf.abs(y_true[1:] - y_true[:-1])) # our seasonality is 1 day (hence the shifting of 1 day)\n",
    "\n",
    "    return mae / mae_naive_no_season"
   ]
  },
  {
   "cell_type": "code",
   "execution_count": 75,
   "id": "5fb7fb80",
   "metadata": {},
   "outputs": [
    {
     "data": {
      "text/plain": [
       "<tf.Tensor: shape=(), dtype=float64, numpy=0.9986797708151375>"
      ]
     },
     "execution_count": 75,
     "metadata": {},
     "output_type": "execute_result"
    }
   ],
   "source": [
    "mean_absolute_scaled_error(y_test[1:], naive_forcast)"
   ]
  },
  {
   "cell_type": "code",
   "execution_count": 76,
   "id": "dee82a48",
   "metadata": {},
   "outputs": [],
   "source": [
    "def evaluate_preds(y_true, y_pred):\n",
    "    # Make sure float32 (for metric calculations)\n",
    "    y_true = tf.cast(y_true, dtype=tf.float32)\n",
    "    y_pred = tf.cast(y_pred, dtype=tf.float32)\n",
    "\n",
    "    # Calculate various metrics\n",
    "    mae = tf.keras.metrics.mean_absolute_error(y_true, y_pred)\n",
    "    mse = tf.keras.metrics.mean_squared_error(y_true, y_pred) # puts and emphasis on outliers (all errors get squared)\n",
    "    rmse = tf.sqrt(mse)\n",
    "    mape = tf.keras.metrics.mean_absolute_percentage_error(y_true, y_pred)\n",
    "    mase = mean_absolute_scaled_error(y_true, y_pred)\n",
    "\n",
    "    return {\"mae\": mae.numpy(),\n",
    "          \"mse\": mse.numpy(),\n",
    "          \"rmse\": rmse.numpy(),\n",
    "          \"mape\": mape.numpy(),\n",
    "          \"mase\": mase.numpy()}"
   ]
  },
  {
   "cell_type": "code",
   "execution_count": 77,
   "id": "6cd7a074",
   "metadata": {},
   "outputs": [
    {
     "data": {
      "text/plain": [
       "{'mae': 1126.9683,\n",
       " 'mse': 2708268.8,\n",
       " 'rmse': 1645.6819,\n",
       " 'mape': 2.8300264,\n",
       " 'mase': 0.99867964}"
      ]
     },
     "execution_count": 77,
     "metadata": {},
     "output_type": "execute_result"
    }
   ],
   "source": [
    "evaluate_preds(y_test[1:], naive_forcast)"
   ]
  },
  {
   "cell_type": "code",
   "execution_count": 78,
   "id": "288b7356",
   "metadata": {},
   "outputs": [
    {
     "data": {
      "text/plain": [
       "(<tf.Tensor: shape=(), dtype=float64, numpy=10123.3>,\n",
       " <tf.Tensor: shape=(), dtype=float64, numpy=67553.94893>)"
      ]
     },
     "execution_count": 78,
     "metadata": {},
     "output_type": "execute_result"
    }
   ],
   "source": [
    "tf.reduce_min(y_test), tf.reduce_max(y_test)"
   ]
  },
  {
   "cell_type": "code",
   "execution_count": 91,
   "id": "6a79ad74",
   "metadata": {},
   "outputs": [],
   "source": [
    "# Create function to label windowed data\n",
    "def get_labelled_windows(x, horizon=1):\n",
    "  \"\"\"\n",
    "  Creates labels for windowed dataset.\n",
    "\n",
    "  E.g. if horizon=1 (default)\n",
    "  Input: [1, 2, 3, 4, 5, 6] -> Output: ([1, 2, 3, 4, 5], [6])\n",
    "  \"\"\"\n",
    "  return x[:, :-horizon], x[:, -horizon:]"
   ]
  },
  {
   "cell_type": "code",
   "execution_count": 92,
   "id": "f56daaa8",
   "metadata": {},
   "outputs": [],
   "source": [
    "HORIZON = 1 # predict 1 step at a time\n",
    "WINDOW_SIZE = 7 # use a week worth of timesteps to predict the horizon"
   ]
  },
  {
   "cell_type": "code",
   "execution_count": 93,
   "id": "cac0e729",
   "metadata": {},
   "outputs": [],
   "source": [
    "a = list(range(20))"
   ]
  },
  {
   "cell_type": "code",
   "execution_count": 94,
   "id": "f678a53e",
   "metadata": {},
   "outputs": [
    {
     "data": {
      "text/plain": [
       "([0, 1, 2, 3, 4, 5, 6, 7, 8, 9, 10, 11, 12, 13, 14, 15, 16, 17, 18], [19])"
      ]
     },
     "execution_count": 94,
     "metadata": {},
     "output_type": "execute_result"
    }
   ],
   "source": [
    "a[ :-1], a[ -1:]"
   ]
  },
  {
   "cell_type": "code",
   "execution_count": 95,
   "id": "695a7ad6",
   "metadata": {},
   "outputs": [
    {
     "data": {
      "text/plain": [
       "(<tf.Tensor: shape=(1, 7), dtype=int32, numpy=array([[0, 1, 2, 3, 4, 5, 6]], dtype=int32)>,\n",
       " <tf.Tensor: shape=(1, 1), dtype=int32, numpy=array([[7]], dtype=int32)>)"
      ]
     },
     "execution_count": 95,
     "metadata": {},
     "output_type": "execute_result"
    }
   ],
   "source": [
    "get_labelled_windows(tf.expand_dims(tf.range(8), axis=0))"
   ]
  },
  {
   "cell_type": "code",
   "execution_count": 96,
   "id": "8202b92a",
   "metadata": {},
   "outputs": [],
   "source": [
    "def make_windows(x, window_size=7, horizon=1):\n",
    "    \"\"\"\n",
    "    Turns a 1D array into a 2D array of sequential windows of window_size.\n",
    "    \"\"\"\n",
    "    # 1. Create a window of specific window_size (add the horizon on the end for later labelling)\n",
    "    window_step = np.expand_dims(np.arange(window_size+horizon), axis=0)\n",
    "    # print(f\"Window step:\\n {window_step}\")\n",
    "\n",
    "    # 2. Create a 2D array of multiple window steps (minus 1 to account for 0 indexing)\n",
    "    window_indexes = window_step + np.expand_dims(np.arange(len(x)-(window_size+horizon-1)), axis=0).T # create 2D array of windows of size window_size\n",
    "    # print(f\"Window indexes:\\n {window_indexes[:3], window_indexes[-3:], window_indexes.shape}\")\n",
    "\n",
    "    # 3. Index on the target array (time series) with 2D array of multiple window steps\n",
    "    windowed_array = x[window_indexes]\n",
    "\n",
    "    # 4. Get the labelled windows\n",
    "    windows, labels = get_labelled_windows(windowed_array, horizon=horizon)\n",
    "\n",
    "    return windows, labels"
   ]
  },
  {
   "cell_type": "code",
   "execution_count": 100,
   "id": "4faa6c52",
   "metadata": {},
   "outputs": [
    {
     "name": "stdout",
     "output_type": "stream",
     "text": [
      "Window step:\n",
      " [[0 1 2 3 4 5 6 7]]\n",
      "Window indexes:\n",
      " (array([[0, 1, 2, 3, 4, 5, 6, 7],\n",
      "       [1, 2, 3, 4, 5, 6, 7, 8],\n",
      "       [2, 3, 4, 5, 6, 7, 8, 9]]), array([[2633, 2634, 2635, 2636, 2637, 2638, 2639, 2640],\n",
      "       [2634, 2635, 2636, 2637, 2638, 2639, 2640, 2641],\n",
      "       [2635, 2636, 2637, 2638, 2639, 2640, 2641, 2642]]), (2636, 8))\n"
     ]
    },
    {
     "data": {
      "text/plain": [
       "(array([[324.467934, 328.644408, 337.921358, 348.99286 , 341.459753,\n",
       "         344.745289, 357.239982],\n",
       "        [328.644408, 337.921358, 348.99286 , 341.459753, 344.745289,\n",
       "         357.239982, 371.116917],\n",
       "        [337.921358, 348.99286 , 341.459753, 344.745289, 357.239982,\n",
       "         371.116917, 366.664633],\n",
       "        [348.99286 , 341.459753, 344.745289, 357.239982, 371.116917,\n",
       "         366.664633, 428.882925],\n",
       "        [341.459753, 344.745289, 357.239982, 371.116917, 366.664633,\n",
       "         428.882925, 418.944218]]),\n",
       " array([[371.116917],\n",
       "        [366.664633],\n",
       "        [428.882925],\n",
       "        [418.944218],\n",
       "        [399.688315]]))"
      ]
     },
     "execution_count": 100,
     "metadata": {},
     "output_type": "execute_result"
    }
   ],
   "source": [
    "full_windows, full_labels = make_windows(prices)\n",
    "full_windows[:5], full_labels[:5]"
   ]
  },
  {
   "cell_type": "code",
   "execution_count": 101,
   "id": "72d24f5b",
   "metadata": {},
   "outputs": [],
   "source": [
    "# Make the train/test splits\n",
    "def make_train_test_splits(windows, labels, test_split=0.2):\n",
    "    \"\"\"\n",
    "      Splits matching pairs of windows and labels into train and test splits.\n",
    "    \"\"\"\n",
    "    split_size = int(len(windows) * (1-test_split)) # this will default to 80% train/20% test\n",
    "    train_windows = windows[:split_size]\n",
    "    train_labels = labels[:split_size]\n",
    "    test_windows = windows[split_size:]\n",
    "    test_labels = labels[split_size:]\n",
    "    return train_windows, test_windows, train_labels, test_labels"
   ]
  },
  {
   "cell_type": "code",
   "execution_count": 102,
   "id": "769040fe",
   "metadata": {},
   "outputs": [],
   "source": [
    "train_windows, test_windows, train_labels, test_labels = make_train_test_splits(full_windows, full_labels)"
   ]
  },
  {
   "cell_type": "code",
   "execution_count": 103,
   "id": "88cf2a72",
   "metadata": {},
   "outputs": [],
   "source": [
    "def create_tensorboard_callback(experiment_name, model_name):\n",
    "    \"\"\"\n",
    "    Create an tensorboard callback.\n",
    "    \"\"\"\n",
    "    return tf.keras.callbacks.TensorBoard(log_dir=os.path.join(\"model_logs\", experiment_name, model_name))"
   ]
  },
  {
   "cell_type": "code",
   "execution_count": 105,
   "id": "86bff0a3",
   "metadata": {},
   "outputs": [],
   "source": [
    "def create_model_checkpoint_callback(experiment_name, model_name):\n",
    "    \"\"\"\n",
    "     Create an Model Checkpoint callback\n",
    "    \"\"\"\n",
    "    return tf.keras.callbacks.ModelCheckpoint(filepath=os.path.join(\"model_checkpoints\", experiment_name, model_name+\".ckpt\"),\n",
    "                                              save_weights_only=True, \n",
    "                                              save_best_only=True)"
   ]
  },
  {
   "cell_type": "code",
   "execution_count": 109,
   "id": "4b13b269",
   "metadata": {},
   "outputs": [
    {
     "name": "stdout",
     "output_type": "stream",
     "text": [
      "Model: \"dense_model_1\"\n",
      "_________________________________________________________________\n",
      " Layer (type)                Output Shape              Param #   \n",
      "=================================================================\n",
      " input_layer (InputLayer)    [(None, 7)]               0         \n",
      "                                                                 \n",
      " dense_layer_a (Dense)       (None, 128)               1024      \n",
      "                                                                 \n",
      " ouput_layer (Dense)         (None, 1)                 129       \n",
      "                                                                 \n",
      "=================================================================\n",
      "Total params: 1,153\n",
      "Trainable params: 1,153\n",
      "Non-trainable params: 0\n",
      "_________________________________________________________________\n"
     ]
    },
    {
     "data": {
      "image/png": "[encoded data removed]",
      "text/plain": [
       "<IPython.core.display.Image object>"
      ]
     },
     "execution_count": 109,
     "metadata": {},
     "output_type": "execute_result"
    }
   ],
   "source": [
    "input_layer = tf.keras.layers.Input(shape=(7,), dtype=tf.float32, name=\"input_layer\")\n",
    "dense_layer_a = tf.keras.layers.Dense(units=128,activation=\"relu\",name=\"dense_layer_a\")(input_layer)\n",
    "output_layer = tf.keras.layers.Dense(units=1, activation=\"linear\", name=\"ouput_layer\")(dense_layer_a)\n",
    "model_1 = tf.keras.Model(inputs=input_layer, outputs=output_layer, name=\"dense_model_1\")\n",
    "model_1.summary()\n",
    "tf.keras.utils.plot_model(model=model_1, show_shapes=True)"
   ]
  },
  {
   "cell_type": "code",
   "execution_count": 112,
   "id": "760d8291",
   "metadata": {},
   "outputs": [],
   "source": [
    "model_1.compile(loss=\"mae\",\n",
    "                optimizer=tf.keras.optimizers.Adam(),\n",
    "                metrics=[\"mae\", \"mse\"]\n",
    "                )"
   ]
  },
  {
   "cell_type": "code",
   "execution_count": 113,
   "id": "163432b5",
   "metadata": {},
   "outputs": [
    {
     "name": "stdout",
     "output_type": "stream",
     "text": [
      "Epoch 1/100\n",
      "17/17 [==============================] - 1s 17ms/step - loss: 1425.3370 - mae: 1425.3370 - mse: 5786563.5000 - val_loss: 6751.8301 - val_mae: 6751.8301 - val_mse: 63602772.0000\n",
      "Epoch 2/100\n",
      "17/17 [==============================] - 0s 8ms/step - loss: 467.9729 - mae: 467.9729 - mse: 615832.5625 - val_loss: 2050.2976 - val_mae: 2050.2976 - val_mse: 7663745.0000\n",
      "Epoch 3/100\n",
      "17/17 [==============================] - 0s 8ms/step - loss: 271.8658 - mae: 271.8658 - mse: 272386.1875 - val_loss: 2044.8613 - val_mae: 2044.8613 - val_mse: 7588442.5000\n",
      "Epoch 4/100\n",
      "17/17 [==============================] - 0s 8ms/step - loss: 235.3682 - mae: 235.3682 - mse: 224794.2969 - val_loss: 1957.2189 - val_mae: 1957.2189 - val_mse: 7121844.0000\n",
      "Epoch 5/100\n",
      "17/17 [==============================] - 0s 8ms/step - loss: 232.6241 - mae: 232.6241 - mse: 217682.4688 - val_loss: 1901.6627 - val_mae: 1901.6627 - val_mse: 6811573.5000\n",
      "Epoch 6/100\n",
      "17/17 [==============================] - 0s 8ms/step - loss: 228.5467 - mae: 228.5467 - mse: 210553.6250 - val_loss: 1908.5310 - val_mae: 1908.5310 - val_mse: 6701245.5000\n",
      "Epoch 7/100\n",
      "17/17 [==============================] - 0s 8ms/step - loss: 222.5602 - mae: 222.5602 - mse: 202186.7500 - val_loss: 1788.1953 - val_mae: 1788.1953 - val_mse: 6056672.5000\n",
      "Epoch 8/100\n",
      "17/17 [==============================] - 0s 8ms/step - loss: 213.7646 - mae: 213.7646 - mse: 185281.9844 - val_loss: 1722.1672 - val_mae: 1722.1672 - val_mse: 5686290.5000\n",
      "Epoch 9/100\n",
      "17/17 [==============================] - 0s 8ms/step - loss: 206.0673 - mae: 206.0673 - mse: 174566.6250 - val_loss: 1711.7180 - val_mae: 1711.7180 - val_mse: 5399904.0000\n",
      "Epoch 10/100\n",
      "17/17 [==============================] - 0s 7ms/step - loss: 198.5755 - mae: 198.5755 - mse: 162234.1406 - val_loss: 1679.8763 - val_mae: 1679.8763 - val_mse: 5479815.0000\n",
      "Epoch 11/100\n",
      "17/17 [==============================] - 0s 8ms/step - loss: 196.8391 - mae: 196.8391 - mse: 160517.7969 - val_loss: 1652.6937 - val_mae: 1652.6937 - val_mse: 5342179.0000\n",
      "Epoch 12/100\n",
      "17/17 [==============================] - 0s 8ms/step - loss: 192.2405 - mae: 192.2405 - mse: 148982.9062 - val_loss: 1625.3373 - val_mae: 1625.3373 - val_mse: 4754854.0000\n",
      "Epoch 13/100\n",
      "17/17 [==============================] - 0s 8ms/step - loss: 187.5349 - mae: 187.5349 - mse: 143948.0781 - val_loss: 1535.6003 - val_mae: 1535.6003 - val_mse: 4351838.0000\n",
      "Epoch 14/100\n",
      "17/17 [==============================] - 0s 8ms/step - loss: 181.6370 - mae: 181.6370 - mse: 136862.7344 - val_loss: 1448.9795 - val_mae: 1448.9795 - val_mse: 4061372.5000\n",
      "Epoch 15/100\n",
      "17/17 [==============================] - 0s 9ms/step - loss: 172.9774 - mae: 172.9774 - mse: 128672.5312 - val_loss: 1422.3741 - val_mae: 1422.3741 - val_mse: 3990472.2500\n",
      "Epoch 16/100\n",
      "17/17 [==============================] - 0s 8ms/step - loss: 168.8764 - mae: 168.8764 - mse: 124814.1562 - val_loss: 1509.4580 - val_mae: 1509.4580 - val_mse: 4178912.0000\n",
      "Epoch 17/100\n",
      "17/17 [==============================] - 0s 9ms/step - loss: 174.9533 - mae: 174.9533 - mse: 128381.6953 - val_loss: 1458.2876 - val_mae: 1458.2876 - val_mse: 3964579.0000\n",
      "Epoch 18/100\n",
      "17/17 [==============================] - 0s 9ms/step - loss: 167.5770 - mae: 167.5770 - mse: 119926.8203 - val_loss: 1410.4132 - val_mae: 1410.4132 - val_mse: 3786000.7500\n",
      "Epoch 19/100\n",
      "17/17 [==============================] - 0s 9ms/step - loss: 162.6599 - mae: 162.6599 - mse: 114646.7734 - val_loss: 1363.4313 - val_mae: 1363.4313 - val_mse: 3629601.7500\n",
      "Epoch 20/100\n",
      "17/17 [==============================] - 0s 9ms/step - loss: 160.8130 - mae: 160.8130 - mse: 114108.8203 - val_loss: 1351.1465 - val_mae: 1351.1465 - val_mse: 3668040.7500\n",
      "Epoch 21/100\n",
      "17/17 [==============================] - 0s 8ms/step - loss: 166.7210 - mae: 166.7210 - mse: 117521.7031 - val_loss: 1367.2792 - val_mae: 1367.2792 - val_mse: 3776642.2500\n",
      "Epoch 22/100\n",
      "17/17 [==============================] - 0s 9ms/step - loss: 160.4491 - mae: 160.4491 - mse: 111760.3984 - val_loss: 1360.8977 - val_mae: 1360.8977 - val_mse: 3745520.7500\n",
      "Epoch 23/100\n",
      "17/17 [==============================] - 0s 7ms/step - loss: 163.5221 - mae: 163.5221 - mse: 112437.8281 - val_loss: 1368.1832 - val_mae: 1368.1832 - val_mse: 3785791.2500\n",
      "Epoch 24/100\n",
      "17/17 [==============================] - 0s 8ms/step - loss: 158.1771 - mae: 158.1771 - mse: 109193.8047 - val_loss: 1310.1810 - val_mae: 1310.1810 - val_mse: 3462027.7500\n",
      "Epoch 25/100\n",
      "17/17 [==============================] - 0s 9ms/step - loss: 158.5586 - mae: 158.5586 - mse: 107076.1094 - val_loss: 1295.7429 - val_mae: 1295.7429 - val_mse: 3349364.5000\n",
      "Epoch 26/100\n",
      "17/17 [==============================] - 0s 8ms/step - loss: 160.2250 - mae: 160.2250 - mse: 108640.6953 - val_loss: 1287.0807 - val_mae: 1287.0807 - val_mse: 3324325.7500\n",
      "Epoch 27/100\n",
      "17/17 [==============================] - 0s 8ms/step - loss: 154.8085 - mae: 154.8085 - mse: 105382.7656 - val_loss: 1286.7357 - val_mae: 1286.7357 - val_mse: 3293345.7500\n",
      "Epoch 28/100\n",
      "17/17 [==============================] - 0s 10ms/step - loss: 153.1482 - mae: 153.1482 - mse: 104849.7500 - val_loss: 1271.6721 - val_mae: 1271.6721 - val_mse: 3259672.0000\n",
      "Epoch 29/100\n",
      "17/17 [==============================] - 0s 9ms/step - loss: 152.4681 - mae: 152.4681 - mse: 104136.3672 - val_loss: 1265.1024 - val_mae: 1265.1024 - val_mse: 3229508.2500\n",
      "Epoch 30/100\n",
      "17/17 [==============================] - 0s 8ms/step - loss: 163.0073 - mae: 163.0073 - mse: 108393.1562 - val_loss: 1325.8202 - val_mae: 1325.8202 - val_mse: 3394988.0000\n",
      "Epoch 31/100\n",
      "17/17 [==============================] - 0s 8ms/step - loss: 160.7271 - mae: 160.7271 - mse: 103457.1172 - val_loss: 1334.7233 - val_mae: 1334.7233 - val_mse: 3419501.2500\n",
      "Epoch 32/100\n",
      "17/17 [==============================] - 0s 9ms/step - loss: 151.7751 - mae: 151.7751 - mse: 100894.8828 - val_loss: 1248.0637 - val_mae: 1248.0637 - val_mse: 3153533.0000\n",
      "Epoch 33/100\n",
      "17/17 [==============================] - 0s 8ms/step - loss: 150.4233 - mae: 150.4233 - mse: 101073.3750 - val_loss: 1280.1171 - val_mae: 1280.1171 - val_mse: 3231590.2500\n",
      "Epoch 34/100\n",
      "17/17 [==============================] - 0s 9ms/step - loss: 152.6633 - mae: 152.6633 - mse: 100554.3438 - val_loss: 1259.6370 - val_mae: 1259.6370 - val_mse: 3161450.7500\n",
      "Epoch 35/100\n",
      "17/17 [==============================] - 0s 9ms/step - loss: 147.4244 - mae: 147.4244 - mse: 97429.9844 - val_loss: 1234.4980 - val_mae: 1234.4980 - val_mse: 3088010.7500\n",
      "Epoch 36/100\n",
      "17/17 [==============================] - 0s 9ms/step - loss: 149.1947 - mae: 149.1947 - mse: 97319.6172 - val_loss: 1273.4036 - val_mae: 1273.4036 - val_mse: 3317308.0000\n",
      "Epoch 37/100\n",
      "17/17 [==============================] - 0s 7ms/step - loss: 159.9544 - mae: 159.9544 - mse: 106323.4688 - val_loss: 1327.2345 - val_mae: 1327.2345 - val_mse: 3369174.5000\n",
      "Epoch 38/100\n",
      "17/17 [==============================] - 0s 8ms/step - loss: 147.7679 - mae: 147.7679 - mse: 96105.6562 - val_loss: 1302.1935 - val_mae: 1302.1935 - val_mse: 3279913.2500\n",
      "Epoch 39/100\n",
      "17/17 [==============================] - 0s 8ms/step - loss: 148.5276 - mae: 148.5276 - mse: 96745.1562 - val_loss: 1215.2863 - val_mae: 1215.2863 - val_mse: 3014264.0000\n",
      "Epoch 40/100\n",
      "17/17 [==============================] - 0s 8ms/step - loss: 145.9841 - mae: 145.9841 - mse: 95864.0781 - val_loss: 1230.5406 - val_mae: 1230.5406 - val_mse: 3046814.5000\n",
      "Epoch 41/100\n",
      "17/17 [==============================] - 0s 7ms/step - loss: 145.2768 - mae: 145.2768 - mse: 94945.7500 - val_loss: 1266.7871 - val_mae: 1266.7871 - val_mse: 3285495.2500\n",
      "Epoch 42/100\n",
      "17/17 [==============================] - 0s 8ms/step - loss: 144.2488 - mae: 144.2488 - mse: 93472.2969 - val_loss: 1277.2853 - val_mae: 1277.2853 - val_mse: 3327679.0000\n",
      "Epoch 43/100\n",
      "17/17 [==============================] - 0s 8ms/step - loss: 142.7049 - mae: 142.7049 - mse: 93073.8906 - val_loss: 1198.5236 - val_mae: 1198.5236 - val_mse: 2955097.2500\n",
      "Epoch 44/100\n",
      "17/17 [==============================] - 0s 7ms/step - loss: 145.2489 - mae: 145.2489 - mse: 96236.9219 - val_loss: 1334.6777 - val_mae: 1334.6777 - val_mse: 3376167.5000\n",
      "Epoch 45/100\n"
     ]
    },
    {
     "name": "stdout",
     "output_type": "stream",
     "text": [
      "17/17 [==============================] - 0s 8ms/step - loss: 146.6403 - mae: 146.6403 - mse: 96023.7656 - val_loss: 1251.7472 - val_mae: 1251.7472 - val_mse: 3096836.0000\n",
      "Epoch 46/100\n",
      "17/17 [==============================] - 0s 8ms/step - loss: 141.2690 - mae: 141.2690 - mse: 91611.2969 - val_loss: 1244.7860 - val_mae: 1244.7860 - val_mse: 3183630.0000\n",
      "Epoch 47/100\n",
      "17/17 [==============================] - 0s 9ms/step - loss: 145.0185 - mae: 145.0185 - mse: 93810.2031 - val_loss: 1181.7152 - val_mae: 1181.7152 - val_mse: 2905324.0000\n",
      "Epoch 48/100\n",
      "17/17 [==============================] - 0s 8ms/step - loss: 145.3497 - mae: 145.3497 - mse: 91310.4297 - val_loss: 1180.3844 - val_mae: 1180.3844 - val_mse: 2913094.5000\n",
      "Epoch 49/100\n",
      "17/17 [==============================] - 0s 8ms/step - loss: 142.5220 - mae: 142.5220 - mse: 91820.5547 - val_loss: 1175.4819 - val_mae: 1175.4819 - val_mse: 2887444.0000\n",
      "Epoch 50/100\n",
      "17/17 [==============================] - 0s 7ms/step - loss: 144.7624 - mae: 144.7624 - mse: 93695.8281 - val_loss: 1181.3589 - val_mae: 1181.3589 - val_mse: 2920572.0000\n",
      "Epoch 51/100\n",
      "17/17 [==============================] - 0s 9ms/step - loss: 144.1947 - mae: 144.1947 - mse: 90771.5859 - val_loss: 1175.3870 - val_mae: 1175.3870 - val_mse: 2871786.5000\n",
      "Epoch 52/100\n",
      "17/17 [==============================] - 0s 8ms/step - loss: 146.1001 - mae: 146.1001 - mse: 93425.2031 - val_loss: 1298.5127 - val_mae: 1298.5127 - val_mse: 3236235.5000\n",
      "Epoch 53/100\n",
      "17/17 [==============================] - 0s 7ms/step - loss: 146.2897 - mae: 146.2897 - mse: 94653.9609 - val_loss: 1332.7587 - val_mae: 1332.7587 - val_mse: 3547527.7500\n",
      "Epoch 54/100\n",
      "17/17 [==============================] - 0s 8ms/step - loss: 149.4003 - mae: 149.4003 - mse: 93250.2734 - val_loss: 1169.6404 - val_mae: 1169.6404 - val_mse: 2879725.0000\n",
      "Epoch 55/100\n",
      "17/17 [==============================] - 0s 8ms/step - loss: 141.2107 - mae: 141.2107 - mse: 90249.5938 - val_loss: 1244.4651 - val_mae: 1244.4651 - val_mse: 3170077.2500\n",
      "Epoch 56/100\n",
      "17/17 [==============================] - 0s 8ms/step - loss: 137.9846 - mae: 137.9846 - mse: 87915.7578 - val_loss: 1158.3525 - val_mae: 1158.3525 - val_mse: 2839130.7500\n",
      "Epoch 57/100\n",
      "17/17 [==============================] - 0s 7ms/step - loss: 139.9694 - mae: 139.9694 - mse: 89329.1797 - val_loss: 1198.4296 - val_mae: 1198.4296 - val_mse: 2920709.0000\n",
      "Epoch 58/100\n",
      "17/17 [==============================] - 0s 8ms/step - loss: 140.8229 - mae: 140.8229 - mse: 90110.7344 - val_loss: 1154.0397 - val_mae: 1154.0397 - val_mse: 2820250.5000\n",
      "Epoch 59/100\n",
      "17/17 [==============================] - 0s 7ms/step - loss: 137.0316 - mae: 137.0316 - mse: 87319.3359 - val_loss: 1174.5835 - val_mae: 1174.5835 - val_mse: 2854483.0000\n",
      "Epoch 60/100\n",
      "17/17 [==============================] - 0s 7ms/step - loss: 138.5780 - mae: 138.5780 - mse: 88804.1172 - val_loss: 1242.8977 - val_mae: 1242.8977 - val_mse: 3158788.0000\n",
      "Epoch 61/100\n",
      "17/17 [==============================] - 0s 8ms/step - loss: 138.6066 - mae: 138.6066 - mse: 86435.5078 - val_loss: 1225.2264 - val_mae: 1225.2264 - val_mse: 3088449.2500\n",
      "Epoch 62/100\n",
      "17/17 [==============================] - 0s 8ms/step - loss: 138.6542 - mae: 138.6542 - mse: 87713.8359 - val_loss: 1157.0133 - val_mae: 1157.0133 - val_mse: 2843140.7500\n",
      "Epoch 63/100\n",
      "17/17 [==============================] - 0s 7ms/step - loss: 136.8627 - mae: 136.8627 - mse: 86975.2422 - val_loss: 1224.8958 - val_mae: 1224.8958 - val_mse: 2994211.7500\n",
      "Epoch 64/100\n",
      "17/17 [==============================] - 0s 8ms/step - loss: 139.0325 - mae: 139.0325 - mse: 87867.6484 - val_loss: 1190.7598 - val_mae: 1190.7598 - val_mse: 2891029.5000\n",
      "Epoch 65/100\n",
      "17/17 [==============================] - 0s 9ms/step - loss: 138.2097 - mae: 138.2097 - mse: 88091.3906 - val_loss: 1143.2225 - val_mae: 1143.2225 - val_mse: 2796392.0000\n",
      "Epoch 66/100\n",
      "17/17 [==============================] - 0s 8ms/step - loss: 136.8070 - mae: 136.8070 - mse: 85932.0547 - val_loss: 1223.0386 - val_mae: 1223.0386 - val_mse: 3077944.0000\n",
      "Epoch 67/100\n",
      "17/17 [==============================] - 0s 9ms/step - loss: 138.4318 - mae: 138.4318 - mse: 88225.2109 - val_loss: 1187.6427 - val_mae: 1187.6427 - val_mse: 2946782.0000\n",
      "Epoch 68/100\n",
      "17/17 [==============================] - 0s 8ms/step - loss: 141.0481 - mae: 141.0481 - mse: 89074.1094 - val_loss: 1248.3197 - val_mae: 1248.3197 - val_mse: 3172231.7500\n",
      "Epoch 69/100\n",
      "17/17 [==============================] - 0s 9ms/step - loss: 137.2697 - mae: 137.2697 - mse: 86221.5312 - val_loss: 1136.8700 - val_mae: 1136.8700 - val_mse: 2773680.5000\n",
      "Epoch 70/100\n",
      "17/17 [==============================] - 0s 8ms/step - loss: 134.6154 - mae: 134.6154 - mse: 84407.2422 - val_loss: 1136.1594 - val_mae: 1136.1594 - val_mse: 2772496.5000\n",
      "Epoch 71/100\n",
      "17/17 [==============================] - 0s 8ms/step - loss: 136.3730 - mae: 136.3730 - mse: 85621.2812 - val_loss: 1222.1466 - val_mae: 1222.1466 - val_mse: 2979113.2500\n",
      "Epoch 72/100\n",
      "17/17 [==============================] - 0s 8ms/step - loss: 136.6500 - mae: 136.6500 - mse: 86401.5938 - val_loss: 1156.8118 - val_mae: 1156.8118 - val_mse: 2841731.2500\n",
      "Epoch 73/100\n",
      "17/17 [==============================] - 0s 7ms/step - loss: 139.3003 - mae: 139.3003 - mse: 87736.4609 - val_loss: 1141.0488 - val_mae: 1141.0488 - val_mse: 2766039.7500\n",
      "Epoch 74/100\n",
      "17/17 [==============================] - 0s 8ms/step - loss: 138.9721 - mae: 138.9721 - mse: 87190.3516 - val_loss: 1194.2941 - val_mae: 1194.2941 - val_mse: 2965323.7500\n",
      "Epoch 75/100\n",
      "17/17 [==============================] - 0s 8ms/step - loss: 138.5087 - mae: 138.5087 - mse: 84935.0859 - val_loss: 1162.4967 - val_mae: 1162.4967 - val_mse: 2808498.0000\n",
      "Epoch 76/100\n",
      "17/17 [==============================] - 0s 7ms/step - loss: 136.2071 - mae: 136.2071 - mse: 86644.0078 - val_loss: 1148.4957 - val_mae: 1148.4957 - val_mse: 2776414.0000\n",
      "Epoch 77/100\n",
      "17/17 [==============================] - 0s 8ms/step - loss: 144.9552 - mae: 144.9552 - mse: 90456.5703 - val_loss: 1266.5204 - val_mae: 1266.5204 - val_mse: 3240074.2500\n",
      "Epoch 78/100\n",
      "17/17 [==============================] - 0s 8ms/step - loss: 147.8315 - mae: 147.8315 - mse: 91524.2969 - val_loss: 1217.7831 - val_mae: 1217.7831 - val_mse: 2964178.2500\n",
      "Epoch 79/100\n",
      "17/17 [==============================] - 0s 8ms/step - loss: 145.6827 - mae: 145.6827 - mse: 92150.1328 - val_loss: 1165.7118 - val_mae: 1165.7118 - val_mse: 2813745.0000\n",
      "Epoch 80/100\n",
      "17/17 [==============================] - 0s 9ms/step - loss: 133.7438 - mae: 133.7438 - mse: 83661.6641 - val_loss: 1132.6179 - val_mae: 1132.6179 - val_mse: 2748103.7500\n",
      "Epoch 81/100\n",
      "17/17 [==============================] - 0s 8ms/step - loss: 133.0276 - mae: 133.0276 - mse: 83661.8438 - val_loss: 1136.9351 - val_mae: 1136.9351 - val_mse: 2777193.7500\n",
      "Epoch 82/100\n",
      "17/17 [==============================] - 0s 8ms/step - loss: 134.1380 - mae: 134.1380 - mse: 83925.2578 - val_loss: 1139.5326 - val_mae: 1139.5326 - val_mse: 2754797.0000\n",
      "Epoch 83/100\n",
      "17/17 [==============================] - 0s 8ms/step - loss: 135.4542 - mae: 135.4542 - mse: 84480.5859 - val_loss: 1153.8451 - val_mae: 1153.8451 - val_mse: 2828048.0000\n",
      "Epoch 84/100\n",
      "17/17 [==============================] - 0s 8ms/step - loss: 135.0594 - mae: 135.0594 - mse: 84691.3359 - val_loss: 1132.4700 - val_mae: 1132.4700 - val_mse: 2743512.7500\n",
      "Epoch 85/100\n",
      "17/17 [==============================] - 0s 8ms/step - loss: 141.6743 - mae: 141.6743 - mse: 86280.0625 - val_loss: 1129.3823 - val_mae: 1129.3823 - val_mse: 2750082.5000\n",
      "Epoch 86/100\n",
      "17/17 [==============================] - 0s 9ms/step - loss: 138.2721 - mae: 138.2721 - mse: 83796.2578 - val_loss: 1129.1018 - val_mae: 1129.1018 - val_mse: 2740950.7500\n",
      "Epoch 87/100\n",
      "17/17 [==============================] - 0s 8ms/step - loss: 146.7575 - mae: 146.7575 - mse: 90609.7891 - val_loss: 1131.8649 - val_mae: 1131.8649 - val_mse: 2742864.2500\n",
      "Epoch 88/100\n",
      "17/17 [==============================] - 0s 8ms/step - loss: 135.7800 - mae: 135.7800 - mse: 83904.0078 - val_loss: 1128.6254 - val_mae: 1128.6254 - val_mse: 2738047.5000\n",
      "Epoch 89/100\n"
     ]
    },
    {
     "name": "stdout",
     "output_type": "stream",
     "text": [
      "17/17 [==============================] - 0s 8ms/step - loss: 138.8913 - mae: 138.8913 - mse: 86735.6016 - val_loss: 1207.1343 - val_mae: 1207.1343 - val_mse: 2928412.2500\n",
      "Epoch 90/100\n",
      "17/17 [==============================] - 0s 8ms/step - loss: 138.8625 - mae: 138.8625 - mse: 84892.3984 - val_loss: 1164.5547 - val_mae: 1164.5547 - val_mse: 2858873.7500\n",
      "Epoch 91/100\n",
      "17/17 [==============================] - 0s 7ms/step - loss: 132.8425 - mae: 132.8425 - mse: 82942.2266 - val_loss: 1193.6958 - val_mae: 1193.6958 - val_mse: 2886540.7500\n",
      "Epoch 92/100\n",
      "17/17 [==============================] - 0s 8ms/step - loss: 137.1959 - mae: 137.1959 - mse: 83554.8828 - val_loss: 1217.9465 - val_mae: 1217.9465 - val_mse: 3042594.7500\n",
      "Epoch 93/100\n",
      "17/17 [==============================] - 0s 8ms/step - loss: 135.5358 - mae: 135.5358 - mse: 84065.5859 - val_loss: 1147.2830 - val_mae: 1147.2830 - val_mse: 2763602.2500\n",
      "Epoch 94/100\n",
      "17/17 [==============================] - 0s 8ms/step - loss: 135.8605 - mae: 135.8605 - mse: 84449.5625 - val_loss: 1142.6718 - val_mae: 1142.6718 - val_mse: 2753954.0000\n",
      "Epoch 95/100\n",
      "17/17 [==============================] - 0s 8ms/step - loss: 145.7015 - mae: 145.7015 - mse: 90723.9766 - val_loss: 1386.4840 - val_mae: 1386.4840 - val_mse: 3734788.2500\n",
      "Epoch 96/100\n",
      "17/17 [==============================] - 0s 7ms/step - loss: 144.1031 - mae: 144.1031 - mse: 89956.5234 - val_loss: 1156.2262 - val_mae: 1156.2262 - val_mse: 2782498.7500\n",
      "Epoch 97/100\n",
      "17/17 [==============================] - 0s 7ms/step - loss: 148.0347 - mae: 148.0347 - mse: 91521.9688 - val_loss: 1352.0698 - val_mae: 1352.0698 - val_mse: 3584267.2500\n",
      "Epoch 98/100\n",
      "17/17 [==============================] - 0s 8ms/step - loss: 145.8735 - mae: 145.8735 - mse: 87743.7969 - val_loss: 1230.6870 - val_mae: 1230.6870 - val_mse: 3000345.7500\n",
      "Epoch 99/100\n",
      "17/17 [==============================] - 0s 8ms/step - loss: 137.0127 - mae: 137.0127 - mse: 85164.6797 - val_loss: 1129.0138 - val_mae: 1129.0138 - val_mse: 2742035.2500\n",
      "Epoch 100/100\n",
      "17/17 [==============================] - 0s 8ms/step - loss: 133.6592 - mae: 133.6592 - mse: 83712.4688 - val_loss: 1127.2084 - val_mae: 1127.2084 - val_mse: 2728393.5000\n"
     ]
    },
    {
     "data": {
      "text/plain": [
       "<keras.callbacks.History at 0x7f794800eb80>"
      ]
     },
     "execution_count": 113,
     "metadata": {},
     "output_type": "execute_result"
    }
   ],
   "source": [
    "model_1.fit(x=train_windows, y=train_labels,\n",
    "            epochs=100,\n",
    "            batch_size=128,\n",
    "            validation_data=(test_windows, test_labels),\n",
    "            callbacks=[create_model_checkpoint_callback(\"timeseries\", model_1.name),\n",
    "                      create_tensorboard_callback(\"timeseries\", model_1.name)]\n",
    "           )"
   ]
  },
  {
   "cell_type": "code",
   "execution_count": 114,
   "id": "80009abb",
   "metadata": {},
   "outputs": [
    {
     "name": "stdout",
     "output_type": "stream",
     "text": [
      "17/17 [==============================] - 0s 4ms/step - loss: 1127.2084 - mae: 1127.2084 - mse: 2728394.0000\n"
     ]
    },
    {
     "data": {
      "text/plain": [
       "[1127.2083740234375, 1127.2083740234375, 2728394.0]"
      ]
     },
     "execution_count": 114,
     "metadata": {},
     "output_type": "execute_result"
    }
   ],
   "source": [
    "model_1.evaluate(test_windows, test_labels)"
   ]
  },
  {
   "cell_type": "code",
   "execution_count": null,
   "id": "a280e371",
   "metadata": {},
   "outputs": [],
   "source": []
  }
 ],
 "metadata": {
  "kernelspec": {
   "display_name": "Python 3 (ipykernel)",
   "language": "python",
   "name": "python3"
  },
  "language_info": {
   "codemirror_mode": {
    "name": "ipython",
    "version": 3
   },
   "file_extension": ".py",
   "mimetype": "text/x-python",
   "name": "python",
   "nbconvert_exporter": "python",
   "pygments_lexer": "ipython3",
   "version": "3.8.10"
  }
 },
 "nbformat": 4,
 "nbformat_minor": 5
}
