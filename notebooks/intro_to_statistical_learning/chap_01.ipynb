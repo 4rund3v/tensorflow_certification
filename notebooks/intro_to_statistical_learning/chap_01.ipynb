{
  "nbformat": 4,
  "nbformat_minor": 0,
  "metadata": {
    "colab": {
      "name": "Untitled0.ipynb",
      "provenance": [],
      "authorship_tag": "ABX9TyNY9LL35fYD3nK8r7ZwiWeQ",
      "include_colab_link": true
    },
    "kernelspec": {
      "name": "python3",
      "display_name": "Python 3"
    }
  },
  "cells": [
    {
      "cell_type": "markdown",
      "metadata": {
        "id": "view-in-github",
        "colab_type": "text"
      },
      "source": [
        "<a href=\"https://colab.research.google.com/github/4rund3v/tensorflow_certification/blob/master/notebooks/intro_to_statistical_learning/chap_01.ipynb\" target=\"_parent\"><img src=\"https://colab.research.google.com/assets/colab-badge.svg\" alt=\"Open In Colab\"/></a>"
      ]
    },
    {
      "cell_type": "markdown",
      "metadata": {
        "id": "UAgbfQbT0QPU",
        "colab_type": "text"
      },
      "source": [
        "# Chapter 01 :  Introduction\n"
      ]
    },
    {
      "cell_type": "markdown",
      "metadata": {
        "id": "JRZoGKPM0JAG",
        "colab_type": "text"
      },
      "source": [
        "## An Overview of Statistical Learning:\n",
        "Statistical Learning refers to a vast set of tools to udnerstand data. These tools can be broadly classified into \"supervised\" and \"unsupervised\"\n",
        " - Supervised Statistical Learning Involves building a statistical model for predicting or estimating an output based on one or more inputs.\n",
        " - Unsupervised Statistical Learning has inputs but there are no supervising outputs, we can learn the relationships and structure from such data.\n",
        "\n",
        "Predicting the continuous or quantutative output value is often referred to as a regression problem.\n",
        "\n",
        "Predicting a non-numerical value i.e. a categorical or qualitative output is known as classification.\n",
        "\n",
        "Grouping the data based on the observed characteristics is known as the clustering problem.\n"
      ]
    },
    {
      "cell_type": "markdown",
      "metadata": {
        "id": "8Cdaw6SE0JCy",
        "colab_type": "text"
      },
      "source": [
        ""
      ]
    },
    {
      "cell_type": "markdown",
      "metadata": {
        "id": "LmL84V0R0JFA",
        "colab_type": "text"
      },
      "source": [
        ""
      ]
    },
    {
      "cell_type": "markdown",
      "metadata": {
        "id": "s7JfALbg0JIH",
        "colab_type": "text"
      },
      "source": [
        ""
      ]
    },
    {
      "cell_type": "markdown",
      "metadata": {
        "id": "C4TaJRQi0JKc",
        "colab_type": "text"
      },
      "source": [
        ""
      ]
    },
    {
      "cell_type": "markdown",
      "metadata": {
        "id": "EcZGsVXW0JMl",
        "colab_type": "text"
      },
      "source": [
        ""
      ]
    },
    {
      "cell_type": "markdown",
      "metadata": {
        "id": "7NFrR1S_0JOu",
        "colab_type": "text"
      },
      "source": [
        ""
      ]
    },
    {
      "cell_type": "markdown",
      "metadata": {
        "id": "u8Pd_wL20JRG",
        "colab_type": "text"
      },
      "source": [
        ""
      ]
    },
    {
      "cell_type": "markdown",
      "metadata": {
        "id": "ay-6cN4v0JTh",
        "colab_type": "text"
      },
      "source": [
        ""
      ]
    },
    {
      "cell_type": "markdown",
      "metadata": {
        "id": "XYjB9uK60JV1",
        "colab_type": "text"
      },
      "source": [
        ""
      ]
    },
    {
      "cell_type": "markdown",
      "metadata": {
        "id": "y_NQI1dG0JYf",
        "colab_type": "text"
      },
      "source": [
        ""
      ]
    },
    {
      "cell_type": "markdown",
      "metadata": {
        "id": "ZIewuiEz0Jaz",
        "colab_type": "text"
      },
      "source": [
        ""
      ]
    },
    {
      "cell_type": "markdown",
      "metadata": {
        "id": "QWihvf6v0JdP",
        "colab_type": "text"
      },
      "source": [
        ""
      ]
    },
    {
      "cell_type": "markdown",
      "metadata": {
        "id": "FIZ6-yGX0Jf_",
        "colab_type": "text"
      },
      "source": [
        ""
      ]
    },
    {
      "cell_type": "markdown",
      "metadata": {
        "id": "pcPM3VzE0JiR",
        "colab_type": "text"
      },
      "source": [
        ""
      ]
    },
    {
      "cell_type": "markdown",
      "metadata": {
        "id": "dmTT1Ve-0Jky",
        "colab_type": "text"
      },
      "source": [
        ""
      ]
    },
    {
      "cell_type": "markdown",
      "metadata": {
        "id": "Z1r02vOM0JnA",
        "colab_type": "text"
      },
      "source": [
        ""
      ]
    },
    {
      "cell_type": "markdown",
      "metadata": {
        "id": "ffuH2njv0Jpj",
        "colab_type": "text"
      },
      "source": [
        ""
      ]
    },
    {
      "cell_type": "markdown",
      "metadata": {
        "id": "xjo3t5qs0JsP",
        "colab_type": "text"
      },
      "source": [
        ""
      ]
    },
    {
      "cell_type": "markdown",
      "metadata": {
        "id": "sPr6W2xk0Juw",
        "colab_type": "text"
      },
      "source": [
        ""
      ]
    },
    {
      "cell_type": "markdown",
      "metadata": {
        "id": "ZD786toD0JxQ",
        "colab_type": "text"
      },
      "source": [
        ""
      ]
    },
    {
      "cell_type": "markdown",
      "metadata": {
        "id": "blJBq0NX0J2U",
        "colab_type": "text"
      },
      "source": [
        ""
      ]
    },
    {
      "cell_type": "markdown",
      "metadata": {
        "id": "xzIiMBGv0J0J",
        "colab_type": "text"
      },
      "source": [
        ""
      ]
    },
    {
      "cell_type": "markdown",
      "metadata": {
        "id": "WDlGrsZCzfmV",
        "colab_type": "text"
      },
      "source": [
        ""
      ]
    }
  ]
}